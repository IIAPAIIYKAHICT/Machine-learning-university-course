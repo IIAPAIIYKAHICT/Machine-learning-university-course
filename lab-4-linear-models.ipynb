{
 "cells": [
  {
   "cell_type": "code",
   "execution_count": 1,
   "id": "709efab1",
   "metadata": {
    "_cell_guid": "b1076dfc-b9ad-4769-8c92-a6c4dae69d19",
    "_uuid": "8f2839f25d086af736a60e9eeb907d3b93b6e0e5",
    "execution": {
     "iopub.execute_input": "2023-11-15T18:23:02.143554Z",
     "iopub.status.busy": "2023-11-15T18:23:02.142562Z",
     "iopub.status.idle": "2023-11-15T18:23:02.569438Z",
     "shell.execute_reply": "2023-11-15T18:23:02.568160Z"
    },
    "papermill": {
     "duration": 0.444751,
     "end_time": "2023-11-15T18:23:02.572044",
     "exception": false,
     "start_time": "2023-11-15T18:23:02.127293",
     "status": "completed"
    },
    "tags": []
   },
   "outputs": [
    {
     "name": "stdout",
     "output_type": "stream",
     "text": [
      "/kaggle/input/bank-marketing-dataset/bank.csv\n"
     ]
    }
   ],
   "source": [
    "# This Python 3 environment comes with many helpful analytics libraries installed\n",
    "# It is defined by the kaggle/python Docker image: https://github.com/kaggle/docker-python\n",
    "# For example, here's several helpful packages to load\n",
    "\n",
    "import numpy as np # linear algebra\n",
    "import pandas as pd # data processing, CSV file I/O (e.g. pd.read_csv)\n",
    "\n",
    "# Input data files are available in the read-only \"../input/\" directory\n",
    "# For example, running this (by clicking run or pressing Shift+Enter) will list all files under the input directory\n",
    "\n",
    "import os\n",
    "for dirname, _, filenames in os.walk('/kaggle/input'):\n",
    "    for filename in filenames:\n",
    "        print(os.path.join(dirname, filename))\n",
    "\n",
    "# You can write up to 20GB to the current directory (/kaggle/working/) that gets preserved as output when you create a version using \"Save & Run All\" \n",
    "# You can also write temporary files to /kaggle/temp/, but they won't be saved outside of the current session"
   ]
  },
  {
   "cell_type": "markdown",
   "id": "86c6232a",
   "metadata": {
    "papermill": {
     "duration": 0.012939,
     "end_time": "2023-11-15T18:23:02.597903",
     "exception": false,
     "start_time": "2023-11-15T18:23:02.584964",
     "status": "completed"
    },
    "tags": []
   },
   "source": [
    "Firstly, lets start from reading the dataset and looking it's info and numerical feature statistics"
   ]
  },
  {
   "cell_type": "code",
   "execution_count": 2,
   "id": "27b549c2",
   "metadata": {
    "execution": {
     "iopub.execute_input": "2023-11-15T18:23:02.625030Z",
     "iopub.status.busy": "2023-11-15T18:23:02.624484Z",
     "iopub.status.idle": "2023-11-15T18:23:02.749636Z",
     "shell.execute_reply": "2023-11-15T18:23:02.748465Z"
    },
    "papermill": {
     "duration": 0.14185,
     "end_time": "2023-11-15T18:23:02.752462",
     "exception": false,
     "start_time": "2023-11-15T18:23:02.610612",
     "status": "completed"
    },
    "tags": []
   },
   "outputs": [
    {
     "name": "stdout",
     "output_type": "stream",
     "text": [
      "<class 'pandas.core.frame.DataFrame'>\n",
      "RangeIndex: 11162 entries, 0 to 11161\n",
      "Data columns (total 17 columns):\n",
      " #   Column     Non-Null Count  Dtype \n",
      "---  ------     --------------  ----- \n",
      " 0   age        11162 non-null  int64 \n",
      " 1   job        11162 non-null  object\n",
      " 2   marital    11162 non-null  object\n",
      " 3   education  11162 non-null  object\n",
      " 4   default    11162 non-null  object\n",
      " 5   balance    11162 non-null  int64 \n",
      " 6   housing    11162 non-null  object\n",
      " 7   loan       11162 non-null  object\n",
      " 8   contact    11162 non-null  object\n",
      " 9   day        11162 non-null  int64 \n",
      " 10  month      11162 non-null  object\n",
      " 11  duration   11162 non-null  int64 \n",
      " 12  campaign   11162 non-null  int64 \n",
      " 13  pdays      11162 non-null  int64 \n",
      " 14  previous   11162 non-null  int64 \n",
      " 15  poutcome   11162 non-null  object\n",
      " 16  deposit    11162 non-null  object\n",
      "dtypes: int64(7), object(10)\n",
      "memory usage: 1.4+ MB\n",
      "None\n",
      "            count         mean          std     min    25%    50%      75%  \\\n",
      "age       11162.0    41.231948    11.913369    18.0   32.0   39.0    49.00   \n",
      "balance   11162.0  1528.538524  3225.413326 -6847.0  122.0  550.0  1708.00   \n",
      "day       11162.0    15.658036     8.420740     1.0    8.0   15.0    22.00   \n",
      "duration  11162.0   371.993818   347.128386     2.0  138.0  255.0   496.00   \n",
      "campaign  11162.0     2.508421     2.722077     1.0    1.0    2.0     3.00   \n",
      "pdays     11162.0    51.330407   108.758282    -1.0   -1.0   -1.0    20.75   \n",
      "previous  11162.0     0.832557     2.292007     0.0    0.0    0.0     1.00   \n",
      "\n",
      "              max  \n",
      "age          95.0  \n",
      "balance   81204.0  \n",
      "day          31.0  \n",
      "duration   3881.0  \n",
      "campaign     63.0  \n",
      "pdays       854.0  \n",
      "previous     58.0  \n"
     ]
    }
   ],
   "source": [
    "data = pd.read_csv(\"/kaggle/input/bank-marketing-dataset/bank.csv\")\n",
    "print(data.info())\n",
    "print(data.describe().T)"
   ]
  },
  {
   "cell_type": "markdown",
   "id": "148e5013",
   "metadata": {
    "papermill": {
     "duration": 0.012783,
     "end_time": "2023-11-15T18:23:02.778104",
     "exception": false,
     "start_time": "2023-11-15T18:23:02.765321",
     "status": "completed"
    },
    "tags": []
   },
   "source": [
    "So, in this dataset, we are provided with client data. Our target variable is deposit, and the task is to predict, whether some specific client will get a long term deposit or not. As it is a binary variable, it means that we are dealing with classification problem\n",
    "\n"
   ]
  },
  {
   "cell_type": "markdown",
   "id": "9ca729e4",
   "metadata": {
    "papermill": {
     "duration": 0.012354,
     "end_time": "2023-11-15T18:23:02.803261",
     "exception": false,
     "start_time": "2023-11-15T18:23:02.790907",
     "status": "completed"
    },
    "tags": []
   },
   "source": [
    "We see that there are no missing data in our dataset, this is very good for us because linear models tend to work worse with it"
   ]
  },
  {
   "cell_type": "markdown",
   "id": "bd5f89cf",
   "metadata": {
    "papermill": {
     "duration": 0.012612,
     "end_time": "2023-11-15T18:23:02.828487",
     "exception": false,
     "start_time": "2023-11-15T18:23:02.815875",
     "status": "completed"
    },
    "tags": []
   },
   "source": [
    "Now, lets look at the distribution of this target variable, to see if it is balanced, or not."
   ]
  },
  {
   "cell_type": "code",
   "execution_count": 3,
   "id": "43b3cdb4",
   "metadata": {
    "execution": {
     "iopub.execute_input": "2023-11-15T18:23:02.855923Z",
     "iopub.status.busy": "2023-11-15T18:23:02.855349Z",
     "iopub.status.idle": "2023-11-15T18:23:03.145888Z",
     "shell.execute_reply": "2023-11-15T18:23:03.144798Z"
    },
    "papermill": {
     "duration": 0.307243,
     "end_time": "2023-11-15T18:23:03.148453",
     "exception": false,
     "start_time": "2023-11-15T18:23:02.841210",
     "status": "completed"
    },
    "tags": []
   },
   "outputs": [
    {
     "data": {
      "text/plain": [
       "<Axes: xlabel='deposit'>"
      ]
     },
     "execution_count": 3,
     "metadata": {},
     "output_type": "execute_result"
    },
    {
     "data": {
      "image/png": "[encoded data removed]",
      "text/plain": [
       "<Figure size 640x480 with 1 Axes>"
      ]
     },
     "metadata": {},
     "output_type": "display_data"
    }
   ],
   "source": [
    "data.deposit.value_counts().plot(kind='bar')"
   ]
  },
  {
   "cell_type": "markdown",
   "id": "ca622a1c",
   "metadata": {
    "papermill": {
     "duration": 0.01299,
     "end_time": "2023-11-15T18:23:03.174669",
     "exception": false,
     "start_time": "2023-11-15T18:23:03.161679",
     "status": "completed"
    },
    "tags": []
   },
   "source": [
    "We see that our target's distribution is balanced, it's good news for us, because it means that our model won't result in high bias\n",
    "\n",
    "Now, lets start preprocessing our data by first looking at our object variables and determining whether they are ordinal or categorical\n",
    "\n"
   ]
  },
  {
   "cell_type": "code",
   "execution_count": 4,
   "id": "7ca90193",
   "metadata": {
    "execution": {
     "iopub.execute_input": "2023-11-15T18:23:03.203587Z",
     "iopub.status.busy": "2023-11-15T18:23:03.202514Z",
     "iopub.status.idle": "2023-11-15T18:23:03.232269Z",
     "shell.execute_reply": "2023-11-15T18:23:03.231150Z"
    },
    "papermill": {
     "duration": 0.047435,
     "end_time": "2023-11-15T18:23:03.235242",
     "exception": false,
     "start_time": "2023-11-15T18:23:03.187807",
     "status": "completed"
    },
    "tags": []
   },
   "outputs": [
    {
     "name": "stdout",
     "output_type": "stream",
     "text": [
      "job\n",
      "management       2566\n",
      "blue-collar      1944\n",
      "technician       1823\n",
      "admin.           1334\n",
      "services          923\n",
      "retired           778\n",
      "self-employed     405\n",
      "student           360\n",
      "unemployed        357\n",
      "entrepreneur      328\n",
      "housemaid         274\n",
      "unknown            70\n",
      "Name: count, dtype: int64\n",
      "\n",
      "\n",
      "\n",
      "marital\n",
      "married     6351\n",
      "single      3518\n",
      "divorced    1293\n",
      "Name: count, dtype: int64\n",
      "\n",
      "\n",
      "\n",
      "education\n",
      "secondary    5476\n",
      "tertiary     3689\n",
      "primary      1500\n",
      "unknown       497\n",
      "Name: count, dtype: int64\n",
      "\n",
      "\n",
      "\n",
      "default\n",
      "no     10994\n",
      "yes      168\n",
      "Name: count, dtype: int64\n",
      "\n",
      "\n",
      "\n",
      "housing\n",
      "no     5881\n",
      "yes    5281\n",
      "Name: count, dtype: int64\n",
      "\n",
      "\n",
      "\n",
      "loan\n",
      "no     9702\n",
      "yes    1460\n",
      "Name: count, dtype: int64\n",
      "\n",
      "\n",
      "\n",
      "contact\n",
      "cellular     8042\n",
      "unknown      2346\n",
      "telephone     774\n",
      "Name: count, dtype: int64\n",
      "\n",
      "\n",
      "\n",
      "month\n",
      "may    2824\n",
      "aug    1519\n",
      "jul    1514\n",
      "jun    1222\n",
      "nov     943\n",
      "apr     923\n",
      "feb     776\n",
      "oct     392\n",
      "jan     344\n",
      "sep     319\n",
      "mar     276\n",
      "dec     110\n",
      "Name: count, dtype: int64\n",
      "\n",
      "\n",
      "\n",
      "deposit\n",
      "no     5873\n",
      "yes    5289\n",
      "Name: count, dtype: int64\n",
      "\n",
      "\n",
      "\n",
      "poutcome\n",
      "unknown    8326\n",
      "failure    1228\n",
      "success    1071\n",
      "other       537\n",
      "Name: count, dtype: int64\n",
      "\n",
      "\n",
      "\n"
     ]
    }
   ],
   "source": [
    "object_cols = [\"job\", \"marital\", \"education\", \"default\", \n",
    "               \"housing\", \"loan\", \"contact\", \"month\", \"deposit\", \"poutcome\"]\n",
    "for col in object_cols:\n",
    "    print(data[col].value_counts())\n",
    "    print(\"\\n\\n\")"
   ]
  },
  {
   "cell_type": "markdown",
   "id": "ecf9e165",
   "metadata": {
    "papermill": {
     "duration": 0.013205,
     "end_time": "2023-11-15T18:23:03.261971",
     "exception": false,
     "start_time": "2023-11-15T18:23:03.248766",
     "status": "completed"
    },
    "tags": []
   },
   "source": [
    "So, the binary variables for us are deposit, loan, housing and default, we will replace them with ones and zeroes"
   ]
  },
  {
   "cell_type": "code",
   "execution_count": 5,
   "id": "36ccd363",
   "metadata": {
    "execution": {
     "iopub.execute_input": "2023-11-15T18:23:03.291615Z",
     "iopub.status.busy": "2023-11-15T18:23:03.290480Z",
     "iopub.status.idle": "2023-11-15T18:23:03.323269Z",
     "shell.execute_reply": "2023-11-15T18:23:03.322044Z"
    },
    "papermill": {
     "duration": 0.050223,
     "end_time": "2023-11-15T18:23:03.325900",
     "exception": false,
     "start_time": "2023-11-15T18:23:03.275677",
     "status": "completed"
    },
    "tags": []
   },
   "outputs": [
    {
     "name": "stdout",
     "output_type": "stream",
     "text": [
      "<class 'pandas.core.frame.DataFrame'>\n",
      "RangeIndex: 11162 entries, 0 to 11161\n",
      "Data columns (total 17 columns):\n",
      " #   Column     Non-Null Count  Dtype \n",
      "---  ------     --------------  ----- \n",
      " 0   age        11162 non-null  int64 \n",
      " 1   job        11162 non-null  object\n",
      " 2   marital    11162 non-null  object\n",
      " 3   education  11162 non-null  object\n",
      " 4   default    11162 non-null  int64 \n",
      " 5   balance    11162 non-null  int64 \n",
      " 6   housing    11162 non-null  int64 \n",
      " 7   loan       11162 non-null  int64 \n",
      " 8   contact    11162 non-null  object\n",
      " 9   day        11162 non-null  int64 \n",
      " 10  month      11162 non-null  object\n",
      " 11  duration   11162 non-null  int64 \n",
      " 12  campaign   11162 non-null  int64 \n",
      " 13  pdays      11162 non-null  int64 \n",
      " 14  previous   11162 non-null  int64 \n",
      " 15  poutcome   11162 non-null  object\n",
      " 16  deposit    11162 non-null  int64 \n",
      "dtypes: int64(11), object(6)\n",
      "memory usage: 1.4+ MB\n"
     ]
    }
   ],
   "source": [
    "binary_variables = [\"deposit\", \"loan\", \"housing\",\"default\"]\n",
    "for var in binary_variables:\n",
    "    data[var] = data[var].map({\"yes\" : 1, \"no\" : 0})\n",
    "data.info()"
   ]
  },
  {
   "cell_type": "markdown",
   "id": "55336703",
   "metadata": {
    "papermill": {
     "duration": 0.013688,
     "end_time": "2023-11-15T18:23:03.353240",
     "exception": false,
     "start_time": "2023-11-15T18:23:03.339552",
     "status": "completed"
    },
    "tags": []
   },
   "source": [
    "Now, lets look at ordinal variables, in our example, they are education and poutcome, we can't just one-hot encode them, because order matters, so we will preprocess them like this"
   ]
  },
  {
   "cell_type": "code",
   "execution_count": 6,
   "id": "821e17a4",
   "metadata": {
    "execution": {
     "iopub.execute_input": "2023-11-15T18:23:03.382373Z",
     "iopub.status.busy": "2023-11-15T18:23:03.381969Z",
     "iopub.status.idle": "2023-11-15T18:23:03.393951Z",
     "shell.execute_reply": "2023-11-15T18:23:03.392929Z"
    },
    "papermill": {
     "duration": 0.029097,
     "end_time": "2023-11-15T18:23:03.396148",
     "exception": false,
     "start_time": "2023-11-15T18:23:03.367051",
     "status": "completed"
    },
    "tags": []
   },
   "outputs": [
    {
     "data": {
      "text/plain": [
       "education\n",
       "2    5476\n",
       "3    3689\n",
       "1    1500\n",
       "0     497\n",
       "Name: count, dtype: int64"
      ]
     },
     "execution_count": 6,
     "metadata": {},
     "output_type": "execute_result"
    }
   ],
   "source": [
    "education_dict = {\n",
    "    \"unknown\" : 0, \n",
    "    \"primary\" : 1, \n",
    "    \"secondary\" : 2, \n",
    "    \"tertiary\" : 3\n",
    "}\n",
    "data[\"education\"] = data[\"education\"].map(education_dict)\n",
    "data[\"education\"].value_counts()"
   ]
  },
  {
   "cell_type": "code",
   "execution_count": 7,
   "id": "e9521503",
   "metadata": {
    "execution": {
     "iopub.execute_input": "2023-11-15T18:23:03.427176Z",
     "iopub.status.busy": "2023-11-15T18:23:03.426428Z",
     "iopub.status.idle": "2023-11-15T18:23:03.439291Z",
     "shell.execute_reply": "2023-11-15T18:23:03.438249Z"
    },
    "papermill": {
     "duration": 0.030349,
     "end_time": "2023-11-15T18:23:03.441583",
     "exception": false,
     "start_time": "2023-11-15T18:23:03.411234",
     "status": "completed"
    },
    "tags": []
   },
   "outputs": [
    {
     "data": {
      "text/plain": [
       "poutcome\n",
       "0    8326\n",
       "1    1228\n",
       "3    1071\n",
       "2     537\n",
       "Name: count, dtype: int64"
      ]
     },
     "execution_count": 7,
     "metadata": {},
     "output_type": "execute_result"
    }
   ],
   "source": [
    "poutcome_dict = {\n",
    "    \"unknown\" : 0, \n",
    "    \"failure\" : 1, \n",
    "    \"other\" : 2, \n",
    "    \"success\" : 3\n",
    "}\n",
    "data[\"poutcome\"] = data[\"poutcome\"].map(poutcome_dict)\n",
    "data[\"poutcome\"].value_counts()"
   ]
  },
  {
   "cell_type": "markdown",
   "id": "814efd89",
   "metadata": {
    "papermill": {
     "duration": 0.013461,
     "end_time": "2023-11-15T18:23:03.468688",
     "exception": false,
     "start_time": "2023-11-15T18:23:03.455227",
     "status": "completed"
    },
    "tags": []
   },
   "source": [
    "Now, lets one-hot encode the categorical variables\n",
    "\n"
   ]
  },
  {
   "cell_type": "code",
   "execution_count": 8,
   "id": "158a2933",
   "metadata": {
    "execution": {
     "iopub.execute_input": "2023-11-15T18:23:03.498037Z",
     "iopub.status.busy": "2023-11-15T18:23:03.497209Z",
     "iopub.status.idle": "2023-11-15T18:23:03.518843Z",
     "shell.execute_reply": "2023-11-15T18:23:03.518015Z"
    },
    "papermill": {
     "duration": 0.0391,
     "end_time": "2023-11-15T18:23:03.521229",
     "exception": false,
     "start_time": "2023-11-15T18:23:03.482129",
     "status": "completed"
    },
    "tags": []
   },
   "outputs": [],
   "source": [
    "data = pd.get_dummies(data, columns=[\"job\", \"marital\", \"contact\", \"month\"])\n"
   ]
  },
  {
   "cell_type": "code",
   "execution_count": 9,
   "id": "153c7ee7",
   "metadata": {
    "execution": {
     "iopub.execute_input": "2023-11-15T18:23:03.551456Z",
     "iopub.status.busy": "2023-11-15T18:23:03.550814Z",
     "iopub.status.idle": "2023-11-15T18:23:03.566326Z",
     "shell.execute_reply": "2023-11-15T18:23:03.564653Z"
    },
    "papermill": {
     "duration": 0.03334,
     "end_time": "2023-11-15T18:23:03.568574",
     "exception": false,
     "start_time": "2023-11-15T18:23:03.535234",
     "status": "completed"
    },
    "tags": []
   },
   "outputs": [
    {
     "name": "stdout",
     "output_type": "stream",
     "text": [
      "<class 'pandas.core.frame.DataFrame'>\n",
      "RangeIndex: 11162 entries, 0 to 11161\n",
      "Data columns (total 43 columns):\n",
      " #   Column             Non-Null Count  Dtype\n",
      "---  ------             --------------  -----\n",
      " 0   age                11162 non-null  int64\n",
      " 1   education          11162 non-null  int64\n",
      " 2   default            11162 non-null  int64\n",
      " 3   balance            11162 non-null  int64\n",
      " 4   housing            11162 non-null  int64\n",
      " 5   loan               11162 non-null  int64\n",
      " 6   day                11162 non-null  int64\n",
      " 7   duration           11162 non-null  int64\n",
      " 8   campaign           11162 non-null  int64\n",
      " 9   pdays              11162 non-null  int64\n",
      " 10  previous           11162 non-null  int64\n",
      " 11  poutcome           11162 non-null  int64\n",
      " 12  deposit            11162 non-null  int64\n",
      " 13  job_admin.         11162 non-null  bool \n",
      " 14  job_blue-collar    11162 non-null  bool \n",
      " 15  job_entrepreneur   11162 non-null  bool \n",
      " 16  job_housemaid      11162 non-null  bool \n",
      " 17  job_management     11162 non-null  bool \n",
      " 18  job_retired        11162 non-null  bool \n",
      " 19  job_self-employed  11162 non-null  bool \n",
      " 20  job_services       11162 non-null  bool \n",
      " 21  job_student        11162 non-null  bool \n",
      " 22  job_technician     11162 non-null  bool \n",
      " 23  job_unemployed     11162 non-null  bool \n",
      " 24  job_unknown        11162 non-null  bool \n",
      " 25  marital_divorced   11162 non-null  bool \n",
      " 26  marital_married    11162 non-null  bool \n",
      " 27  marital_single     11162 non-null  bool \n",
      " 28  contact_cellular   11162 non-null  bool \n",
      " 29  contact_telephone  11162 non-null  bool \n",
      " 30  contact_unknown    11162 non-null  bool \n",
      " 31  month_apr          11162 non-null  bool \n",
      " 32  month_aug          11162 non-null  bool \n",
      " 33  month_dec          11162 non-null  bool \n",
      " 34  month_feb          11162 non-null  bool \n",
      " 35  month_jan          11162 non-null  bool \n",
      " 36  month_jul          11162 non-null  bool \n",
      " 37  month_jun          11162 non-null  bool \n",
      " 38  month_mar          11162 non-null  bool \n",
      " 39  month_may          11162 non-null  bool \n",
      " 40  month_nov          11162 non-null  bool \n",
      " 41  month_oct          11162 non-null  bool \n",
      " 42  month_sep          11162 non-null  bool \n",
      "dtypes: bool(30), int64(13)\n",
      "memory usage: 1.4 MB\n"
     ]
    }
   ],
   "source": [
    "data.info()"
   ]
  },
  {
   "cell_type": "markdown",
   "id": "8af32311",
   "metadata": {
    "papermill": {
     "duration": 0.014281,
     "end_time": "2023-11-15T18:23:03.596983",
     "exception": false,
     "start_time": "2023-11-15T18:23:03.582702",
     "status": "completed"
    },
    "tags": []
   },
   "source": [
    "Now, lets scale our numerical features"
   ]
  },
  {
   "cell_type": "code",
   "execution_count": 10,
   "id": "9dd8d4c6",
   "metadata": {
    "execution": {
     "iopub.execute_input": "2023-11-15T18:23:03.684770Z",
     "iopub.status.busy": "2023-11-15T18:23:03.683554Z",
     "iopub.status.idle": "2023-11-15T18:23:03.688543Z",
     "shell.execute_reply": "2023-11-15T18:23:03.687706Z"
    },
    "papermill": {
     "duration": 0.079792,
     "end_time": "2023-11-15T18:23:03.690719",
     "exception": false,
     "start_time": "2023-11-15T18:23:03.610927",
     "status": "completed"
    },
    "tags": []
   },
   "outputs": [],
   "source": [
    "num_features = [\"age\", \"balance\", \"day\", \"duration\",\n",
    "                \"campaign\", \"pdays\", \"previous\", \n",
    "                \"poutcome\", \"education\"]"
   ]
  },
  {
   "cell_type": "code",
   "execution_count": 11,
   "id": "d0eb2744",
   "metadata": {
    "execution": {
     "iopub.execute_input": "2023-11-15T18:23:03.721437Z",
     "iopub.status.busy": "2023-11-15T18:23:03.720240Z",
     "iopub.status.idle": "2023-11-15T18:23:04.952232Z",
     "shell.execute_reply": "2023-11-15T18:23:04.951093Z"
    },
    "papermill": {
     "duration": 1.249918,
     "end_time": "2023-11-15T18:23:04.954788",
     "exception": false,
     "start_time": "2023-11-15T18:23:03.704870",
     "status": "completed"
    },
    "tags": []
   },
   "outputs": [
    {
     "data": {
      "text/html": [
       "<div>\n",
       "<style scoped>\n",
       "    .dataframe tbody tr th:only-of-type {\n",
       "        vertical-align: middle;\n",
       "    }\n",
       "\n",
       "    .dataframe tbody tr th {\n",
       "        vertical-align: top;\n",
       "    }\n",
       "\n",
       "    .dataframe thead th {\n",
       "        text-align: right;\n",
       "    }\n",
       "</style>\n",
       "<table border=\"1\" class=\"dataframe\">\n",
       "  <thead>\n",
       "    <tr style=\"text-align: right;\">\n",
       "      <th></th>\n",
       "      <th>count</th>\n",
       "      <th>mean</th>\n",
       "      <th>std</th>\n",
       "      <th>min</th>\n",
       "      <th>25%</th>\n",
       "      <th>50%</th>\n",
       "      <th>75%</th>\n",
       "      <th>max</th>\n",
       "    </tr>\n",
       "  </thead>\n",
       "  <tbody>\n",
       "    <tr>\n",
       "      <th>age</th>\n",
       "      <td>11162.0</td>\n",
       "      <td>0.301714</td>\n",
       "      <td>0.154719</td>\n",
       "      <td>0.0</td>\n",
       "      <td>0.181818</td>\n",
       "      <td>0.272727</td>\n",
       "      <td>0.402597</td>\n",
       "      <td>1.0</td>\n",
       "    </tr>\n",
       "    <tr>\n",
       "      <th>education</th>\n",
       "      <td>11162.0</td>\n",
       "      <td>0.702353</td>\n",
       "      <td>0.264907</td>\n",
       "      <td>0.0</td>\n",
       "      <td>0.666667</td>\n",
       "      <td>0.666667</td>\n",
       "      <td>1.000000</td>\n",
       "      <td>1.0</td>\n",
       "    </tr>\n",
       "    <tr>\n",
       "      <th>default</th>\n",
       "      <td>11162.0</td>\n",
       "      <td>0.015051</td>\n",
       "      <td>0.121761</td>\n",
       "      <td>0.0</td>\n",
       "      <td>0.000000</td>\n",
       "      <td>0.000000</td>\n",
       "      <td>0.000000</td>\n",
       "      <td>1.0</td>\n",
       "    </tr>\n",
       "    <tr>\n",
       "      <th>balance</th>\n",
       "      <td>11162.0</td>\n",
       "      <td>0.095121</td>\n",
       "      <td>0.036631</td>\n",
       "      <td>0.0</td>\n",
       "      <td>0.079147</td>\n",
       "      <td>0.084008</td>\n",
       "      <td>0.097160</td>\n",
       "      <td>1.0</td>\n",
       "    </tr>\n",
       "    <tr>\n",
       "      <th>housing</th>\n",
       "      <td>11162.0</td>\n",
       "      <td>0.473123</td>\n",
       "      <td>0.499299</td>\n",
       "      <td>0.0</td>\n",
       "      <td>0.000000</td>\n",
       "      <td>0.000000</td>\n",
       "      <td>1.000000</td>\n",
       "      <td>1.0</td>\n",
       "    </tr>\n",
       "    <tr>\n",
       "      <th>loan</th>\n",
       "      <td>11162.0</td>\n",
       "      <td>0.130801</td>\n",
       "      <td>0.337198</td>\n",
       "      <td>0.0</td>\n",
       "      <td>0.000000</td>\n",
       "      <td>0.000000</td>\n",
       "      <td>0.000000</td>\n",
       "      <td>1.0</td>\n",
       "    </tr>\n",
       "    <tr>\n",
       "      <th>day</th>\n",
       "      <td>11162.0</td>\n",
       "      <td>0.488601</td>\n",
       "      <td>0.280691</td>\n",
       "      <td>0.0</td>\n",
       "      <td>0.233333</td>\n",
       "      <td>0.466667</td>\n",
       "      <td>0.700000</td>\n",
       "      <td>1.0</td>\n",
       "    </tr>\n",
       "    <tr>\n",
       "      <th>duration</th>\n",
       "      <td>11162.0</td>\n",
       "      <td>0.095384</td>\n",
       "      <td>0.089489</td>\n",
       "      <td>0.0</td>\n",
       "      <td>0.035061</td>\n",
       "      <td>0.065223</td>\n",
       "      <td>0.127352</td>\n",
       "      <td>1.0</td>\n",
       "    </tr>\n",
       "    <tr>\n",
       "      <th>campaign</th>\n",
       "      <td>11162.0</td>\n",
       "      <td>0.024329</td>\n",
       "      <td>0.043904</td>\n",
       "      <td>0.0</td>\n",
       "      <td>0.000000</td>\n",
       "      <td>0.016129</td>\n",
       "      <td>0.032258</td>\n",
       "      <td>1.0</td>\n",
       "    </tr>\n",
       "    <tr>\n",
       "      <th>pdays</th>\n",
       "      <td>11162.0</td>\n",
       "      <td>0.061205</td>\n",
       "      <td>0.127203</td>\n",
       "      <td>0.0</td>\n",
       "      <td>0.000000</td>\n",
       "      <td>0.000000</td>\n",
       "      <td>0.025439</td>\n",
       "      <td>1.0</td>\n",
       "    </tr>\n",
       "    <tr>\n",
       "      <th>previous</th>\n",
       "      <td>11162.0</td>\n",
       "      <td>0.014354</td>\n",
       "      <td>0.039517</td>\n",
       "      <td>0.0</td>\n",
       "      <td>0.000000</td>\n",
       "      <td>0.000000</td>\n",
       "      <td>0.017241</td>\n",
       "      <td>1.0</td>\n",
       "    </tr>\n",
       "    <tr>\n",
       "      <th>poutcome</th>\n",
       "      <td>11162.0</td>\n",
       "      <td>0.164696</td>\n",
       "      <td>0.320064</td>\n",
       "      <td>0.0</td>\n",
       "      <td>0.000000</td>\n",
       "      <td>0.000000</td>\n",
       "      <td>0.333333</td>\n",
       "      <td>1.0</td>\n",
       "    </tr>\n",
       "    <tr>\n",
       "      <th>deposit</th>\n",
       "      <td>11162.0</td>\n",
       "      <td>0.473840</td>\n",
       "      <td>0.499338</td>\n",
       "      <td>0.0</td>\n",
       "      <td>0.000000</td>\n",
       "      <td>0.000000</td>\n",
       "      <td>1.000000</td>\n",
       "      <td>1.0</td>\n",
       "    </tr>\n",
       "  </tbody>\n",
       "</table>\n",
       "</div>"
      ],
      "text/plain": [
       "             count      mean       std  min       25%       50%       75%  max\n",
       "age        11162.0  0.301714  0.154719  0.0  0.181818  0.272727  0.402597  1.0\n",
       "education  11162.0  0.702353  0.264907  0.0  0.666667  0.666667  1.000000  1.0\n",
       "default    11162.0  0.015051  0.121761  0.0  0.000000  0.000000  0.000000  1.0\n",
       "balance    11162.0  0.095121  0.036631  0.0  0.079147  0.084008  0.097160  1.0\n",
       "housing    11162.0  0.473123  0.499299  0.0  0.000000  0.000000  1.000000  1.0\n",
       "loan       11162.0  0.130801  0.337198  0.0  0.000000  0.000000  0.000000  1.0\n",
       "day        11162.0  0.488601  0.280691  0.0  0.233333  0.466667  0.700000  1.0\n",
       "duration   11162.0  0.095384  0.089489  0.0  0.035061  0.065223  0.127352  1.0\n",
       "campaign   11162.0  0.024329  0.043904  0.0  0.000000  0.016129  0.032258  1.0\n",
       "pdays      11162.0  0.061205  0.127203  0.0  0.000000  0.000000  0.025439  1.0\n",
       "previous   11162.0  0.014354  0.039517  0.0  0.000000  0.000000  0.017241  1.0\n",
       "poutcome   11162.0  0.164696  0.320064  0.0  0.000000  0.000000  0.333333  1.0\n",
       "deposit    11162.0  0.473840  0.499338  0.0  0.000000  0.000000  1.000000  1.0"
      ]
     },
     "execution_count": 11,
     "metadata": {},
     "output_type": "execute_result"
    }
   ],
   "source": [
    "from sklearn.preprocessing import MinMaxScaler\n",
    "scaler = MinMaxScaler()\n",
    "data[num_features] = scaler.fit_transform(data[num_features])\n",
    "data.describe().T"
   ]
  },
  {
   "cell_type": "markdown",
   "id": "eee374ba",
   "metadata": {
    "papermill": {
     "duration": 0.014234,
     "end_time": "2023-11-15T18:23:04.983684",
     "exception": false,
     "start_time": "2023-11-15T18:23:04.969450",
     "status": "completed"
    },
    "tags": []
   },
   "source": [
    "Great, now, lets split our data in training and test datasets"
   ]
  },
  {
   "cell_type": "code",
   "execution_count": 12,
   "id": "980fd52a",
   "metadata": {
    "execution": {
     "iopub.execute_input": "2023-11-15T18:23:05.014685Z",
     "iopub.status.busy": "2023-11-15T18:23:05.014260Z",
     "iopub.status.idle": "2023-11-15T18:23:05.021268Z",
     "shell.execute_reply": "2023-11-15T18:23:05.020176Z"
    },
    "papermill": {
     "duration": 0.025481,
     "end_time": "2023-11-15T18:23:05.023720",
     "exception": false,
     "start_time": "2023-11-15T18:23:04.998239",
     "status": "completed"
    },
    "tags": []
   },
   "outputs": [],
   "source": [
    "X, y = data.drop(\"deposit\", axis=1), data.deposit\n"
   ]
  },
  {
   "cell_type": "code",
   "execution_count": 13,
   "id": "b9f3c2d7",
   "metadata": {
    "execution": {
     "iopub.execute_input": "2023-11-15T18:23:05.055035Z",
     "iopub.status.busy": "2023-11-15T18:23:05.054632Z",
     "iopub.status.idle": "2023-11-15T18:23:05.144207Z",
     "shell.execute_reply": "2023-11-15T18:23:05.143251Z"
    },
    "papermill": {
     "duration": 0.108193,
     "end_time": "2023-11-15T18:23:05.146694",
     "exception": false,
     "start_time": "2023-11-15T18:23:05.038501",
     "status": "completed"
    },
    "tags": []
   },
   "outputs": [],
   "source": [
    "from sklearn.model_selection import train_test_split\n",
    "X_train, X_valid, y_train, y_valid = train_test_split(X, y, test_size=0.2, random_state=54)"
   ]
  },
  {
   "cell_type": "markdown",
   "id": "9d7d3fed",
   "metadata": {
    "papermill": {
     "duration": 0.014143,
     "end_time": "2023-11-15T18:23:05.175696",
     "exception": false,
     "start_time": "2023-11-15T18:23:05.161553",
     "status": "completed"
    },
    "tags": []
   },
   "source": [
    "And now, it's finally time to build and train our model\n",
    "\n"
   ]
  },
  {
   "cell_type": "code",
   "execution_count": 14,
   "id": "070a7642",
   "metadata": {
    "execution": {
     "iopub.execute_input": "2023-11-15T18:23:05.206900Z",
     "iopub.status.busy": "2023-11-15T18:23:05.206017Z",
     "iopub.status.idle": "2023-11-15T18:23:05.516110Z",
     "shell.execute_reply": "2023-11-15T18:23:05.514683Z"
    },
    "papermill": {
     "duration": 0.330082,
     "end_time": "2023-11-15T18:23:05.520326",
     "exception": false,
     "start_time": "2023-11-15T18:23:05.190244",
     "status": "completed"
    },
    "tags": []
   },
   "outputs": [
    {
     "name": "stdout",
     "output_type": "stream",
     "text": [
      "Accuracy: 0.8181818181818182\n",
      "f1_score: 0.7974051896207585\n"
     ]
    }
   ],
   "source": [
    "from sklearn.linear_model import LogisticRegression\n",
    "\n",
    "log_reg = LogisticRegression()\n",
    "log_reg.fit(X_train, y_train)\n",
    "y_pred = log_reg.predict(X_valid)\n",
    "\n",
    "from sklearn.metrics import accuracy_score,r2_score, f1_score\n",
    "print(f\"Accuracy: {accuracy_score(y_valid, y_pred)}\")\n",
    "print(f\"f1_score: {f1_score(y_valid, y_pred)}\")"
   ]
  },
  {
   "cell_type": "markdown",
   "id": "54c830d0",
   "metadata": {
    "papermill": {
     "duration": 0.030127,
     "end_time": "2023-11-15T18:23:05.581601",
     "exception": false,
     "start_time": "2023-11-15T18:23:05.551474",
     "status": "completed"
    },
    "tags": []
   },
   "source": [
    "Alright, so, we got a pretty decent accuracy score, which means that our model has answered correctly in 81% of scenarios, but we also got a good f1 score, which means for us that our model has a good balance between precision and recall."
   ]
  },
  {
   "cell_type": "markdown",
   "id": "0e3ab07d",
   "metadata": {
    "papermill": {
     "duration": 0.02037,
     "end_time": "2023-11-15T18:23:05.632698",
     "exception": false,
     "start_time": "2023-11-15T18:23:05.612328",
     "status": "completed"
    },
    "tags": []
   },
   "source": [
    "Now, let's apply different kinds of regularization for our model, to prevent it from overfitting, and also to balance variance and bias."
   ]
  },
  {
   "cell_type": "markdown",
   "id": "0742d50a",
   "metadata": {
    "papermill": {
     "duration": 0.014123,
     "end_time": "2023-11-15T18:23:05.661440",
     "exception": false,
     "start_time": "2023-11-15T18:23:05.647317",
     "status": "completed"
    },
    "tags": []
   },
   "source": [
    "# L1\n"
   ]
  },
  {
   "cell_type": "code",
   "execution_count": 15,
   "id": "53ea2b67",
   "metadata": {
    "execution": {
     "iopub.execute_input": "2023-11-15T18:23:05.691786Z",
     "iopub.status.busy": "2023-11-15T18:23:05.691384Z",
     "iopub.status.idle": "2023-11-15T18:23:45.310859Z",
     "shell.execute_reply": "2023-11-15T18:23:45.309623Z"
    },
    "papermill": {
     "duration": 39.653266,
     "end_time": "2023-11-15T18:23:45.329075",
     "exception": false,
     "start_time": "2023-11-15T18:23:05.675809",
     "status": "completed"
    },
    "tags": []
   },
   "outputs": [
    {
     "data": {
      "text/html": [
       "<style>#sk-container-id-1 {color: black;background-color: white;}#sk-container-id-1 pre{padding: 0;}#sk-container-id-1 div.sk-toggleable {background-color: white;}#sk-container-id-1 label.sk-toggleable__label {cursor: pointer;display: block;width: 100%;margin-bottom: 0;padding: 0.3em;box-sizing: border-box;text-align: center;}#sk-container-id-1 label.sk-toggleable__label-arrow:before {content: \"▸\";float: left;margin-right: 0.25em;color: #696969;}#sk-container-id-1 label.sk-toggleable__label-arrow:hover:before {color: black;}#sk-container-id-1 div.sk-estimator:hover label.sk-toggleable__label-arrow:before {color: black;}#sk-container-id-1 div.sk-toggleable__content {max-height: 0;max-width: 0;overflow: hidden;text-align: left;background-color: #f0f8ff;}#sk-container-id-1 div.sk-toggleable__content pre {margin: 0.2em;color: black;border-radius: 0.25em;background-color: #f0f8ff;}#sk-container-id-1 input.sk-toggleable__control:checked~div.sk-toggleable__content {max-height: 200px;max-width: 100%;overflow: auto;}#sk-container-id-1 input.sk-toggleable__control:checked~label.sk-toggleable__label-arrow:before {content: \"▾\";}#sk-container-id-1 div.sk-estimator input.sk-toggleable__control:checked~label.sk-toggleable__label {background-color: #d4ebff;}#sk-container-id-1 div.sk-label input.sk-toggleable__control:checked~label.sk-toggleable__label {background-color: #d4ebff;}#sk-container-id-1 input.sk-hidden--visually {border: 0;clip: rect(1px 1px 1px 1px);clip: rect(1px, 1px, 1px, 1px);height: 1px;margin: -1px;overflow: hidden;padding: 0;position: absolute;width: 1px;}#sk-container-id-1 div.sk-estimator {font-family: monospace;background-color: #f0f8ff;border: 1px dotted black;border-radius: 0.25em;box-sizing: border-box;margin-bottom: 0.5em;}#sk-container-id-1 div.sk-estimator:hover {background-color: #d4ebff;}#sk-container-id-1 div.sk-parallel-item::after {content: \"\";width: 100%;border-bottom: 1px solid gray;flex-grow: 1;}#sk-container-id-1 div.sk-label:hover label.sk-toggleable__label {background-color: #d4ebff;}#sk-container-id-1 div.sk-serial::before {content: \"\";position: absolute;border-left: 1px solid gray;box-sizing: border-box;top: 0;bottom: 0;left: 50%;z-index: 0;}#sk-container-id-1 div.sk-serial {display: flex;flex-direction: column;align-items: center;background-color: white;padding-right: 0.2em;padding-left: 0.2em;position: relative;}#sk-container-id-1 div.sk-item {position: relative;z-index: 1;}#sk-container-id-1 div.sk-parallel {display: flex;align-items: stretch;justify-content: center;background-color: white;position: relative;}#sk-container-id-1 div.sk-item::before, #sk-container-id-1 div.sk-parallel-item::before {content: \"\";position: absolute;border-left: 1px solid gray;box-sizing: border-box;top: 0;bottom: 0;left: 50%;z-index: -1;}#sk-container-id-1 div.sk-parallel-item {display: flex;flex-direction: column;z-index: 1;position: relative;background-color: white;}#sk-container-id-1 div.sk-parallel-item:first-child::after {align-self: flex-end;width: 50%;}#sk-container-id-1 div.sk-parallel-item:last-child::after {align-self: flex-start;width: 50%;}#sk-container-id-1 div.sk-parallel-item:only-child::after {width: 0;}#sk-container-id-1 div.sk-dashed-wrapped {border: 1px dashed gray;margin: 0 0.4em 0.5em 0.4em;box-sizing: border-box;padding-bottom: 0.4em;background-color: white;}#sk-container-id-1 div.sk-label label {font-family: monospace;font-weight: bold;display: inline-block;line-height: 1.2em;}#sk-container-id-1 div.sk-label-container {text-align: center;}#sk-container-id-1 div.sk-container {/* jupyter's `normalize.less` sets `[hidden] { display: none; }` but bootstrap.min.css set `[hidden] { display: none !important; }` so we also need the `!important` here to be able to override the default hidden behavior on the sphinx rendered scikit-learn.org. See: https://github.com/scikit-learn/scikit-learn/issues/21755 */display: inline-block !important;position: relative;}#sk-container-id-1 div.sk-text-repr-fallback {display: none;}</style><div id=\"sk-container-id-1\" class=\"sk-top-container\"><div class=\"sk-text-repr-fallback\"><pre>GridSearchCV(cv=5,\n",
       "             estimator=LogisticRegression(penalty=&#x27;l1&#x27;, solver=&#x27;liblinear&#x27;),\n",
       "             param_grid={&#x27;C&#x27;: array([1.00000000e-03, 2.06913808e-03, 4.28133240e-03, 8.85866790e-03,\n",
       "       1.83298071e-02, 3.79269019e-02, 7.84759970e-02, 1.62377674e-01,\n",
       "       3.35981829e-01, 6.95192796e-01, 1.43844989e+00, 2.97635144e+00,\n",
       "       6.15848211e+00, 1.27427499e+01, 2.63665090e+01, 5.45559478e+01,\n",
       "       1.12883789e+02, 2.33572147e+02, 4.83293024e+02, 1.00000000e+03])},\n",
       "             scoring=&#x27;f1&#x27;)</pre><b>In a Jupyter environment, please rerun this cell to show the HTML representation or trust the notebook. <br />On GitHub, the HTML representation is unable to render, please try loading this page with nbviewer.org.</b></div><div class=\"sk-container\" hidden><div class=\"sk-item sk-dashed-wrapped\"><div class=\"sk-label-container\"><div class=\"sk-label sk-toggleable\"><input class=\"sk-toggleable__control sk-hidden--visually\" id=\"sk-estimator-id-1\" type=\"checkbox\" ><label for=\"sk-estimator-id-1\" class=\"sk-toggleable__label sk-toggleable__label-arrow\">GridSearchCV</label><div class=\"sk-toggleable__content\"><pre>GridSearchCV(cv=5,\n",
       "             estimator=LogisticRegression(penalty=&#x27;l1&#x27;, solver=&#x27;liblinear&#x27;),\n",
       "             param_grid={&#x27;C&#x27;: array([1.00000000e-03, 2.06913808e-03, 4.28133240e-03, 8.85866790e-03,\n",
       "       1.83298071e-02, 3.79269019e-02, 7.84759970e-02, 1.62377674e-01,\n",
       "       3.35981829e-01, 6.95192796e-01, 1.43844989e+00, 2.97635144e+00,\n",
       "       6.15848211e+00, 1.27427499e+01, 2.63665090e+01, 5.45559478e+01,\n",
       "       1.12883789e+02, 2.33572147e+02, 4.83293024e+02, 1.00000000e+03])},\n",
       "             scoring=&#x27;f1&#x27;)</pre></div></div></div><div class=\"sk-parallel\"><div class=\"sk-parallel-item\"><div class=\"sk-item\"><div class=\"sk-label-container\"><div class=\"sk-label sk-toggleable\"><input class=\"sk-toggleable__control sk-hidden--visually\" id=\"sk-estimator-id-2\" type=\"checkbox\" ><label for=\"sk-estimator-id-2\" class=\"sk-toggleable__label sk-toggleable__label-arrow\">estimator: LogisticRegression</label><div class=\"sk-toggleable__content\"><pre>LogisticRegression(penalty=&#x27;l1&#x27;, solver=&#x27;liblinear&#x27;)</pre></div></div></div><div class=\"sk-serial\"><div class=\"sk-item\"><div class=\"sk-estimator sk-toggleable\"><input class=\"sk-toggleable__control sk-hidden--visually\" id=\"sk-estimator-id-3\" type=\"checkbox\" ><label for=\"sk-estimator-id-3\" class=\"sk-toggleable__label sk-toggleable__label-arrow\">LogisticRegression</label><div class=\"sk-toggleable__content\"><pre>LogisticRegression(penalty=&#x27;l1&#x27;, solver=&#x27;liblinear&#x27;)</pre></div></div></div></div></div></div></div></div></div></div>"
      ],
      "text/plain": [
       "GridSearchCV(cv=5,\n",
       "             estimator=LogisticRegression(penalty='l1', solver='liblinear'),\n",
       "             param_grid={'C': array([1.00000000e-03, 2.06913808e-03, 4.28133240e-03, 8.85866790e-03,\n",
       "       1.83298071e-02, 3.79269019e-02, 7.84759970e-02, 1.62377674e-01,\n",
       "       3.35981829e-01, 6.95192796e-01, 1.43844989e+00, 2.97635144e+00,\n",
       "       6.15848211e+00, 1.27427499e+01, 2.63665090e+01, 5.45559478e+01,\n",
       "       1.12883789e+02, 2.33572147e+02, 4.83293024e+02, 1.00000000e+03])},\n",
       "             scoring='f1')"
      ]
     },
     "execution_count": 15,
     "metadata": {},
     "output_type": "execute_result"
    }
   ],
   "source": [
    "from sklearn.model_selection import GridSearchCV\n",
    "log_reg = LogisticRegression(solver='liblinear', penalty='l1')\n",
    "\n",
    "C_values = {'C': np.logspace(-3, 3, 20)}\n",
    "logreg_grid = GridSearchCV(log_reg, C_values, cv=5, scoring='f1')\n",
    "logreg_grid.fit(X_train, y_train)"
   ]
  },
  {
   "cell_type": "code",
   "execution_count": 16,
   "id": "07ee9520",
   "metadata": {
    "execution": {
     "iopub.execute_input": "2023-11-15T18:23:45.361375Z",
     "iopub.status.busy": "2023-11-15T18:23:45.360998Z",
     "iopub.status.idle": "2023-11-15T18:23:45.366504Z",
     "shell.execute_reply": "2023-11-15T18:23:45.365435Z"
    },
    "papermill": {
     "duration": 0.025322,
     "end_time": "2023-11-15T18:23:45.369449",
     "exception": false,
     "start_time": "2023-11-15T18:23:45.344127",
     "status": "completed"
    },
    "tags": []
   },
   "outputs": [
    {
     "name": "stdout",
     "output_type": "stream",
     "text": [
      "{'C': 1.438449888287663}\n",
      "0.8104435823440685\n"
     ]
    }
   ],
   "source": [
    "print(logreg_grid.best_params_)\n",
    "print(logreg_grid.best_score_)"
   ]
  },
  {
   "cell_type": "code",
   "execution_count": 17,
   "id": "3ab277f3",
   "metadata": {
    "execution": {
     "iopub.execute_input": "2023-11-15T18:23:45.402509Z",
     "iopub.status.busy": "2023-11-15T18:23:45.402061Z",
     "iopub.status.idle": "2023-11-15T18:23:45.422799Z",
     "shell.execute_reply": "2023-11-15T18:23:45.422023Z"
    },
    "papermill": {
     "duration": 0.040812,
     "end_time": "2023-11-15T18:23:45.425596",
     "exception": false,
     "start_time": "2023-11-15T18:23:45.384784",
     "status": "completed"
    },
    "tags": []
   },
   "outputs": [
    {
     "name": "stdout",
     "output_type": "stream",
     "text": [
      "    mean_fit_time  std_fit_time  mean_score_time  std_score_time     param_C  \\\n",
      "0        0.031269      0.006420         0.012280        0.001216       0.001   \n",
      "1        0.034181      0.000459         0.012800        0.000178    0.002069   \n",
      "2        0.042099      0.001776         0.013223        0.000117    0.004281   \n",
      "3        0.043146      0.000808         0.013101        0.000180    0.008859   \n",
      "4        0.056331      0.003904         0.013152        0.000159     0.01833   \n",
      "5        0.066485      0.001653         0.013459        0.000358    0.037927   \n",
      "6        0.092766      0.004730         0.013270        0.000136    0.078476   \n",
      "7        0.127570      0.011593         0.010701        0.001278    0.162378   \n",
      "8        0.160506      0.010855         0.009131        0.001040    0.335982   \n",
      "9        0.234985      0.018258         0.009730        0.000156    0.695193   \n",
      "10       0.436826      0.073539         0.009772        0.000168     1.43845   \n",
      "11       0.686869      0.046069         0.009869        0.000242    2.976351   \n",
      "12       1.647376      0.426932         0.009693        0.000373    6.158482   \n",
      "13       1.818537      0.461273         0.009837        0.000221    12.74275   \n",
      "14       0.746380      0.083255         0.009762        0.000068   26.366509   \n",
      "15       0.873082      0.235616         0.009911        0.000217   54.555948   \n",
      "16       0.107789      0.004854         0.012300        0.001309  112.883789   \n",
      "17       0.165600      0.124520         0.012601        0.001429  233.572147   \n",
      "18       0.099649      0.002610         0.013228        0.000390  483.293024   \n",
      "19       0.101257      0.006109         0.012467        0.001017      1000.0   \n",
      "\n",
      "                         params  split0_test_score  split1_test_score  \\\n",
      "0                  {'C': 0.001}           0.000000           0.000000   \n",
      "1    {'C': 0.00206913808111479}           0.000000           0.000000   \n",
      "2   {'C': 0.004281332398719396}           0.435294           0.620173   \n",
      "3   {'C': 0.008858667904100823}           0.692718           0.709302   \n",
      "4   {'C': 0.018329807108324356}           0.765021           0.787772   \n",
      "5     {'C': 0.0379269019073225}           0.798813           0.811254   \n",
      "6    {'C': 0.07847599703514611}           0.803337           0.817809   \n",
      "7     {'C': 0.1623776739188721}           0.810232           0.816686   \n",
      "8     {'C': 0.3359818286283781}           0.815385           0.813899   \n",
      "9     {'C': 0.6951927961775606}           0.812796           0.813459   \n",
      "10     {'C': 1.438449888287663}           0.817052           0.812279   \n",
      "11     {'C': 2.976351441631316}           0.817751           0.812500   \n",
      "12     {'C': 6.158482110660261}           0.818451           0.812500   \n",
      "13    {'C': 12.742749857031322}           0.817751           0.812500   \n",
      "14    {'C': 26.366508987303554}           0.818451           0.812021   \n",
      "15    {'C': 54.555947811685144}           0.818451           0.812021   \n",
      "16    {'C': 112.88378916846884}           0.818451           0.812021   \n",
      "17    {'C': 233.57214690901213}           0.818451           0.812021   \n",
      "18     {'C': 483.2930238571752}           0.818451           0.812021   \n",
      "19                {'C': 1000.0}           0.818451           0.812021   \n",
      "\n",
      "    split2_test_score  split3_test_score  split4_test_score  mean_test_score  \\\n",
      "0            0.000000           0.000000           0.000000         0.000000   \n",
      "1            0.000000           0.000000           0.000000         0.000000   \n",
      "2            0.606848           0.428212           0.452956         0.508696   \n",
      "3            0.709058           0.696897           0.722543         0.706104   \n",
      "4            0.783133           0.768953           0.779481         0.776872   \n",
      "5            0.801462           0.780048           0.796680         0.797652   \n",
      "6            0.815629           0.793976           0.804965         0.807143   \n",
      "7            0.816302           0.793939           0.805457         0.808523   \n",
      "8            0.819613           0.794421           0.807783         0.810220   \n",
      "9            0.818678           0.797084           0.804965         0.809396   \n",
      "10           0.820109           0.797814           0.804965         0.810444   \n",
      "11           0.818402           0.799029           0.804258         0.810388   \n",
      "12           0.818402           0.799272           0.803550         0.810435   \n",
      "13           0.818402           0.799029           0.803550         0.810246   \n",
      "14           0.818402           0.799272           0.804026         0.810434   \n",
      "15           0.818402           0.799272           0.804026         0.810434   \n",
      "16           0.818402           0.799272           0.804026         0.810434   \n",
      "17           0.818402           0.799272           0.804026         0.810434   \n",
      "18           0.818402           0.799272           0.804026         0.810434   \n",
      "19           0.818402           0.799272           0.804026         0.810434   \n",
      "\n",
      "    std_test_score  rank_test_score  \n",
      "0         0.000000               19  \n",
      "1         0.000000               19  \n",
      "2         0.086062               18  \n",
      "3         0.010518               17  \n",
      "4         0.008579               16  \n",
      "5         0.010117               15  \n",
      "6         0.008699               14  \n",
      "7         0.008392               13  \n",
      "8         0.008763               11  \n",
      "9         0.007556               12  \n",
      "10        0.008124                1  \n",
      "11        0.007609                9  \n",
      "12        0.007797                2  \n",
      "13        0.007728               10  \n",
      "14        0.007693                3  \n",
      "15        0.007693                3  \n",
      "16        0.007693                3  \n",
      "17        0.007693                3  \n",
      "18        0.007693                3  \n",
      "19        0.007693                3  \n"
     ]
    }
   ],
   "source": [
    "results_df = pd.DataFrame(logreg_grid.cv_results_)\n",
    "print(results_df)"
   ]
  },
  {
   "cell_type": "code",
   "execution_count": 18,
   "id": "69dc5e2f",
   "metadata": {
    "execution": {
     "iopub.execute_input": "2023-11-15T18:23:45.458621Z",
     "iopub.status.busy": "2023-11-15T18:23:45.457874Z",
     "iopub.status.idle": "2023-11-15T18:23:45.733785Z",
     "shell.execute_reply": "2023-11-15T18:23:45.732834Z"
    },
    "papermill": {
     "duration": 0.295118,
     "end_time": "2023-11-15T18:23:45.736204",
     "exception": false,
     "start_time": "2023-11-15T18:23:45.441086",
     "status": "completed"
    },
    "tags": []
   },
   "outputs": [
    {
     "data": {
      "image/png": "[encoded data removed]",
      "text/plain": [
       "<Figure size 640x480 with 1 Axes>"
      ]
     },
     "metadata": {},
     "output_type": "display_data"
    }
   ],
   "source": [
    "import matplotlib.pyplot as plt\n",
    "results_df = pd.DataFrame(logreg_grid.cv_results_)\n",
    "plt.plot(results_df['param_C'], results_df['mean_test_score'])\n",
    "\n",
    "\n",
    "plt.xlabel('C')\n",
    "plt.ylabel('Test accuracy')\n",
    "plt.title('Validation curve')\n",
    "plt.show()"
   ]
  },
  {
   "cell_type": "markdown",
   "id": "1e3ec7ba",
   "metadata": {
    "papermill": {
     "duration": 0.01549,
     "end_time": "2023-11-15T18:23:45.767545",
     "exception": false,
     "start_time": "2023-11-15T18:23:45.752055",
     "status": "completed"
    },
    "tags": []
   },
   "source": [
    "# L2"
   ]
  },
  {
   "cell_type": "code",
   "execution_count": 19,
   "id": "b557a6fc",
   "metadata": {
    "execution": {
     "iopub.execute_input": "2023-11-15T18:23:45.800720Z",
     "iopub.status.busy": "2023-11-15T18:23:45.800277Z",
     "iopub.status.idle": "2023-11-15T18:23:57.242347Z",
     "shell.execute_reply": "2023-11-15T18:23:57.241180Z"
    },
    "papermill": {
     "duration": 11.461765,
     "end_time": "2023-11-15T18:23:57.245026",
     "exception": false,
     "start_time": "2023-11-15T18:23:45.783261",
     "status": "completed"
    },
    "tags": []
   },
   "outputs": [
    {
     "data": {
      "text/html": [
       "<style>#sk-container-id-2 {color: black;background-color: white;}#sk-container-id-2 pre{padding: 0;}#sk-container-id-2 div.sk-toggleable {background-color: white;}#sk-container-id-2 label.sk-toggleable__label {cursor: pointer;display: block;width: 100%;margin-bottom: 0;padding: 0.3em;box-sizing: border-box;text-align: center;}#sk-container-id-2 label.sk-toggleable__label-arrow:before {content: \"▸\";float: left;margin-right: 0.25em;color: #696969;}#sk-container-id-2 label.sk-toggleable__label-arrow:hover:before {color: black;}#sk-container-id-2 div.sk-estimator:hover label.sk-toggleable__label-arrow:before {color: black;}#sk-container-id-2 div.sk-toggleable__content {max-height: 0;max-width: 0;overflow: hidden;text-align: left;background-color: #f0f8ff;}#sk-container-id-2 div.sk-toggleable__content pre {margin: 0.2em;color: black;border-radius: 0.25em;background-color: #f0f8ff;}#sk-container-id-2 input.sk-toggleable__control:checked~div.sk-toggleable__content {max-height: 200px;max-width: 100%;overflow: auto;}#sk-container-id-2 input.sk-toggleable__control:checked~label.sk-toggleable__label-arrow:before {content: \"▾\";}#sk-container-id-2 div.sk-estimator input.sk-toggleable__control:checked~label.sk-toggleable__label {background-color: #d4ebff;}#sk-container-id-2 div.sk-label input.sk-toggleable__control:checked~label.sk-toggleable__label {background-color: #d4ebff;}#sk-container-id-2 input.sk-hidden--visually {border: 0;clip: rect(1px 1px 1px 1px);clip: rect(1px, 1px, 1px, 1px);height: 1px;margin: -1px;overflow: hidden;padding: 0;position: absolute;width: 1px;}#sk-container-id-2 div.sk-estimator {font-family: monospace;background-color: #f0f8ff;border: 1px dotted black;border-radius: 0.25em;box-sizing: border-box;margin-bottom: 0.5em;}#sk-container-id-2 div.sk-estimator:hover {background-color: #d4ebff;}#sk-container-id-2 div.sk-parallel-item::after {content: \"\";width: 100%;border-bottom: 1px solid gray;flex-grow: 1;}#sk-container-id-2 div.sk-label:hover label.sk-toggleable__label {background-color: #d4ebff;}#sk-container-id-2 div.sk-serial::before {content: \"\";position: absolute;border-left: 1px solid gray;box-sizing: border-box;top: 0;bottom: 0;left: 50%;z-index: 0;}#sk-container-id-2 div.sk-serial {display: flex;flex-direction: column;align-items: center;background-color: white;padding-right: 0.2em;padding-left: 0.2em;position: relative;}#sk-container-id-2 div.sk-item {position: relative;z-index: 1;}#sk-container-id-2 div.sk-parallel {display: flex;align-items: stretch;justify-content: center;background-color: white;position: relative;}#sk-container-id-2 div.sk-item::before, #sk-container-id-2 div.sk-parallel-item::before {content: \"\";position: absolute;border-left: 1px solid gray;box-sizing: border-box;top: 0;bottom: 0;left: 50%;z-index: -1;}#sk-container-id-2 div.sk-parallel-item {display: flex;flex-direction: column;z-index: 1;position: relative;background-color: white;}#sk-container-id-2 div.sk-parallel-item:first-child::after {align-self: flex-end;width: 50%;}#sk-container-id-2 div.sk-parallel-item:last-child::after {align-self: flex-start;width: 50%;}#sk-container-id-2 div.sk-parallel-item:only-child::after {width: 0;}#sk-container-id-2 div.sk-dashed-wrapped {border: 1px dashed gray;margin: 0 0.4em 0.5em 0.4em;box-sizing: border-box;padding-bottom: 0.4em;background-color: white;}#sk-container-id-2 div.sk-label label {font-family: monospace;font-weight: bold;display: inline-block;line-height: 1.2em;}#sk-container-id-2 div.sk-label-container {text-align: center;}#sk-container-id-2 div.sk-container {/* jupyter's `normalize.less` sets `[hidden] { display: none; }` but bootstrap.min.css set `[hidden] { display: none !important; }` so we also need the `!important` here to be able to override the default hidden behavior on the sphinx rendered scikit-learn.org. See: https://github.com/scikit-learn/scikit-learn/issues/21755 */display: inline-block !important;position: relative;}#sk-container-id-2 div.sk-text-repr-fallback {display: none;}</style><div id=\"sk-container-id-2\" class=\"sk-top-container\"><div class=\"sk-text-repr-fallback\"><pre>GridSearchCV(cv=5, estimator=LogisticRegression(solver=&#x27;liblinear&#x27;),\n",
       "             param_grid={&#x27;C&#x27;: array([1.00000000e-03, 2.06913808e-03, 4.28133240e-03, 8.85866790e-03,\n",
       "       1.83298071e-02, 3.79269019e-02, 7.84759970e-02, 1.62377674e-01,\n",
       "       3.35981829e-01, 6.95192796e-01, 1.43844989e+00, 2.97635144e+00,\n",
       "       6.15848211e+00, 1.27427499e+01, 2.63665090e+01, 5.45559478e+01,\n",
       "       1.12883789e+02, 2.33572147e+02, 4.83293024e+02, 1.00000000e+03])},\n",
       "             scoring=&#x27;f1&#x27;)</pre><b>In a Jupyter environment, please rerun this cell to show the HTML representation or trust the notebook. <br />On GitHub, the HTML representation is unable to render, please try loading this page with nbviewer.org.</b></div><div class=\"sk-container\" hidden><div class=\"sk-item sk-dashed-wrapped\"><div class=\"sk-label-container\"><div class=\"sk-label sk-toggleable\"><input class=\"sk-toggleable__control sk-hidden--visually\" id=\"sk-estimator-id-4\" type=\"checkbox\" ><label for=\"sk-estimator-id-4\" class=\"sk-toggleable__label sk-toggleable__label-arrow\">GridSearchCV</label><div class=\"sk-toggleable__content\"><pre>GridSearchCV(cv=5, estimator=LogisticRegression(solver=&#x27;liblinear&#x27;),\n",
       "             param_grid={&#x27;C&#x27;: array([1.00000000e-03, 2.06913808e-03, 4.28133240e-03, 8.85866790e-03,\n",
       "       1.83298071e-02, 3.79269019e-02, 7.84759970e-02, 1.62377674e-01,\n",
       "       3.35981829e-01, 6.95192796e-01, 1.43844989e+00, 2.97635144e+00,\n",
       "       6.15848211e+00, 1.27427499e+01, 2.63665090e+01, 5.45559478e+01,\n",
       "       1.12883789e+02, 2.33572147e+02, 4.83293024e+02, 1.00000000e+03])},\n",
       "             scoring=&#x27;f1&#x27;)</pre></div></div></div><div class=\"sk-parallel\"><div class=\"sk-parallel-item\"><div class=\"sk-item\"><div class=\"sk-label-container\"><div class=\"sk-label sk-toggleable\"><input class=\"sk-toggleable__control sk-hidden--visually\" id=\"sk-estimator-id-5\" type=\"checkbox\" ><label for=\"sk-estimator-id-5\" class=\"sk-toggleable__label sk-toggleable__label-arrow\">estimator: LogisticRegression</label><div class=\"sk-toggleable__content\"><pre>LogisticRegression(solver=&#x27;liblinear&#x27;)</pre></div></div></div><div class=\"sk-serial\"><div class=\"sk-item\"><div class=\"sk-estimator sk-toggleable\"><input class=\"sk-toggleable__control sk-hidden--visually\" id=\"sk-estimator-id-6\" type=\"checkbox\" ><label for=\"sk-estimator-id-6\" class=\"sk-toggleable__label sk-toggleable__label-arrow\">LogisticRegression</label><div class=\"sk-toggleable__content\"><pre>LogisticRegression(solver=&#x27;liblinear&#x27;)</pre></div></div></div></div></div></div></div></div></div></div>"
      ],
      "text/plain": [
       "GridSearchCV(cv=5, estimator=LogisticRegression(solver='liblinear'),\n",
       "             param_grid={'C': array([1.00000000e-03, 2.06913808e-03, 4.28133240e-03, 8.85866790e-03,\n",
       "       1.83298071e-02, 3.79269019e-02, 7.84759970e-02, 1.62377674e-01,\n",
       "       3.35981829e-01, 6.95192796e-01, 1.43844989e+00, 2.97635144e+00,\n",
       "       6.15848211e+00, 1.27427499e+01, 2.63665090e+01, 5.45559478e+01,\n",
       "       1.12883789e+02, 2.33572147e+02, 4.83293024e+02, 1.00000000e+03])},\n",
       "             scoring='f1')"
      ]
     },
     "execution_count": 19,
     "metadata": {},
     "output_type": "execute_result"
    }
   ],
   "source": [
    "from sklearn.model_selection import GridSearchCV\n",
    "\n",
    "log_reg = LogisticRegression(solver='liblinear')\n",
    "\n",
    "C_values = {'C': np.logspace(-3, 3, 20)}\n",
    "logreg_grid = GridSearchCV(log_reg, C_values, cv=5, scoring='f1')\n",
    "logreg_grid.fit(X_train, y_train)"
   ]
  },
  {
   "cell_type": "code",
   "execution_count": 20,
   "id": "75dfaaf2",
   "metadata": {
    "execution": {
     "iopub.execute_input": "2023-11-15T18:23:57.279430Z",
     "iopub.status.busy": "2023-11-15T18:23:57.278279Z",
     "iopub.status.idle": "2023-11-15T18:23:57.283863Z",
     "shell.execute_reply": "2023-11-15T18:23:57.283052Z"
    },
    "papermill": {
     "duration": 0.024977,
     "end_time": "2023-11-15T18:23:57.285992",
     "exception": false,
     "start_time": "2023-11-15T18:23:57.261015",
     "status": "completed"
    },
    "tags": []
   },
   "outputs": [
    {
     "name": "stdout",
     "output_type": "stream",
     "text": [
      "{'C': 26.366508987303554}\n",
      "0.8107629173628783\n"
     ]
    }
   ],
   "source": [
    "print(logreg_grid.best_params_)\n",
    "print(logreg_grid.best_score_)"
   ]
  },
  {
   "cell_type": "code",
   "execution_count": 21,
   "id": "479aa7c3",
   "metadata": {
    "execution": {
     "iopub.execute_input": "2023-11-15T18:23:57.320001Z",
     "iopub.status.busy": "2023-11-15T18:23:57.319605Z",
     "iopub.status.idle": "2023-11-15T18:23:57.618526Z",
     "shell.execute_reply": "2023-11-15T18:23:57.617281Z"
    },
    "papermill": {
     "duration": 0.318618,
     "end_time": "2023-11-15T18:23:57.621100",
     "exception": false,
     "start_time": "2023-11-15T18:23:57.302482",
     "status": "completed"
    },
    "tags": []
   },
   "outputs": [
    {
     "data": {
      "image/png": "[encoded data removed]",
      "text/plain": [
       "<Figure size 640x480 with 1 Axes>"
      ]
     },
     "metadata": {},
     "output_type": "display_data"
    }
   ],
   "source": [
    "results_df = pd.DataFrame(logreg_grid.cv_results_)\n",
    "plt.plot(results_df['param_C'], results_df['mean_test_score'])\n",
    "\n",
    "# Подписываем оси и график\n",
    "plt.xlabel('C')\n",
    "plt.ylabel('Test accuracy')\n",
    "plt.title('Validation curve')\n",
    "plt.show()"
   ]
  },
  {
   "cell_type": "markdown",
   "id": "c1ef7906",
   "metadata": {
    "papermill": {
     "duration": 0.016955,
     "end_time": "2023-11-15T18:23:57.655911",
     "exception": false,
     "start_time": "2023-11-15T18:23:57.638956",
     "status": "completed"
    },
    "tags": []
   },
   "source": [
    "# ElasticNet"
   ]
  },
  {
   "cell_type": "code",
   "execution_count": 22,
   "id": "0b79d161",
   "metadata": {
    "execution": {
     "iopub.execute_input": "2023-11-15T18:23:57.691405Z",
     "iopub.status.busy": "2023-11-15T18:23:57.690227Z",
     "iopub.status.idle": "2023-11-15T18:26:26.416593Z",
     "shell.execute_reply": "2023-11-15T18:26:26.415465Z"
    },
    "papermill": {
     "duration": 148.763947,
     "end_time": "2023-11-15T18:26:26.436526",
     "exception": false,
     "start_time": "2023-11-15T18:23:57.672579",
     "status": "completed"
    },
    "tags": []
   },
   "outputs": [
    {
     "data": {
      "text/html": [
       "<style>#sk-container-id-3 {color: black;background-color: white;}#sk-container-id-3 pre{padding: 0;}#sk-container-id-3 div.sk-toggleable {background-color: white;}#sk-container-id-3 label.sk-toggleable__label {cursor: pointer;display: block;width: 100%;margin-bottom: 0;padding: 0.3em;box-sizing: border-box;text-align: center;}#sk-container-id-3 label.sk-toggleable__label-arrow:before {content: \"▸\";float: left;margin-right: 0.25em;color: #696969;}#sk-container-id-3 label.sk-toggleable__label-arrow:hover:before {color: black;}#sk-container-id-3 div.sk-estimator:hover label.sk-toggleable__label-arrow:before {color: black;}#sk-container-id-3 div.sk-toggleable__content {max-height: 0;max-width: 0;overflow: hidden;text-align: left;background-color: #f0f8ff;}#sk-container-id-3 div.sk-toggleable__content pre {margin: 0.2em;color: black;border-radius: 0.25em;background-color: #f0f8ff;}#sk-container-id-3 input.sk-toggleable__control:checked~div.sk-toggleable__content {max-height: 200px;max-width: 100%;overflow: auto;}#sk-container-id-3 input.sk-toggleable__control:checked~label.sk-toggleable__label-arrow:before {content: \"▾\";}#sk-container-id-3 div.sk-estimator input.sk-toggleable__control:checked~label.sk-toggleable__label {background-color: #d4ebff;}#sk-container-id-3 div.sk-label input.sk-toggleable__control:checked~label.sk-toggleable__label {background-color: #d4ebff;}#sk-container-id-3 input.sk-hidden--visually {border: 0;clip: rect(1px 1px 1px 1px);clip: rect(1px, 1px, 1px, 1px);height: 1px;margin: -1px;overflow: hidden;padding: 0;position: absolute;width: 1px;}#sk-container-id-3 div.sk-estimator {font-family: monospace;background-color: #f0f8ff;border: 1px dotted black;border-radius: 0.25em;box-sizing: border-box;margin-bottom: 0.5em;}#sk-container-id-3 div.sk-estimator:hover {background-color: #d4ebff;}#sk-container-id-3 div.sk-parallel-item::after {content: \"\";width: 100%;border-bottom: 1px solid gray;flex-grow: 1;}#sk-container-id-3 div.sk-label:hover label.sk-toggleable__label {background-color: #d4ebff;}#sk-container-id-3 div.sk-serial::before {content: \"\";position: absolute;border-left: 1px solid gray;box-sizing: border-box;top: 0;bottom: 0;left: 50%;z-index: 0;}#sk-container-id-3 div.sk-serial {display: flex;flex-direction: column;align-items: center;background-color: white;padding-right: 0.2em;padding-left: 0.2em;position: relative;}#sk-container-id-3 div.sk-item {position: relative;z-index: 1;}#sk-container-id-3 div.sk-parallel {display: flex;align-items: stretch;justify-content: center;background-color: white;position: relative;}#sk-container-id-3 div.sk-item::before, #sk-container-id-3 div.sk-parallel-item::before {content: \"\";position: absolute;border-left: 1px solid gray;box-sizing: border-box;top: 0;bottom: 0;left: 50%;z-index: -1;}#sk-container-id-3 div.sk-parallel-item {display: flex;flex-direction: column;z-index: 1;position: relative;background-color: white;}#sk-container-id-3 div.sk-parallel-item:first-child::after {align-self: flex-end;width: 50%;}#sk-container-id-3 div.sk-parallel-item:last-child::after {align-self: flex-start;width: 50%;}#sk-container-id-3 div.sk-parallel-item:only-child::after {width: 0;}#sk-container-id-3 div.sk-dashed-wrapped {border: 1px dashed gray;margin: 0 0.4em 0.5em 0.4em;box-sizing: border-box;padding-bottom: 0.4em;background-color: white;}#sk-container-id-3 div.sk-label label {font-family: monospace;font-weight: bold;display: inline-block;line-height: 1.2em;}#sk-container-id-3 div.sk-label-container {text-align: center;}#sk-container-id-3 div.sk-container {/* jupyter's `normalize.less` sets `[hidden] { display: none; }` but bootstrap.min.css set `[hidden] { display: none !important; }` so we also need the `!important` here to be able to override the default hidden behavior on the sphinx rendered scikit-learn.org. See: https://github.com/scikit-learn/scikit-learn/issues/21755 */display: inline-block !important;position: relative;}#sk-container-id-3 div.sk-text-repr-fallback {display: none;}</style><div id=\"sk-container-id-3\" class=\"sk-top-container\"><div class=\"sk-text-repr-fallback\"><pre>GridSearchCV(cv=5,\n",
       "             estimator=LogisticRegression(penalty=&#x27;elasticnet&#x27;, solver=&#x27;saga&#x27;),\n",
       "             param_grid={&#x27;C&#x27;: array([1.00000000e-03, 2.06913808e-03, 4.28133240e-03, 8.85866790e-03,\n",
       "       1.83298071e-02, 3.79269019e-02, 7.84759970e-02, 1.62377674e-01,\n",
       "       3.35981829e-01, 6.95192796e-01, 1.43844989e+00, 2.97635144e+00,\n",
       "       6.15848211e+00, 1.27427499e+01, 2.63665090e+01, 5.45559478e+01,\n",
       "       1.12883789e+02, 2.33572147e+02, 4.83293024e+02, 1.00000000e+03]),\n",
       "                         &#x27;l1_ratio&#x27;: [0.1, 0.3, 0.5, 0.7, 0.9]},\n",
       "             scoring=&#x27;f1&#x27;)</pre><b>In a Jupyter environment, please rerun this cell to show the HTML representation or trust the notebook. <br />On GitHub, the HTML representation is unable to render, please try loading this page with nbviewer.org.</b></div><div class=\"sk-container\" hidden><div class=\"sk-item sk-dashed-wrapped\"><div class=\"sk-label-container\"><div class=\"sk-label sk-toggleable\"><input class=\"sk-toggleable__control sk-hidden--visually\" id=\"sk-estimator-id-7\" type=\"checkbox\" ><label for=\"sk-estimator-id-7\" class=\"sk-toggleable__label sk-toggleable__label-arrow\">GridSearchCV</label><div class=\"sk-toggleable__content\"><pre>GridSearchCV(cv=5,\n",
       "             estimator=LogisticRegression(penalty=&#x27;elasticnet&#x27;, solver=&#x27;saga&#x27;),\n",
       "             param_grid={&#x27;C&#x27;: array([1.00000000e-03, 2.06913808e-03, 4.28133240e-03, 8.85866790e-03,\n",
       "       1.83298071e-02, 3.79269019e-02, 7.84759970e-02, 1.62377674e-01,\n",
       "       3.35981829e-01, 6.95192796e-01, 1.43844989e+00, 2.97635144e+00,\n",
       "       6.15848211e+00, 1.27427499e+01, 2.63665090e+01, 5.45559478e+01,\n",
       "       1.12883789e+02, 2.33572147e+02, 4.83293024e+02, 1.00000000e+03]),\n",
       "                         &#x27;l1_ratio&#x27;: [0.1, 0.3, 0.5, 0.7, 0.9]},\n",
       "             scoring=&#x27;f1&#x27;)</pre></div></div></div><div class=\"sk-parallel\"><div class=\"sk-parallel-item\"><div class=\"sk-item\"><div class=\"sk-label-container\"><div class=\"sk-label sk-toggleable\"><input class=\"sk-toggleable__control sk-hidden--visually\" id=\"sk-estimator-id-8\" type=\"checkbox\" ><label for=\"sk-estimator-id-8\" class=\"sk-toggleable__label sk-toggleable__label-arrow\">estimator: LogisticRegression</label><div class=\"sk-toggleable__content\"><pre>LogisticRegression(penalty=&#x27;elasticnet&#x27;, solver=&#x27;saga&#x27;)</pre></div></div></div><div class=\"sk-serial\"><div class=\"sk-item\"><div class=\"sk-estimator sk-toggleable\"><input class=\"sk-toggleable__control sk-hidden--visually\" id=\"sk-estimator-id-9\" type=\"checkbox\" ><label for=\"sk-estimator-id-9\" class=\"sk-toggleable__label sk-toggleable__label-arrow\">LogisticRegression</label><div class=\"sk-toggleable__content\"><pre>LogisticRegression(penalty=&#x27;elasticnet&#x27;, solver=&#x27;saga&#x27;)</pre></div></div></div></div></div></div></div></div></div></div>"
      ],
      "text/plain": [
       "GridSearchCV(cv=5,\n",
       "             estimator=LogisticRegression(penalty='elasticnet', solver='saga'),\n",
       "             param_grid={'C': array([1.00000000e-03, 2.06913808e-03, 4.28133240e-03, 8.85866790e-03,\n",
       "       1.83298071e-02, 3.79269019e-02, 7.84759970e-02, 1.62377674e-01,\n",
       "       3.35981829e-01, 6.95192796e-01, 1.43844989e+00, 2.97635144e+00,\n",
       "       6.15848211e+00, 1.27427499e+01, 2.63665090e+01, 5.45559478e+01,\n",
       "       1.12883789e+02, 2.33572147e+02, 4.83293024e+02, 1.00000000e+03]),\n",
       "                         'l1_ratio': [0.1, 0.3, 0.5, 0.7, 0.9]},\n",
       "             scoring='f1')"
      ]
     },
     "execution_count": 22,
     "metadata": {},
     "output_type": "execute_result"
    }
   ],
   "source": [
    "from sklearn.model_selection import GridSearchCV\n",
    "\n",
    "log_reg = LogisticRegression(solver='saga', penalty='elasticnet')\n",
    "\n",
    "C_values = {'C': np.logspace(-3, 3, 20), \"l1_ratio\" : [0.1, 0.3, 0.5, 0.7, 0.9]}\n",
    "logreg_grid = GridSearchCV(log_reg, C_values, cv=5, scoring='f1')\n",
    "logreg_grid.fit(X_train, y_train)"
   ]
  },
  {
   "cell_type": "code",
   "execution_count": 23,
   "id": "7d2f9f52",
   "metadata": {
    "execution": {
     "iopub.execute_input": "2023-11-15T18:26:26.472171Z",
     "iopub.status.busy": "2023-11-15T18:26:26.471774Z",
     "iopub.status.idle": "2023-11-15T18:26:26.477753Z",
     "shell.execute_reply": "2023-11-15T18:26:26.476495Z"
    },
    "papermill": {
     "duration": 0.027117,
     "end_time": "2023-11-15T18:26:26.480448",
     "exception": false,
     "start_time": "2023-11-15T18:26:26.453331",
     "status": "completed"
    },
    "tags": []
   },
   "outputs": [
    {
     "name": "stdout",
     "output_type": "stream",
     "text": [
      "{'C': 26.366508987303554, 'l1_ratio': 0.1}\n",
      "0.8109025804100491\n"
     ]
    }
   ],
   "source": [
    "print(logreg_grid.best_params_)\n",
    "print(logreg_grid.best_score_)"
   ]
  },
  {
   "cell_type": "code",
   "execution_count": 24,
   "id": "b3b7eb76",
   "metadata": {
    "execution": {
     "iopub.execute_input": "2023-11-15T18:26:26.516936Z",
     "iopub.status.busy": "2023-11-15T18:26:26.516033Z",
     "iopub.status.idle": "2023-11-15T18:26:26.819189Z",
     "shell.execute_reply": "2023-11-15T18:26:26.817643Z"
    },
    "papermill": {
     "duration": 0.32426,
     "end_time": "2023-11-15T18:26:26.821836",
     "exception": false,
     "start_time": "2023-11-15T18:26:26.497576",
     "status": "completed"
    },
    "tags": []
   },
   "outputs": [
    {
     "data": {
      "image/png": "[encoded data removed]",
      "text/plain": [
       "<Figure size 640x480 with 1 Axes>"
      ]
     },
     "metadata": {},
     "output_type": "display_data"
    }
   ],
   "source": [
    "results_df = pd.DataFrame(logreg_grid.cv_results_)\n",
    "plt.plot(results_df['param_C'], results_df['mean_test_score'])\n",
    "\n",
    "# Подписываем оси и график\n",
    "plt.xlabel('C')\n",
    "plt.ylabel('Test accuracy')\n",
    "plt.title('Validation curve')\n",
    "plt.show()"
   ]
  },
  {
   "cell_type": "markdown",
   "id": "47893b72",
   "metadata": {
    "papermill": {
     "duration": 0.017103,
     "end_time": "2023-11-15T18:26:26.856687",
     "exception": false,
     "start_time": "2023-11-15T18:26:26.839584",
     "status": "completed"
    },
    "tags": []
   },
   "source": [
    "Alright, so, the best performing model in terms of f1 score is our Elasticnet regularized model with such hyperparameters\n",
    "\n",
    "{'C': 26.366508987303554, 'l1_ratio': 0.1}\n",
    "\n",
    "It provided us with a 0.81 f1 score"
   ]
  },
  {
   "cell_type": "markdown",
   "id": "d0ed5825",
   "metadata": {
    "papermill": {
     "duration": 0.017114,
     "end_time": "2023-11-15T18:26:26.891252",
     "exception": false,
     "start_time": "2023-11-15T18:26:26.874138",
     "status": "completed"
    },
    "tags": []
   },
   "source": [
    "Now, let's take a look at our model's coefficients"
   ]
  },
  {
   "cell_type": "code",
   "execution_count": 25,
   "id": "a1260a39",
   "metadata": {
    "execution": {
     "iopub.execute_input": "2023-11-15T18:26:26.928439Z",
     "iopub.status.busy": "2023-11-15T18:26:26.928010Z",
     "iopub.status.idle": "2023-11-15T18:26:26.949836Z",
     "shell.execute_reply": "2023-11-15T18:26:26.948377Z"
    },
    "papermill": {
     "duration": 0.045708,
     "end_time": "2023-11-15T18:26:26.954455",
     "exception": false,
     "start_time": "2023-11-15T18:26:26.908747",
     "status": "completed"
    },
    "tags": []
   },
   "outputs": [
    {
     "name": "stdout",
     "output_type": "stream",
     "text": [
      "Accuracy: 0.8199731303179579\n",
      "f1_score: 0.8009900990099009\n"
     ]
    }
   ],
   "source": [
    "log_reg_best = logreg_grid.best_estimator_\n",
    "y_pred = log_reg_best.predict(X_valid)\n",
    "print(f\"Accuracy: {accuracy_score(y_valid, y_pred)}\")\n",
    "print(f\"f1_score: {f1_score(y_valid, y_pred)}\")"
   ]
  },
  {
   "cell_type": "code",
   "execution_count": 26,
   "id": "152d70fc",
   "metadata": {
    "execution": {
     "iopub.execute_input": "2023-11-15T18:26:27.031307Z",
     "iopub.status.busy": "2023-11-15T18:26:27.030610Z",
     "iopub.status.idle": "2023-11-15T18:26:27.043348Z",
     "shell.execute_reply": "2023-11-15T18:26:27.041921Z"
    },
    "papermill": {
     "duration": 0.057119,
     "end_time": "2023-11-15T18:26:27.048688",
     "exception": false,
     "start_time": "2023-11-15T18:26:26.991569",
     "status": "completed"
    },
    "tags": []
   },
   "outputs": [
    {
     "name": "stdout",
     "output_type": "stream",
     "text": [
      "duration: 21.309958953977862\n",
      "campaign: -5.9300437342821315\n",
      "poutcome: 2.4427983736455636\n",
      "previous: -2.009967900551449\n",
      "balance: 1.8316145657032967\n",
      "month_mar: 1.8310694618316463\n",
      "contact_unknown: -1.3831295573763664\n",
      "month_jan: -1.345946842629895\n",
      "month_dec: 1.2762878181963193\n",
      "pdays: -1.2015826044571105\n",
      "month_nov: -1.1457262732039633\n",
      "month_jul: -1.140103464839989\n",
      "month_aug: -0.974013511258346\n",
      "month_oct: 0.9335853199240656\n",
      "month_may: -0.8808854813457\n",
      "month_sep: 0.8032371670717926\n",
      "job_student: 0.6799763926717733\n",
      "housing: -0.6738187485887002\n",
      "job_self-employed: -0.49078995174871987\n",
      "education: 0.4854918937853692\n",
      "loan: -0.4776215887536824\n",
      "marital_married: -0.4610985369497998\n",
      "job_retired: 0.3431847058721204\n",
      "month_feb: -0.3219278833985198\n",
      "job_blue-collar: -0.3011650008344351\n",
      "marital_divorced: -0.2938649338332133\n",
      "job_entrepreneur: -0.2671400335759195\n",
      "job_housemaid: -0.19747828700295073\n",
      "contact_telephone: 0.1890429681368366\n",
      "marital_single: -0.18506035966384818\n",
      "contact_cellular: 0.18391467654966678\n",
      "job_services: -0.16099538384039136\n",
      "month_jun: 0.15962625286640764\n",
      "month_apr: -0.15242137637741426\n",
      "job_technician: -0.14841527940767424\n",
      "job_unknown: -0.13917765337515384\n",
      "job_management: -0.13598247971036256\n",
      "default: -0.1246432887263832\n",
      "day: 0.0718997128255469\n",
      "age: -0.06680526121118524\n",
      "job_unemployed: -0.056922084789666906\n",
      "job_admin.: 0.004689312405051936\n"
     ]
    }
   ],
   "source": [
    "feature_names = X_train.columns\n",
    "coefficients = log_reg_best.coef_[0]\n",
    "coefficients_tuples = list(zip(feature_names, coefficients))\n",
    "sorted_coefficients = sorted(coefficients_tuples, key=lambda x: abs(x[1]), reverse=True)\n",
    "for feature, coef in sorted_coefficients:\n",
    "    print(f\"{feature}: {coef}\")"
   ]
  },
  {
   "cell_type": "markdown",
   "id": "ed89e206",
   "metadata": {
    "papermill": {
     "duration": 0.017161,
     "end_time": "2023-11-15T18:26:27.088327",
     "exception": false,
     "start_time": "2023-11-15T18:26:27.071166",
     "status": "completed"
    },
    "tags": []
   },
   "source": [
    "Alright, we can see that our most significant features are duration, campaign, poutcome. It is very simular to the feature significance we got from our decision tree model."
   ]
  }
 ],
 "metadata": {
  "kaggle": {
   "accelerator": "none",
   "dataSources": [
    {
     "datasetId": 4471,
     "sourceId": 6849,
     "sourceType": "datasetVersion"
    }
   ],
   "dockerImageVersionId": 30579,
   "isGpuEnabled": false,
   "isInternetEnabled": false,
   "language": "python",
   "sourceType": "notebook"
  },
  "kernelspec": {
   "display_name": "Python 3",
   "language": "python",
   "name": "python3"
  },
  "language_info": {
   "codemirror_mode": {
    "name": "ipython",
    "version": 3
   },
   "file_extension": ".py",
   "mimetype": "text/x-python",
   "name": "python",
   "nbconvert_exporter": "python",
   "pygments_lexer": "ipython3",
   "version": "3.10.12"
  },
  "papermill": {
   "default_parameters": {},
   "duration": 208.989531,
   "end_time": "2023-11-15T18:26:27.727668",
   "environment_variables": {},
   "exception": null,
   "input_path": "__notebook__.ipynb",
   "output_path": "__notebook__.ipynb",
   "parameters": {},
   "start_time": "2023-11-15T18:22:58.738137",
   "version": "2.4.0"
  }
 },
 "nbformat": 4,
 "nbformat_minor": 5
}
