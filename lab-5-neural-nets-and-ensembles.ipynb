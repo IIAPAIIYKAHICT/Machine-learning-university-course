{
 "cells": [
  {
   "cell_type": "code",
   "execution_count": 1,
   "id": "2580554c",
   "metadata": {
    "_cell_guid": "b1076dfc-b9ad-4769-8c92-a6c4dae69d19",
    "_uuid": "8f2839f25d086af736a60e9eeb907d3b93b6e0e5",
    "execution": {
     "iopub.execute_input": "2023-12-06T13:07:08.368115Z",
     "iopub.status.busy": "2023-12-06T13:07:08.367500Z",
     "iopub.status.idle": "2023-12-06T13:07:08.807056Z",
     "shell.execute_reply": "2023-12-06T13:07:08.805886Z"
    },
    "papermill": {
     "duration": 0.453991,
     "end_time": "2023-12-06T13:07:08.809414",
     "exception": false,
     "start_time": "2023-12-06T13:07:08.355423",
     "status": "completed"
    },
    "tags": []
   },
   "outputs": [
    {
     "name": "stdout",
     "output_type": "stream",
     "text": [
      "/kaggle/input/bank-marketing-dataset/bank.csv\n"
     ]
    }
   ],
   "source": [
    "# This Python 3 environment comes with many helpful analytics libraries installed\n",
    "# It is defined by the kaggle/python Docker image: https://github.com/kaggle/docker-python\n",
    "# For example, here's several helpful packages to load\n",
    "\n",
    "import numpy as np # linear algebra\n",
    "import pandas as pd # data processing, CSV file I/O (e.g. pd.read_csv)\n",
    "\n",
    "# Input data files are available in the read-only \"../input/\" directory\n",
    "# For example, running this (by clicking run or pressing Shift+Enter) will list all files under the input directory\n",
    "\n",
    "import os\n",
    "for dirname, _, filenames in os.walk('/kaggle/input'):\n",
    "    for filename in filenames:\n",
    "        print(os.path.join(dirname, filename))\n",
    "\n",
    "# You can write up to 20GB to the current directory (/kaggle/working/) that gets preserved as output when you create a version using \"Save & Run All\" \n",
    "# You can also write temporary files to /kaggle/temp/, but they won't be saved outside of the current session"
   ]
  },
  {
   "cell_type": "markdown",
   "id": "4f3461f5",
   "metadata": {
    "papermill": {
     "duration": 0.010103,
     "end_time": "2023-12-06T13:07:08.829883",
     "exception": false,
     "start_time": "2023-12-06T13:07:08.819780",
     "status": "completed"
    },
    "tags": []
   },
   "source": [
    "Firstly, lets start from reading the dataset and looking it's info and numerical feature statistics"
   ]
  },
  {
   "cell_type": "code",
   "execution_count": 2,
   "id": "856e3c1e",
   "metadata": {
    "execution": {
     "iopub.execute_input": "2023-12-06T13:07:08.851976Z",
     "iopub.status.busy": "2023-12-06T13:07:08.851249Z",
     "iopub.status.idle": "2023-12-06T13:07:08.986346Z",
     "shell.execute_reply": "2023-12-06T13:07:08.984750Z"
    },
    "papermill": {
     "duration": 0.148469,
     "end_time": "2023-12-06T13:07:08.988274",
     "exception": false,
     "start_time": "2023-12-06T13:07:08.839805",
     "status": "completed"
    },
    "tags": []
   },
   "outputs": [
    {
     "name": "stdout",
     "output_type": "stream",
     "text": [
      "<class 'pandas.core.frame.DataFrame'>\n",
      "RangeIndex: 11162 entries, 0 to 11161\n",
      "Data columns (total 17 columns):\n",
      " #   Column     Non-Null Count  Dtype \n",
      "---  ------     --------------  ----- \n",
      " 0   age        11162 non-null  int64 \n",
      " 1   job        11162 non-null  object\n",
      " 2   marital    11162 non-null  object\n",
      " 3   education  11162 non-null  object\n",
      " 4   default    11162 non-null  object\n",
      " 5   balance    11162 non-null  int64 \n",
      " 6   housing    11162 non-null  object\n",
      " 7   loan       11162 non-null  object\n",
      " 8   contact    11162 non-null  object\n",
      " 9   day        11162 non-null  int64 \n",
      " 10  month      11162 non-null  object\n",
      " 11  duration   11162 non-null  int64 \n",
      " 12  campaign   11162 non-null  int64 \n",
      " 13  pdays      11162 non-null  int64 \n",
      " 14  previous   11162 non-null  int64 \n",
      " 15  poutcome   11162 non-null  object\n",
      " 16  deposit    11162 non-null  object\n",
      "dtypes: int64(7), object(10)\n",
      "memory usage: 1.4+ MB\n",
      "None\n",
      "            count         mean          std     min    25%    50%      75%  \\\n",
      "age       11162.0    41.231948    11.913369    18.0   32.0   39.0    49.00   \n",
      "balance   11162.0  1528.538524  3225.413326 -6847.0  122.0  550.0  1708.00   \n",
      "day       11162.0    15.658036     8.420740     1.0    8.0   15.0    22.00   \n",
      "duration  11162.0   371.993818   347.128386     2.0  138.0  255.0   496.00   \n",
      "campaign  11162.0     2.508421     2.722077     1.0    1.0    2.0     3.00   \n",
      "pdays     11162.0    51.330407   108.758282    -1.0   -1.0   -1.0    20.75   \n",
      "previous  11162.0     0.832557     2.292007     0.0    0.0    0.0     1.00   \n",
      "\n",
      "              max  \n",
      "age          95.0  \n",
      "balance   81204.0  \n",
      "day          31.0  \n",
      "duration   3881.0  \n",
      "campaign     63.0  \n",
      "pdays       854.0  \n",
      "previous     58.0  \n"
     ]
    }
   ],
   "source": [
    "data = pd.read_csv(\"/kaggle/input/bank-marketing-dataset/bank.csv\")\n",
    "print(data.info())\n",
    "print(data.describe().T)"
   ]
  },
  {
   "cell_type": "markdown",
   "id": "f65adebc",
   "metadata": {
    "papermill": {
     "duration": 0.010007,
     "end_time": "2023-12-06T13:07:09.008540",
     "exception": false,
     "start_time": "2023-12-06T13:07:08.998533",
     "status": "completed"
    },
    "tags": []
   },
   "source": [
    "So, in this dataset, we are provided with client data. Our target variable is deposit, and the task is to predict, whether some specific client will get a long term deposit or not. As it is a binary variable, it means that we are dealing with classification problem\n",
    "\n",
    "We see that there are no missing data in our dataset, this is very good for us because linear models tend to work worse with it\n",
    "\n",
    "Now, lets look at the distribution of this target variable, to see if it is balanced, or not."
   ]
  },
  {
   "cell_type": "code",
   "execution_count": 3,
   "id": "7dcee70c",
   "metadata": {
    "execution": {
     "iopub.execute_input": "2023-12-06T13:07:09.030671Z",
     "iopub.status.busy": "2023-12-06T13:07:09.030297Z",
     "iopub.status.idle": "2023-12-06T13:07:09.235096Z",
     "shell.execute_reply": "2023-12-06T13:07:09.234030Z"
    },
    "papermill": {
     "duration": 0.21876,
     "end_time": "2023-12-06T13:07:09.237442",
     "exception": false,
     "start_time": "2023-12-06T13:07:09.018682",
     "status": "completed"
    },
    "tags": []
   },
   "outputs": [
    {
     "data": {
      "text/plain": [
       "<Axes: xlabel='deposit'>"
      ]
     },
     "execution_count": 3,
     "metadata": {},
     "output_type": "execute_result"
    },
    {
     "data": {
      "image/png": "[encoded data removed]",
      "text/plain": [
       "<Figure size 640x480 with 1 Axes>"
      ]
     },
     "metadata": {},
     "output_type": "display_data"
    }
   ],
   "source": [
    "data.deposit.value_counts().plot(kind='bar')"
   ]
  },
  {
   "cell_type": "markdown",
   "id": "8f4acf81",
   "metadata": {
    "papermill": {
     "duration": 0.010861,
     "end_time": "2023-12-06T13:07:09.259119",
     "exception": false,
     "start_time": "2023-12-06T13:07:09.248258",
     "status": "completed"
    },
    "tags": []
   },
   "source": [
    "We see that our target's distribution is balanced, it's good news for us, because it means that our model won't result in high bias\n",
    "\n",
    "Now, lets start preprocessing our data by first looking at our object variables and determining whether they are ordinal or categorical"
   ]
  },
  {
   "cell_type": "code",
   "execution_count": 4,
   "id": "3f76a5d4",
   "metadata": {
    "execution": {
     "iopub.execute_input": "2023-12-06T13:07:09.282274Z",
     "iopub.status.busy": "2023-12-06T13:07:09.281614Z",
     "iopub.status.idle": "2023-12-06T13:07:09.298643Z",
     "shell.execute_reply": "2023-12-06T13:07:09.296760Z"
    },
    "papermill": {
     "duration": 0.031362,
     "end_time": "2023-12-06T13:07:09.301161",
     "exception": false,
     "start_time": "2023-12-06T13:07:09.269799",
     "status": "completed"
    },
    "tags": []
   },
   "outputs": [
    {
     "name": "stdout",
     "output_type": "stream",
     "text": [
      "job\n",
      "management       2566\n",
      "blue-collar      1944\n",
      "technician       1823\n",
      "admin.           1334\n",
      "services          923\n",
      "retired           778\n",
      "self-employed     405\n",
      "student           360\n",
      "unemployed        357\n",
      "entrepreneur      328\n",
      "housemaid         274\n",
      "unknown            70\n",
      "Name: count, dtype: int64\n",
      "\n",
      "\n",
      "\n",
      "marital\n",
      "married     6351\n",
      "single      3518\n",
      "divorced    1293\n",
      "Name: count, dtype: int64\n",
      "\n",
      "\n",
      "\n",
      "education\n",
      "secondary    5476\n",
      "tertiary     3689\n",
      "primary      1500\n",
      "unknown       497\n",
      "Name: count, dtype: int64\n",
      "\n",
      "\n",
      "\n",
      "default\n",
      "no     10994\n",
      "yes      168\n",
      "Name: count, dtype: int64\n",
      "\n",
      "\n",
      "\n",
      "housing\n",
      "no     5881\n",
      "yes    5281\n",
      "Name: count, dtype: int64\n",
      "\n",
      "\n",
      "\n",
      "loan\n",
      "no     9702\n",
      "yes    1460\n",
      "Name: count, dtype: int64\n",
      "\n",
      "\n",
      "\n",
      "contact\n",
      "cellular     8042\n",
      "unknown      2346\n",
      "telephone     774\n",
      "Name: count, dtype: int64\n",
      "\n",
      "\n",
      "\n",
      "month\n",
      "may    2824\n",
      "aug    1519\n",
      "jul    1514\n",
      "jun    1222\n",
      "nov     943\n",
      "apr     923\n",
      "feb     776\n",
      "oct     392\n",
      "jan     344\n",
      "sep     319\n",
      "mar     276\n",
      "dec     110\n",
      "Name: count, dtype: int64\n",
      "\n",
      "\n",
      "\n",
      "deposit\n",
      "no     5873\n",
      "yes    5289\n",
      "Name: count, dtype: int64\n",
      "\n",
      "\n",
      "\n",
      "poutcome\n",
      "unknown    8326\n",
      "failure    1228\n",
      "success    1071\n",
      "other       537\n",
      "Name: count, dtype: int64\n",
      "\n",
      "\n",
      "\n"
     ]
    }
   ],
   "source": [
    "object_cols = [\"job\", \"marital\", \"education\", \"default\", \n",
    "               \"housing\", \"loan\", \"contact\", \"month\", \"deposit\", \"poutcome\"]\n",
    "for col in object_cols:\n",
    "    print(data[col].value_counts())\n",
    "    print(\"\\n\\n\")"
   ]
  },
  {
   "cell_type": "markdown",
   "id": "2680a64c",
   "metadata": {
    "papermill": {
     "duration": 0.010774,
     "end_time": "2023-12-06T13:07:09.322996",
     "exception": false,
     "start_time": "2023-12-06T13:07:09.312222",
     "status": "completed"
    },
    "tags": []
   },
   "source": [
    "So, the binary variables for us are deposit, loan, housing and default, we will replace them with ones and zeroes\n",
    "\n"
   ]
  },
  {
   "cell_type": "code",
   "execution_count": 5,
   "id": "0fb98e0b",
   "metadata": {
    "execution": {
     "iopub.execute_input": "2023-12-06T13:07:09.346813Z",
     "iopub.status.busy": "2023-12-06T13:07:09.345990Z",
     "iopub.status.idle": "2023-12-06T13:07:09.367345Z",
     "shell.execute_reply": "2023-12-06T13:07:09.366445Z"
    },
    "papermill": {
     "duration": 0.035606,
     "end_time": "2023-12-06T13:07:09.369369",
     "exception": false,
     "start_time": "2023-12-06T13:07:09.333763",
     "status": "completed"
    },
    "tags": []
   },
   "outputs": [
    {
     "name": "stdout",
     "output_type": "stream",
     "text": [
      "<class 'pandas.core.frame.DataFrame'>\n",
      "RangeIndex: 11162 entries, 0 to 11161\n",
      "Data columns (total 17 columns):\n",
      " #   Column     Non-Null Count  Dtype \n",
      "---  ------     --------------  ----- \n",
      " 0   age        11162 non-null  int64 \n",
      " 1   job        11162 non-null  object\n",
      " 2   marital    11162 non-null  object\n",
      " 3   education  11162 non-null  object\n",
      " 4   default    11162 non-null  int64 \n",
      " 5   balance    11162 non-null  int64 \n",
      " 6   housing    11162 non-null  int64 \n",
      " 7   loan       11162 non-null  int64 \n",
      " 8   contact    11162 non-null  object\n",
      " 9   day        11162 non-null  int64 \n",
      " 10  month      11162 non-null  object\n",
      " 11  duration   11162 non-null  int64 \n",
      " 12  campaign   11162 non-null  int64 \n",
      " 13  pdays      11162 non-null  int64 \n",
      " 14  previous   11162 non-null  int64 \n",
      " 15  poutcome   11162 non-null  object\n",
      " 16  deposit    11162 non-null  int64 \n",
      "dtypes: int64(11), object(6)\n",
      "memory usage: 1.4+ MB\n"
     ]
    }
   ],
   "source": [
    "binary_variables = [\"deposit\", \"loan\", \"housing\",\"default\"]\n",
    "for var in binary_variables:\n",
    "    data[var] = data[var].map({\"yes\" : 1, \"no\" : 0})\n",
    "data.info()"
   ]
  },
  {
   "cell_type": "markdown",
   "id": "59034a58",
   "metadata": {
    "papermill": {
     "duration": 0.010395,
     "end_time": "2023-12-06T13:07:09.390452",
     "exception": false,
     "start_time": "2023-12-06T13:07:09.380057",
     "status": "completed"
    },
    "tags": []
   },
   "source": [
    "Now, lets look at ordinal variables, in our example, they are education and poutcome, we can't just one-hot encode them, because order matters, so we will preprocess them like this"
   ]
  },
  {
   "cell_type": "code",
   "execution_count": 6,
   "id": "9fd66ee0",
   "metadata": {
    "execution": {
     "iopub.execute_input": "2023-12-06T13:07:09.413087Z",
     "iopub.status.busy": "2023-12-06T13:07:09.412544Z",
     "iopub.status.idle": "2023-12-06T13:07:09.422568Z",
     "shell.execute_reply": "2023-12-06T13:07:09.421684Z"
    },
    "papermill": {
     "duration": 0.023411,
     "end_time": "2023-12-06T13:07:09.424330",
     "exception": false,
     "start_time": "2023-12-06T13:07:09.400919",
     "status": "completed"
    },
    "tags": []
   },
   "outputs": [
    {
     "data": {
      "text/plain": [
       "education\n",
       "2    5476\n",
       "3    3689\n",
       "1    1500\n",
       "0     497\n",
       "Name: count, dtype: int64"
      ]
     },
     "execution_count": 6,
     "metadata": {},
     "output_type": "execute_result"
    }
   ],
   "source": [
    "education_dict = {\n",
    "    \"unknown\" : 0, \n",
    "    \"primary\" : 1, \n",
    "    \"secondary\" : 2, \n",
    "    \"tertiary\" : 3\n",
    "}\n",
    "data[\"education\"] = data[\"education\"].map(education_dict)\n",
    "data[\"education\"].value_counts()"
   ]
  },
  {
   "cell_type": "code",
   "execution_count": 7,
   "id": "9ce15697",
   "metadata": {
    "execution": {
     "iopub.execute_input": "2023-12-06T13:07:09.447029Z",
     "iopub.status.busy": "2023-12-06T13:07:09.446691Z",
     "iopub.status.idle": "2023-12-06T13:07:09.455991Z",
     "shell.execute_reply": "2023-12-06T13:07:09.454747Z"
    },
    "papermill": {
     "duration": 0.022863,
     "end_time": "2023-12-06T13:07:09.457741",
     "exception": false,
     "start_time": "2023-12-06T13:07:09.434878",
     "status": "completed"
    },
    "tags": []
   },
   "outputs": [
    {
     "data": {
      "text/plain": [
       "poutcome\n",
       "0    8326\n",
       "1    1228\n",
       "3    1071\n",
       "2     537\n",
       "Name: count, dtype: int64"
      ]
     },
     "execution_count": 7,
     "metadata": {},
     "output_type": "execute_result"
    }
   ],
   "source": [
    "poutcome_dict = {\n",
    "    \"unknown\" : 0, \n",
    "    \"failure\" : 1, \n",
    "    \"other\" : 2, \n",
    "    \"success\" : 3\n",
    "}\n",
    "data[\"poutcome\"] = data[\"poutcome\"].map(poutcome_dict)\n",
    "data[\"poutcome\"].value_counts()"
   ]
  },
  {
   "cell_type": "markdown",
   "id": "f384ae67",
   "metadata": {
    "papermill": {
     "duration": 0.010224,
     "end_time": "2023-12-06T13:07:09.530145",
     "exception": false,
     "start_time": "2023-12-06T13:07:09.519921",
     "status": "completed"
    },
    "tags": []
   },
   "source": [
    "Now, lets one-hot encode the categorical variables"
   ]
  },
  {
   "cell_type": "code",
   "execution_count": 8,
   "id": "b5219bec",
   "metadata": {
    "execution": {
     "iopub.execute_input": "2023-12-06T13:07:09.552725Z",
     "iopub.status.busy": "2023-12-06T13:07:09.552160Z",
     "iopub.status.idle": "2023-12-06T13:07:09.570281Z",
     "shell.execute_reply": "2023-12-06T13:07:09.569274Z"
    },
    "papermill": {
     "duration": 0.032143,
     "end_time": "2023-12-06T13:07:09.572685",
     "exception": false,
     "start_time": "2023-12-06T13:07:09.540542",
     "status": "completed"
    },
    "tags": []
   },
   "outputs": [],
   "source": [
    "data = pd.get_dummies(data, columns=[\"job\", \"marital\", \"contact\", \"month\"])\n"
   ]
  },
  {
   "cell_type": "code",
   "execution_count": 9,
   "id": "38da597c",
   "metadata": {
    "execution": {
     "iopub.execute_input": "2023-12-06T13:07:09.596080Z",
     "iopub.status.busy": "2023-12-06T13:07:09.595743Z",
     "iopub.status.idle": "2023-12-06T13:07:09.613867Z",
     "shell.execute_reply": "2023-12-06T13:07:09.612261Z"
    },
    "papermill": {
     "duration": 0.032033,
     "end_time": "2023-12-06T13:07:09.615745",
     "exception": false,
     "start_time": "2023-12-06T13:07:09.583712",
     "status": "completed"
    },
    "tags": []
   },
   "outputs": [
    {
     "name": "stdout",
     "output_type": "stream",
     "text": [
      "<class 'pandas.core.frame.DataFrame'>\n",
      "RangeIndex: 11162 entries, 0 to 11161\n",
      "Data columns (total 43 columns):\n",
      " #   Column             Non-Null Count  Dtype\n",
      "---  ------             --------------  -----\n",
      " 0   age                11162 non-null  int64\n",
      " 1   education          11162 non-null  int64\n",
      " 2   default            11162 non-null  int64\n",
      " 3   balance            11162 non-null  int64\n",
      " 4   housing            11162 non-null  int64\n",
      " 5   loan               11162 non-null  int64\n",
      " 6   day                11162 non-null  int64\n",
      " 7   duration           11162 non-null  int64\n",
      " 8   campaign           11162 non-null  int64\n",
      " 9   pdays              11162 non-null  int64\n",
      " 10  previous           11162 non-null  int64\n",
      " 11  poutcome           11162 non-null  int64\n",
      " 12  deposit            11162 non-null  int64\n",
      " 13  job_admin.         11162 non-null  bool \n",
      " 14  job_blue-collar    11162 non-null  bool \n",
      " 15  job_entrepreneur   11162 non-null  bool \n",
      " 16  job_housemaid      11162 non-null  bool \n",
      " 17  job_management     11162 non-null  bool \n",
      " 18  job_retired        11162 non-null  bool \n",
      " 19  job_self-employed  11162 non-null  bool \n",
      " 20  job_services       11162 non-null  bool \n",
      " 21  job_student        11162 non-null  bool \n",
      " 22  job_technician     11162 non-null  bool \n",
      " 23  job_unemployed     11162 non-null  bool \n",
      " 24  job_unknown        11162 non-null  bool \n",
      " 25  marital_divorced   11162 non-null  bool \n",
      " 26  marital_married    11162 non-null  bool \n",
      " 27  marital_single     11162 non-null  bool \n",
      " 28  contact_cellular   11162 non-null  bool \n",
      " 29  contact_telephone  11162 non-null  bool \n",
      " 30  contact_unknown    11162 non-null  bool \n",
      " 31  month_apr          11162 non-null  bool \n",
      " 32  month_aug          11162 non-null  bool \n",
      " 33  month_dec          11162 non-null  bool \n",
      " 34  month_feb          11162 non-null  bool \n",
      " 35  month_jan          11162 non-null  bool \n",
      " 36  month_jul          11162 non-null  bool \n",
      " 37  month_jun          11162 non-null  bool \n",
      " 38  month_mar          11162 non-null  bool \n",
      " 39  month_may          11162 non-null  bool \n",
      " 40  month_nov          11162 non-null  bool \n",
      " 41  month_oct          11162 non-null  bool \n",
      " 42  month_sep          11162 non-null  bool \n",
      "dtypes: bool(30), int64(13)\n",
      "memory usage: 1.4 MB\n"
     ]
    }
   ],
   "source": [
    "data.info()"
   ]
  },
  {
   "cell_type": "markdown",
   "id": "31da21cf",
   "metadata": {
    "papermill": {
     "duration": 0.010761,
     "end_time": "2023-12-06T13:07:09.637517",
     "exception": false,
     "start_time": "2023-12-06T13:07:09.626756",
     "status": "completed"
    },
    "tags": []
   },
   "source": [
    "Now, lets scale our numerical features"
   ]
  },
  {
   "cell_type": "code",
   "execution_count": 10,
   "id": "75200f9d",
   "metadata": {
    "execution": {
     "iopub.execute_input": "2023-12-06T13:07:09.661476Z",
     "iopub.status.busy": "2023-12-06T13:07:09.660813Z",
     "iopub.status.idle": "2023-12-06T13:07:09.664901Z",
     "shell.execute_reply": "2023-12-06T13:07:09.664265Z"
    },
    "papermill": {
     "duration": 0.018139,
     "end_time": "2023-12-06T13:07:09.666759",
     "exception": false,
     "start_time": "2023-12-06T13:07:09.648620",
     "status": "completed"
    },
    "tags": []
   },
   "outputs": [],
   "source": [
    "num_features = [\"age\", \"balance\", \"day\", \"duration\",\n",
    "                \"campaign\", \"pdays\", \"previous\", \n",
    "                \"poutcome\", \"education\"]"
   ]
  },
  {
   "cell_type": "code",
   "execution_count": 11,
   "id": "20eb027f",
   "metadata": {
    "execution": {
     "iopub.execute_input": "2023-12-06T13:07:09.690110Z",
     "iopub.status.busy": "2023-12-06T13:07:09.689520Z",
     "iopub.status.idle": "2023-12-06T13:07:10.920081Z",
     "shell.execute_reply": "2023-12-06T13:07:10.919167Z"
    },
    "papermill": {
     "duration": 1.24426,
     "end_time": "2023-12-06T13:07:10.922018",
     "exception": false,
     "start_time": "2023-12-06T13:07:09.677758",
     "status": "completed"
    },
    "tags": []
   },
   "outputs": [
    {
     "data": {
      "text/html": [
       "<div>\n",
       "<style scoped>\n",
       "    .dataframe tbody tr th:only-of-type {\n",
       "        vertical-align: middle;\n",
       "    }\n",
       "\n",
       "    .dataframe tbody tr th {\n",
       "        vertical-align: top;\n",
       "    }\n",
       "\n",
       "    .dataframe thead th {\n",
       "        text-align: right;\n",
       "    }\n",
       "</style>\n",
       "<table border=\"1\" class=\"dataframe\">\n",
       "  <thead>\n",
       "    <tr style=\"text-align: right;\">\n",
       "      <th></th>\n",
       "      <th>count</th>\n",
       "      <th>mean</th>\n",
       "      <th>std</th>\n",
       "      <th>min</th>\n",
       "      <th>25%</th>\n",
       "      <th>50%</th>\n",
       "      <th>75%</th>\n",
       "      <th>max</th>\n",
       "    </tr>\n",
       "  </thead>\n",
       "  <tbody>\n",
       "    <tr>\n",
       "      <th>age</th>\n",
       "      <td>11162.0</td>\n",
       "      <td>2.749995e-16</td>\n",
       "      <td>1.000045</td>\n",
       "      <td>-1.950161</td>\n",
       "      <td>-0.774958</td>\n",
       "      <td>-0.187357</td>\n",
       "      <td>0.652074</td>\n",
       "      <td>4.513455</td>\n",
       "    </tr>\n",
       "    <tr>\n",
       "      <th>education</th>\n",
       "      <td>11162.0</td>\n",
       "      <td>-1.807867e-16</td>\n",
       "      <td>1.000045</td>\n",
       "      <td>-2.651442</td>\n",
       "      <td>-0.134720</td>\n",
       "      <td>-0.134720</td>\n",
       "      <td>1.123641</td>\n",
       "      <td>1.123641</td>\n",
       "    </tr>\n",
       "    <tr>\n",
       "      <th>default</th>\n",
       "      <td>11162.0</td>\n",
       "      <td>1.505107e-02</td>\n",
       "      <td>0.121761</td>\n",
       "      <td>0.000000</td>\n",
       "      <td>0.000000</td>\n",
       "      <td>0.000000</td>\n",
       "      <td>0.000000</td>\n",
       "      <td>1.000000</td>\n",
       "    </tr>\n",
       "    <tr>\n",
       "      <th>balance</th>\n",
       "      <td>11162.0</td>\n",
       "      <td>1.018517e-17</td>\n",
       "      <td>1.000045</td>\n",
       "      <td>-2.596850</td>\n",
       "      <td>-0.436100</td>\n",
       "      <td>-0.303398</td>\n",
       "      <td>0.055642</td>\n",
       "      <td>24.703510</td>\n",
       "    </tr>\n",
       "    <tr>\n",
       "      <th>housing</th>\n",
       "      <td>11162.0</td>\n",
       "      <td>4.731231e-01</td>\n",
       "      <td>0.499299</td>\n",
       "      <td>0.000000</td>\n",
       "      <td>0.000000</td>\n",
       "      <td>0.000000</td>\n",
       "      <td>1.000000</td>\n",
       "      <td>1.000000</td>\n",
       "    </tr>\n",
       "    <tr>\n",
       "      <th>loan</th>\n",
       "      <td>11162.0</td>\n",
       "      <td>1.308009e-01</td>\n",
       "      <td>0.337198</td>\n",
       "      <td>0.000000</td>\n",
       "      <td>0.000000</td>\n",
       "      <td>0.000000</td>\n",
       "      <td>0.000000</td>\n",
       "      <td>1.000000</td>\n",
       "    </tr>\n",
       "    <tr>\n",
       "      <th>day</th>\n",
       "      <td>11162.0</td>\n",
       "      <td>-2.037033e-17</td>\n",
       "      <td>1.000045</td>\n",
       "      <td>-1.740784</td>\n",
       "      <td>-0.909466</td>\n",
       "      <td>-0.078148</td>\n",
       "      <td>0.753170</td>\n",
       "      <td>1.822008</td>\n",
       "    </tr>\n",
       "    <tr>\n",
       "      <th>duration</th>\n",
       "      <td>11162.0</td>\n",
       "      <td>8.148134e-17</td>\n",
       "      <td>1.000045</td>\n",
       "      <td>-1.065918</td>\n",
       "      <td>-0.674115</td>\n",
       "      <td>-0.337048</td>\n",
       "      <td>0.357250</td>\n",
       "      <td>10.109123</td>\n",
       "    </tr>\n",
       "    <tr>\n",
       "      <th>campaign</th>\n",
       "      <td>11162.0</td>\n",
       "      <td>3.055550e-17</td>\n",
       "      <td>1.000045</td>\n",
       "      <td>-0.554168</td>\n",
       "      <td>-0.554168</td>\n",
       "      <td>-0.186785</td>\n",
       "      <td>0.180598</td>\n",
       "      <td>22.223576</td>\n",
       "    </tr>\n",
       "    <tr>\n",
       "      <th>pdays</th>\n",
       "      <td>11162.0</td>\n",
       "      <td>5.092584e-18</td>\n",
       "      <td>1.000045</td>\n",
       "      <td>-0.481184</td>\n",
       "      <td>-0.481184</td>\n",
       "      <td>-0.481184</td>\n",
       "      <td>-0.281190</td>\n",
       "      <td>7.380638</td>\n",
       "    </tr>\n",
       "    <tr>\n",
       "      <th>previous</th>\n",
       "      <td>11162.0</td>\n",
       "      <td>-2.037033e-17</td>\n",
       "      <td>1.000045</td>\n",
       "      <td>-0.363260</td>\n",
       "      <td>-0.363260</td>\n",
       "      <td>-0.363260</td>\n",
       "      <td>0.073059</td>\n",
       "      <td>24.943204</td>\n",
       "    </tr>\n",
       "    <tr>\n",
       "      <th>poutcome</th>\n",
       "      <td>11162.0</td>\n",
       "      <td>-3.055550e-17</td>\n",
       "      <td>1.000045</td>\n",
       "      <td>-0.514594</td>\n",
       "      <td>-0.514594</td>\n",
       "      <td>-0.514594</td>\n",
       "      <td>0.526910</td>\n",
       "      <td>2.609919</td>\n",
       "    </tr>\n",
       "    <tr>\n",
       "      <th>deposit</th>\n",
       "      <td>11162.0</td>\n",
       "      <td>4.738398e-01</td>\n",
       "      <td>0.499338</td>\n",
       "      <td>0.000000</td>\n",
       "      <td>0.000000</td>\n",
       "      <td>0.000000</td>\n",
       "      <td>1.000000</td>\n",
       "      <td>1.000000</td>\n",
       "    </tr>\n",
       "  </tbody>\n",
       "</table>\n",
       "</div>"
      ],
      "text/plain": [
       "             count          mean       std       min       25%       50%  \\\n",
       "age        11162.0  2.749995e-16  1.000045 -1.950161 -0.774958 -0.187357   \n",
       "education  11162.0 -1.807867e-16  1.000045 -2.651442 -0.134720 -0.134720   \n",
       "default    11162.0  1.505107e-02  0.121761  0.000000  0.000000  0.000000   \n",
       "balance    11162.0  1.018517e-17  1.000045 -2.596850 -0.436100 -0.303398   \n",
       "housing    11162.0  4.731231e-01  0.499299  0.000000  0.000000  0.000000   \n",
       "loan       11162.0  1.308009e-01  0.337198  0.000000  0.000000  0.000000   \n",
       "day        11162.0 -2.037033e-17  1.000045 -1.740784 -0.909466 -0.078148   \n",
       "duration   11162.0  8.148134e-17  1.000045 -1.065918 -0.674115 -0.337048   \n",
       "campaign   11162.0  3.055550e-17  1.000045 -0.554168 -0.554168 -0.186785   \n",
       "pdays      11162.0  5.092584e-18  1.000045 -0.481184 -0.481184 -0.481184   \n",
       "previous   11162.0 -2.037033e-17  1.000045 -0.363260 -0.363260 -0.363260   \n",
       "poutcome   11162.0 -3.055550e-17  1.000045 -0.514594 -0.514594 -0.514594   \n",
       "deposit    11162.0  4.738398e-01  0.499338  0.000000  0.000000  0.000000   \n",
       "\n",
       "                75%        max  \n",
       "age        0.652074   4.513455  \n",
       "education  1.123641   1.123641  \n",
       "default    0.000000   1.000000  \n",
       "balance    0.055642  24.703510  \n",
       "housing    1.000000   1.000000  \n",
       "loan       0.000000   1.000000  \n",
       "day        0.753170   1.822008  \n",
       "duration   0.357250  10.109123  \n",
       "campaign   0.180598  22.223576  \n",
       "pdays     -0.281190   7.380638  \n",
       "previous   0.073059  24.943204  \n",
       "poutcome   0.526910   2.609919  \n",
       "deposit    1.000000   1.000000  "
      ]
     },
     "execution_count": 11,
     "metadata": {},
     "output_type": "execute_result"
    }
   ],
   "source": [
    "from sklearn.preprocessing import StandardScaler\n",
    "scaler = StandardScaler()\n",
    "data[num_features] = scaler.fit_transform(data[num_features])\n",
    "data.describe().T"
   ]
  },
  {
   "cell_type": "markdown",
   "id": "d843b12e",
   "metadata": {
    "papermill": {
     "duration": 0.011027,
     "end_time": "2023-12-06T13:07:10.945558",
     "exception": false,
     "start_time": "2023-12-06T13:07:10.934531",
     "status": "completed"
    },
    "tags": []
   },
   "source": [
    "Great, now, lets split our data in training and test datasets"
   ]
  },
  {
   "cell_type": "code",
   "execution_count": 12,
   "id": "d4e41d6b",
   "metadata": {
    "execution": {
     "iopub.execute_input": "2023-12-06T13:07:10.969534Z",
     "iopub.status.busy": "2023-12-06T13:07:10.969135Z",
     "iopub.status.idle": "2023-12-06T13:07:10.974793Z",
     "shell.execute_reply": "2023-12-06T13:07:10.974221Z"
    },
    "papermill": {
     "duration": 0.019561,
     "end_time": "2023-12-06T13:07:10.976548",
     "exception": false,
     "start_time": "2023-12-06T13:07:10.956987",
     "status": "completed"
    },
    "tags": []
   },
   "outputs": [],
   "source": [
    "X, y = data.drop(\"deposit\", axis=1), data.deposit"
   ]
  },
  {
   "cell_type": "code",
   "execution_count": 13,
   "id": "7ceeed7d",
   "metadata": {
    "execution": {
     "iopub.execute_input": "2023-12-06T13:07:11.000228Z",
     "iopub.status.busy": "2023-12-06T13:07:10.999598Z",
     "iopub.status.idle": "2023-12-06T13:07:11.116171Z",
     "shell.execute_reply": "2023-12-06T13:07:11.115232Z"
    },
    "papermill": {
     "duration": 0.13093,
     "end_time": "2023-12-06T13:07:11.118561",
     "exception": false,
     "start_time": "2023-12-06T13:07:10.987631",
     "status": "completed"
    },
    "tags": []
   },
   "outputs": [],
   "source": [
    "from sklearn.model_selection import train_test_split\n",
    "X_train, X_valid, y_train, y_valid = train_test_split(X, y, test_size=0.2, random_state=54)"
   ]
  },
  {
   "cell_type": "markdown",
   "id": "7ca724d6",
   "metadata": {
    "papermill": {
     "duration": 0.011157,
     "end_time": "2023-12-06T13:07:11.141040",
     "exception": false,
     "start_time": "2023-12-06T13:07:11.129883",
     "status": "completed"
    },
    "tags": []
   },
   "source": [
    "And now, it's finally time to build and train our model. The first one is mlp, which stands for multi-layer Perceptron, we will use it's classifier version. This model is basic neural network representation in sklearn library, and it's pretty limited, but it will do for now"
   ]
  },
  {
   "cell_type": "code",
   "execution_count": 14,
   "id": "0c70467a",
   "metadata": {
    "execution": {
     "iopub.execute_input": "2023-12-06T13:07:11.164820Z",
     "iopub.status.busy": "2023-12-06T13:07:11.164458Z",
     "iopub.status.idle": "2023-12-06T13:07:20.030392Z",
     "shell.execute_reply": "2023-12-06T13:07:20.029603Z"
    },
    "papermill": {
     "duration": 8.881394,
     "end_time": "2023-12-06T13:07:20.033591",
     "exception": false,
     "start_time": "2023-12-06T13:07:11.152197",
     "status": "completed"
    },
    "tags": []
   },
   "outputs": [
    {
     "name": "stdout",
     "output_type": "stream",
     "text": [
      "[[1006  209]\n",
      " [ 169  849]]\n",
      "F1-score: 0.8179190751445087\n"
     ]
    },
    {
     "name": "stderr",
     "output_type": "stream",
     "text": [
      "/opt/conda/lib/python3.10/site-packages/sklearn/neural_network/_multilayer_perceptron.py:686: ConvergenceWarning: Stochastic Optimizer: Maximum iterations (200) reached and the optimization hasn't converged yet.\n",
      "  warnings.warn(\n"
     ]
    }
   ],
   "source": [
    "from sklearn.neural_network import MLPClassifier\n",
    "from sklearn.metrics import f1_score, confusion_matrix\n",
    "\n",
    "mlp = MLPClassifier(solver='adam', random_state=54)\n",
    "mlp.fit(X_train, y_train)\n",
    "\n",
    "y_pred = mlp.predict(X_valid)\n",
    "print(confusion_matrix(y_valid, y_pred))\n",
    "print('F1-score:', f1_score(y_valid, y_pred))"
   ]
  },
  {
   "cell_type": "markdown",
   "id": "ead60138",
   "metadata": {
    "papermill": {
     "duration": 0.014353,
     "end_time": "2023-12-06T13:07:20.063640",
     "exception": false,
     "start_time": "2023-12-06T13:07:20.049287",
     "status": "completed"
    },
    "tags": []
   },
   "source": [
    "Now, this is the highest F1-score we had so far in all of our models, let's see if we can improve it by tuning the hyperparameters"
   ]
  },
  {
   "cell_type": "markdown",
   "id": "c6c35607",
   "metadata": {
    "papermill": {
     "duration": 0.014729,
     "end_time": "2023-12-06T13:07:20.094083",
     "exception": false,
     "start_time": "2023-12-06T13:07:20.079354",
     "status": "completed"
    },
    "tags": []
   },
   "source": [
    "For this, I will consider using RandomizedSearchCV, so it will take an adequate amount of time"
   ]
  },
  {
   "cell_type": "code",
   "execution_count": 15,
   "id": "074e5486",
   "metadata": {
    "execution": {
     "iopub.execute_input": "2023-12-06T13:07:20.125291Z",
     "iopub.status.busy": "2023-12-06T13:07:20.124905Z",
     "iopub.status.idle": "2023-12-06T13:12:58.365851Z",
     "shell.execute_reply": "2023-12-06T13:12:58.364732Z"
    },
    "papermill": {
     "duration": 338.259199,
     "end_time": "2023-12-06T13:12:58.368162",
     "exception": false,
     "start_time": "2023-12-06T13:07:20.108963",
     "status": "completed"
    },
    "tags": []
   },
   "outputs": [
    {
     "name": "stderr",
     "output_type": "stream",
     "text": [
      "/opt/conda/lib/python3.10/site-packages/sklearn/neural_network/_multilayer_perceptron.py:686: ConvergenceWarning: Stochastic Optimizer: Maximum iterations (200) reached and the optimization hasn't converged yet.\n",
      "  warnings.warn(\n",
      "/opt/conda/lib/python3.10/site-packages/sklearn/neural_network/_multilayer_perceptron.py:686: ConvergenceWarning: Stochastic Optimizer: Maximum iterations (200) reached and the optimization hasn't converged yet.\n",
      "  warnings.warn(\n",
      "/opt/conda/lib/python3.10/site-packages/sklearn/neural_network/_multilayer_perceptron.py:686: ConvergenceWarning: Stochastic Optimizer: Maximum iterations (200) reached and the optimization hasn't converged yet.\n",
      "  warnings.warn(\n",
      "/opt/conda/lib/python3.10/site-packages/sklearn/neural_network/_multilayer_perceptron.py:686: ConvergenceWarning: Stochastic Optimizer: Maximum iterations (200) reached and the optimization hasn't converged yet.\n",
      "  warnings.warn(\n",
      "/opt/conda/lib/python3.10/site-packages/sklearn/neural_network/_multilayer_perceptron.py:686: ConvergenceWarning: Stochastic Optimizer: Maximum iterations (200) reached and the optimization hasn't converged yet.\n",
      "  warnings.warn(\n",
      "/opt/conda/lib/python3.10/site-packages/sklearn/neural_network/_multilayer_perceptron.py:686: ConvergenceWarning: Stochastic Optimizer: Maximum iterations (200) reached and the optimization hasn't converged yet.\n",
      "  warnings.warn(\n",
      "/opt/conda/lib/python3.10/site-packages/sklearn/neural_network/_multilayer_perceptron.py:686: ConvergenceWarning: Stochastic Optimizer: Maximum iterations (200) reached and the optimization hasn't converged yet.\n",
      "  warnings.warn(\n",
      "/opt/conda/lib/python3.10/site-packages/sklearn/neural_network/_multilayer_perceptron.py:686: ConvergenceWarning: Stochastic Optimizer: Maximum iterations (200) reached and the optimization hasn't converged yet.\n",
      "  warnings.warn(\n",
      "/opt/conda/lib/python3.10/site-packages/sklearn/neural_network/_multilayer_perceptron.py:686: ConvergenceWarning: Stochastic Optimizer: Maximum iterations (200) reached and the optimization hasn't converged yet.\n",
      "  warnings.warn(\n",
      "/opt/conda/lib/python3.10/site-packages/sklearn/neural_network/_multilayer_perceptron.py:686: ConvergenceWarning: Stochastic Optimizer: Maximum iterations (200) reached and the optimization hasn't converged yet.\n",
      "  warnings.warn(\n",
      "/opt/conda/lib/python3.10/site-packages/sklearn/neural_network/_multilayer_perceptron.py:686: ConvergenceWarning: Stochastic Optimizer: Maximum iterations (200) reached and the optimization hasn't converged yet.\n",
      "  warnings.warn(\n",
      "/opt/conda/lib/python3.10/site-packages/sklearn/neural_network/_multilayer_perceptron.py:686: ConvergenceWarning: Stochastic Optimizer: Maximum iterations (200) reached and the optimization hasn't converged yet.\n",
      "  warnings.warn(\n",
      "/opt/conda/lib/python3.10/site-packages/sklearn/neural_network/_multilayer_perceptron.py:686: ConvergenceWarning: Stochastic Optimizer: Maximum iterations (200) reached and the optimization hasn't converged yet.\n",
      "  warnings.warn(\n",
      "/opt/conda/lib/python3.10/site-packages/sklearn/neural_network/_multilayer_perceptron.py:686: ConvergenceWarning: Stochastic Optimizer: Maximum iterations (200) reached and the optimization hasn't converged yet.\n",
      "  warnings.warn(\n",
      "/opt/conda/lib/python3.10/site-packages/sklearn/neural_network/_multilayer_perceptron.py:686: ConvergenceWarning: Stochastic Optimizer: Maximum iterations (200) reached and the optimization hasn't converged yet.\n",
      "  warnings.warn(\n",
      "/opt/conda/lib/python3.10/site-packages/sklearn/neural_network/_multilayer_perceptron.py:686: ConvergenceWarning: Stochastic Optimizer: Maximum iterations (200) reached and the optimization hasn't converged yet.\n",
      "  warnings.warn(\n",
      "/opt/conda/lib/python3.10/site-packages/sklearn/neural_network/_multilayer_perceptron.py:686: ConvergenceWarning: Stochastic Optimizer: Maximum iterations (200) reached and the optimization hasn't converged yet.\n",
      "  warnings.warn(\n",
      "/opt/conda/lib/python3.10/site-packages/sklearn/neural_network/_multilayer_perceptron.py:686: ConvergenceWarning: Stochastic Optimizer: Maximum iterations (200) reached and the optimization hasn't converged yet.\n",
      "  warnings.warn(\n",
      "/opt/conda/lib/python3.10/site-packages/sklearn/neural_network/_multilayer_perceptron.py:686: ConvergenceWarning: Stochastic Optimizer: Maximum iterations (200) reached and the optimization hasn't converged yet.\n",
      "  warnings.warn(\n",
      "/opt/conda/lib/python3.10/site-packages/sklearn/neural_network/_multilayer_perceptron.py:686: ConvergenceWarning: Stochastic Optimizer: Maximum iterations (200) reached and the optimization hasn't converged yet.\n",
      "  warnings.warn(\n",
      "/opt/conda/lib/python3.10/site-packages/sklearn/neural_network/_multilayer_perceptron.py:686: ConvergenceWarning: Stochastic Optimizer: Maximum iterations (200) reached and the optimization hasn't converged yet.\n",
      "  warnings.warn(\n",
      "/opt/conda/lib/python3.10/site-packages/sklearn/neural_network/_multilayer_perceptron.py:686: ConvergenceWarning: Stochastic Optimizer: Maximum iterations (200) reached and the optimization hasn't converged yet.\n",
      "  warnings.warn(\n",
      "/opt/conda/lib/python3.10/site-packages/sklearn/neural_network/_multilayer_perceptron.py:686: ConvergenceWarning: Stochastic Optimizer: Maximum iterations (200) reached and the optimization hasn't converged yet.\n",
      "  warnings.warn(\n",
      "/opt/conda/lib/python3.10/site-packages/sklearn/neural_network/_multilayer_perceptron.py:686: ConvergenceWarning: Stochastic Optimizer: Maximum iterations (200) reached and the optimization hasn't converged yet.\n",
      "  warnings.warn(\n",
      "/opt/conda/lib/python3.10/site-packages/sklearn/neural_network/_multilayer_perceptron.py:686: ConvergenceWarning: Stochastic Optimizer: Maximum iterations (200) reached and the optimization hasn't converged yet.\n",
      "  warnings.warn(\n",
      "/opt/conda/lib/python3.10/site-packages/sklearn/neural_network/_multilayer_perceptron.py:686: ConvergenceWarning: Stochastic Optimizer: Maximum iterations (200) reached and the optimization hasn't converged yet.\n",
      "  warnings.warn(\n",
      "/opt/conda/lib/python3.10/site-packages/sklearn/neural_network/_multilayer_perceptron.py:686: ConvergenceWarning: Stochastic Optimizer: Maximum iterations (200) reached and the optimization hasn't converged yet.\n",
      "  warnings.warn(\n",
      "/opt/conda/lib/python3.10/site-packages/sklearn/neural_network/_multilayer_perceptron.py:686: ConvergenceWarning: Stochastic Optimizer: Maximum iterations (200) reached and the optimization hasn't converged yet.\n",
      "  warnings.warn(\n",
      "/opt/conda/lib/python3.10/site-packages/sklearn/neural_network/_multilayer_perceptron.py:686: ConvergenceWarning: Stochastic Optimizer: Maximum iterations (200) reached and the optimization hasn't converged yet.\n",
      "  warnings.warn(\n",
      "/opt/conda/lib/python3.10/site-packages/sklearn/neural_network/_multilayer_perceptron.py:686: ConvergenceWarning: Stochastic Optimizer: Maximum iterations (200) reached and the optimization hasn't converged yet.\n",
      "  warnings.warn(\n",
      "/opt/conda/lib/python3.10/site-packages/sklearn/neural_network/_multilayer_perceptron.py:686: ConvergenceWarning: Stochastic Optimizer: Maximum iterations (200) reached and the optimization hasn't converged yet.\n",
      "  warnings.warn(\n",
      "/opt/conda/lib/python3.10/site-packages/sklearn/neural_network/_multilayer_perceptron.py:686: ConvergenceWarning: Stochastic Optimizer: Maximum iterations (200) reached and the optimization hasn't converged yet.\n",
      "  warnings.warn(\n",
      "/opt/conda/lib/python3.10/site-packages/sklearn/neural_network/_multilayer_perceptron.py:686: ConvergenceWarning: Stochastic Optimizer: Maximum iterations (200) reached and the optimization hasn't converged yet.\n",
      "  warnings.warn(\n",
      "/opt/conda/lib/python3.10/site-packages/sklearn/neural_network/_multilayer_perceptron.py:686: ConvergenceWarning: Stochastic Optimizer: Maximum iterations (200) reached and the optimization hasn't converged yet.\n",
      "  warnings.warn(\n",
      "/opt/conda/lib/python3.10/site-packages/sklearn/neural_network/_multilayer_perceptron.py:686: ConvergenceWarning: Stochastic Optimizer: Maximum iterations (200) reached and the optimization hasn't converged yet.\n",
      "  warnings.warn(\n",
      "/opt/conda/lib/python3.10/site-packages/sklearn/neural_network/_multilayer_perceptron.py:686: ConvergenceWarning: Stochastic Optimizer: Maximum iterations (200) reached and the optimization hasn't converged yet.\n",
      "  warnings.warn(\n",
      "/opt/conda/lib/python3.10/site-packages/sklearn/neural_network/_multilayer_perceptron.py:686: ConvergenceWarning: Stochastic Optimizer: Maximum iterations (200) reached and the optimization hasn't converged yet.\n",
      "  warnings.warn(\n",
      "/opt/conda/lib/python3.10/site-packages/sklearn/neural_network/_multilayer_perceptron.py:686: ConvergenceWarning: Stochastic Optimizer: Maximum iterations (200) reached and the optimization hasn't converged yet.\n",
      "  warnings.warn(\n",
      "/opt/conda/lib/python3.10/site-packages/sklearn/neural_network/_multilayer_perceptron.py:686: ConvergenceWarning: Stochastic Optimizer: Maximum iterations (200) reached and the optimization hasn't converged yet.\n",
      "  warnings.warn(\n",
      "/opt/conda/lib/python3.10/site-packages/sklearn/neural_network/_multilayer_perceptron.py:686: ConvergenceWarning: Stochastic Optimizer: Maximum iterations (200) reached and the optimization hasn't converged yet.\n",
      "  warnings.warn(\n",
      "/opt/conda/lib/python3.10/site-packages/sklearn/neural_network/_multilayer_perceptron.py:686: ConvergenceWarning: Stochastic Optimizer: Maximum iterations (200) reached and the optimization hasn't converged yet.\n",
      "  warnings.warn(\n",
      "/opt/conda/lib/python3.10/site-packages/sklearn/neural_network/_multilayer_perceptron.py:686: ConvergenceWarning: Stochastic Optimizer: Maximum iterations (200) reached and the optimization hasn't converged yet.\n",
      "  warnings.warn(\n",
      "/opt/conda/lib/python3.10/site-packages/sklearn/neural_network/_multilayer_perceptron.py:686: ConvergenceWarning: Stochastic Optimizer: Maximum iterations (200) reached and the optimization hasn't converged yet.\n",
      "  warnings.warn(\n",
      "/opt/conda/lib/python3.10/site-packages/sklearn/neural_network/_multilayer_perceptron.py:686: ConvergenceWarning: Stochastic Optimizer: Maximum iterations (200) reached and the optimization hasn't converged yet.\n",
      "  warnings.warn(\n",
      "/opt/conda/lib/python3.10/site-packages/sklearn/neural_network/_multilayer_perceptron.py:686: ConvergenceWarning: Stochastic Optimizer: Maximum iterations (200) reached and the optimization hasn't converged yet.\n",
      "  warnings.warn(\n",
      "/opt/conda/lib/python3.10/site-packages/sklearn/neural_network/_multilayer_perceptron.py:686: ConvergenceWarning: Stochastic Optimizer: Maximum iterations (200) reached and the optimization hasn't converged yet.\n",
      "  warnings.warn(\n",
      "/opt/conda/lib/python3.10/site-packages/sklearn/neural_network/_multilayer_perceptron.py:686: ConvergenceWarning: Stochastic Optimizer: Maximum iterations (200) reached and the optimization hasn't converged yet.\n",
      "  warnings.warn(\n",
      "/opt/conda/lib/python3.10/site-packages/sklearn/neural_network/_multilayer_perceptron.py:686: ConvergenceWarning: Stochastic Optimizer: Maximum iterations (200) reached and the optimization hasn't converged yet.\n",
      "  warnings.warn(\n",
      "/opt/conda/lib/python3.10/site-packages/sklearn/neural_network/_multilayer_perceptron.py:686: ConvergenceWarning: Stochastic Optimizer: Maximum iterations (200) reached and the optimization hasn't converged yet.\n",
      "  warnings.warn(\n",
      "/opt/conda/lib/python3.10/site-packages/sklearn/neural_network/_multilayer_perceptron.py:686: ConvergenceWarning: Stochastic Optimizer: Maximum iterations (200) reached and the optimization hasn't converged yet.\n",
      "  warnings.warn(\n",
      "/opt/conda/lib/python3.10/site-packages/sklearn/neural_network/_multilayer_perceptron.py:686: ConvergenceWarning: Stochastic Optimizer: Maximum iterations (200) reached and the optimization hasn't converged yet.\n",
      "  warnings.warn(\n",
      "/opt/conda/lib/python3.10/site-packages/sklearn/neural_network/_multilayer_perceptron.py:686: ConvergenceWarning: Stochastic Optimizer: Maximum iterations (200) reached and the optimization hasn't converged yet.\n",
      "  warnings.warn(\n",
      "/opt/conda/lib/python3.10/site-packages/sklearn/neural_network/_multilayer_perceptron.py:686: ConvergenceWarning: Stochastic Optimizer: Maximum iterations (200) reached and the optimization hasn't converged yet.\n",
      "  warnings.warn(\n",
      "/opt/conda/lib/python3.10/site-packages/sklearn/neural_network/_multilayer_perceptron.py:686: ConvergenceWarning: Stochastic Optimizer: Maximum iterations (200) reached and the optimization hasn't converged yet.\n",
      "  warnings.warn(\n",
      "/opt/conda/lib/python3.10/site-packages/sklearn/neural_network/_multilayer_perceptron.py:686: ConvergenceWarning: Stochastic Optimizer: Maximum iterations (200) reached and the optimization hasn't converged yet.\n",
      "  warnings.warn(\n",
      "/opt/conda/lib/python3.10/site-packages/sklearn/neural_network/_multilayer_perceptron.py:686: ConvergenceWarning: Stochastic Optimizer: Maximum iterations (200) reached and the optimization hasn't converged yet.\n",
      "  warnings.warn(\n",
      "/opt/conda/lib/python3.10/site-packages/sklearn/neural_network/_multilayer_perceptron.py:686: ConvergenceWarning: Stochastic Optimizer: Maximum iterations (200) reached and the optimization hasn't converged yet.\n",
      "  warnings.warn(\n",
      "/opt/conda/lib/python3.10/site-packages/sklearn/neural_network/_multilayer_perceptron.py:686: ConvergenceWarning: Stochastic Optimizer: Maximum iterations (200) reached and the optimization hasn't converged yet.\n",
      "  warnings.warn(\n",
      "/opt/conda/lib/python3.10/site-packages/sklearn/neural_network/_multilayer_perceptron.py:686: ConvergenceWarning: Stochastic Optimizer: Maximum iterations (200) reached and the optimization hasn't converged yet.\n",
      "  warnings.warn(\n",
      "/opt/conda/lib/python3.10/site-packages/sklearn/neural_network/_multilayer_perceptron.py:686: ConvergenceWarning: Stochastic Optimizer: Maximum iterations (200) reached and the optimization hasn't converged yet.\n",
      "  warnings.warn(\n",
      "/opt/conda/lib/python3.10/site-packages/sklearn/neural_network/_multilayer_perceptron.py:686: ConvergenceWarning: Stochastic Optimizer: Maximum iterations (200) reached and the optimization hasn't converged yet.\n",
      "  warnings.warn(\n",
      "/opt/conda/lib/python3.10/site-packages/sklearn/neural_network/_multilayer_perceptron.py:686: ConvergenceWarning: Stochastic Optimizer: Maximum iterations (200) reached and the optimization hasn't converged yet.\n",
      "  warnings.warn(\n",
      "/opt/conda/lib/python3.10/site-packages/sklearn/neural_network/_multilayer_perceptron.py:686: ConvergenceWarning: Stochastic Optimizer: Maximum iterations (200) reached and the optimization hasn't converged yet.\n",
      "  warnings.warn(\n",
      "/opt/conda/lib/python3.10/site-packages/sklearn/neural_network/_multilayer_perceptron.py:686: ConvergenceWarning: Stochastic Optimizer: Maximum iterations (200) reached and the optimization hasn't converged yet.\n",
      "  warnings.warn(\n",
      "/opt/conda/lib/python3.10/site-packages/sklearn/neural_network/_multilayer_perceptron.py:686: ConvergenceWarning: Stochastic Optimizer: Maximum iterations (200) reached and the optimization hasn't converged yet.\n",
      "  warnings.warn(\n",
      "/opt/conda/lib/python3.10/site-packages/sklearn/neural_network/_multilayer_perceptron.py:686: ConvergenceWarning: Stochastic Optimizer: Maximum iterations (200) reached and the optimization hasn't converged yet.\n",
      "  warnings.warn(\n",
      "/opt/conda/lib/python3.10/site-packages/sklearn/neural_network/_multilayer_perceptron.py:686: ConvergenceWarning: Stochastic Optimizer: Maximum iterations (200) reached and the optimization hasn't converged yet.\n",
      "  warnings.warn(\n",
      "/opt/conda/lib/python3.10/site-packages/sklearn/neural_network/_multilayer_perceptron.py:686: ConvergenceWarning: Stochastic Optimizer: Maximum iterations (200) reached and the optimization hasn't converged yet.\n",
      "  warnings.warn(\n",
      "/opt/conda/lib/python3.10/site-packages/sklearn/neural_network/_multilayer_perceptron.py:686: ConvergenceWarning: Stochastic Optimizer: Maximum iterations (200) reached and the optimization hasn't converged yet.\n",
      "  warnings.warn(\n",
      "/opt/conda/lib/python3.10/site-packages/sklearn/neural_network/_multilayer_perceptron.py:686: ConvergenceWarning: Stochastic Optimizer: Maximum iterations (200) reached and the optimization hasn't converged yet.\n",
      "  warnings.warn(\n",
      "/opt/conda/lib/python3.10/site-packages/sklearn/neural_network/_multilayer_perceptron.py:686: ConvergenceWarning: Stochastic Optimizer: Maximum iterations (200) reached and the optimization hasn't converged yet.\n",
      "  warnings.warn(\n",
      "/opt/conda/lib/python3.10/site-packages/sklearn/neural_network/_multilayer_perceptron.py:686: ConvergenceWarning: Stochastic Optimizer: Maximum iterations (200) reached and the optimization hasn't converged yet.\n",
      "  warnings.warn(\n",
      "/opt/conda/lib/python3.10/site-packages/sklearn/neural_network/_multilayer_perceptron.py:686: ConvergenceWarning: Stochastic Optimizer: Maximum iterations (200) reached and the optimization hasn't converged yet.\n",
      "  warnings.warn(\n",
      "/opt/conda/lib/python3.10/site-packages/sklearn/neural_network/_multilayer_perceptron.py:686: ConvergenceWarning: Stochastic Optimizer: Maximum iterations (200) reached and the optimization hasn't converged yet.\n",
      "  warnings.warn(\n",
      "/opt/conda/lib/python3.10/site-packages/sklearn/neural_network/_multilayer_perceptron.py:686: ConvergenceWarning: Stochastic Optimizer: Maximum iterations (200) reached and the optimization hasn't converged yet.\n",
      "  warnings.warn(\n",
      "/opt/conda/lib/python3.10/site-packages/sklearn/neural_network/_multilayer_perceptron.py:686: ConvergenceWarning: Stochastic Optimizer: Maximum iterations (200) reached and the optimization hasn't converged yet.\n",
      "  warnings.warn(\n",
      "/opt/conda/lib/python3.10/site-packages/sklearn/neural_network/_multilayer_perceptron.py:686: ConvergenceWarning: Stochastic Optimizer: Maximum iterations (200) reached and the optimization hasn't converged yet.\n",
      "  warnings.warn(\n",
      "/opt/conda/lib/python3.10/site-packages/sklearn/neural_network/_multilayer_perceptron.py:686: ConvergenceWarning: Stochastic Optimizer: Maximum iterations (200) reached and the optimization hasn't converged yet.\n",
      "  warnings.warn(\n",
      "/opt/conda/lib/python3.10/site-packages/sklearn/neural_network/_multilayer_perceptron.py:686: ConvergenceWarning: Stochastic Optimizer: Maximum iterations (200) reached and the optimization hasn't converged yet.\n",
      "  warnings.warn(\n"
     ]
    },
    {
     "data": {
      "text/html": [
       "<style>#sk-container-id-1 {color: black;background-color: white;}#sk-container-id-1 pre{padding: 0;}#sk-container-id-1 div.sk-toggleable {background-color: white;}#sk-container-id-1 label.sk-toggleable__label {cursor: pointer;display: block;width: 100%;margin-bottom: 0;padding: 0.3em;box-sizing: border-box;text-align: center;}#sk-container-id-1 label.sk-toggleable__label-arrow:before {content: \"▸\";float: left;margin-right: 0.25em;color: #696969;}#sk-container-id-1 label.sk-toggleable__label-arrow:hover:before {color: black;}#sk-container-id-1 div.sk-estimator:hover label.sk-toggleable__label-arrow:before {color: black;}#sk-container-id-1 div.sk-toggleable__content {max-height: 0;max-width: 0;overflow: hidden;text-align: left;background-color: #f0f8ff;}#sk-container-id-1 div.sk-toggleable__content pre {margin: 0.2em;color: black;border-radius: 0.25em;background-color: #f0f8ff;}#sk-container-id-1 input.sk-toggleable__control:checked~div.sk-toggleable__content {max-height: 200px;max-width: 100%;overflow: auto;}#sk-container-id-1 input.sk-toggleable__control:checked~label.sk-toggleable__label-arrow:before {content: \"▾\";}#sk-container-id-1 div.sk-estimator input.sk-toggleable__control:checked~label.sk-toggleable__label {background-color: #d4ebff;}#sk-container-id-1 div.sk-label input.sk-toggleable__control:checked~label.sk-toggleable__label {background-color: #d4ebff;}#sk-container-id-1 input.sk-hidden--visually {border: 0;clip: rect(1px 1px 1px 1px);clip: rect(1px, 1px, 1px, 1px);height: 1px;margin: -1px;overflow: hidden;padding: 0;position: absolute;width: 1px;}#sk-container-id-1 div.sk-estimator {font-family: monospace;background-color: #f0f8ff;border: 1px dotted black;border-radius: 0.25em;box-sizing: border-box;margin-bottom: 0.5em;}#sk-container-id-1 div.sk-estimator:hover {background-color: #d4ebff;}#sk-container-id-1 div.sk-parallel-item::after {content: \"\";width: 100%;border-bottom: 1px solid gray;flex-grow: 1;}#sk-container-id-1 div.sk-label:hover label.sk-toggleable__label {background-color: #d4ebff;}#sk-container-id-1 div.sk-serial::before {content: \"\";position: absolute;border-left: 1px solid gray;box-sizing: border-box;top: 0;bottom: 0;left: 50%;z-index: 0;}#sk-container-id-1 div.sk-serial {display: flex;flex-direction: column;align-items: center;background-color: white;padding-right: 0.2em;padding-left: 0.2em;position: relative;}#sk-container-id-1 div.sk-item {position: relative;z-index: 1;}#sk-container-id-1 div.sk-parallel {display: flex;align-items: stretch;justify-content: center;background-color: white;position: relative;}#sk-container-id-1 div.sk-item::before, #sk-container-id-1 div.sk-parallel-item::before {content: \"\";position: absolute;border-left: 1px solid gray;box-sizing: border-box;top: 0;bottom: 0;left: 50%;z-index: -1;}#sk-container-id-1 div.sk-parallel-item {display: flex;flex-direction: column;z-index: 1;position: relative;background-color: white;}#sk-container-id-1 div.sk-parallel-item:first-child::after {align-self: flex-end;width: 50%;}#sk-container-id-1 div.sk-parallel-item:last-child::after {align-self: flex-start;width: 50%;}#sk-container-id-1 div.sk-parallel-item:only-child::after {width: 0;}#sk-container-id-1 div.sk-dashed-wrapped {border: 1px dashed gray;margin: 0 0.4em 0.5em 0.4em;box-sizing: border-box;padding-bottom: 0.4em;background-color: white;}#sk-container-id-1 div.sk-label label {font-family: monospace;font-weight: bold;display: inline-block;line-height: 1.2em;}#sk-container-id-1 div.sk-label-container {text-align: center;}#sk-container-id-1 div.sk-container {/* jupyter's `normalize.less` sets `[hidden] { display: none; }` but bootstrap.min.css set `[hidden] { display: none !important; }` so we also need the `!important` here to be able to override the default hidden behavior on the sphinx rendered scikit-learn.org. See: https://github.com/scikit-learn/scikit-learn/issues/21755 */display: inline-block !important;position: relative;}#sk-container-id-1 div.sk-text-repr-fallback {display: none;}</style><div id=\"sk-container-id-1\" class=\"sk-top-container\"><div class=\"sk-text-repr-fallback\"><pre>RandomizedSearchCV(cv=5, estimator=MLPClassifier(random_state=54), n_iter=40,\n",
       "                   n_jobs=-1,\n",
       "                   param_distributions={&#x27;activation&#x27;: [&#x27;relu&#x27;, &#x27;logistic&#x27;,\n",
       "                                                       &#x27;tanh&#x27;],\n",
       "                                        &#x27;hidden_layer_sizes&#x27;: [(20,), (50,),\n",
       "                                                               (70,), (100,),\n",
       "                                                               (150,), (50, 50),\n",
       "                                                               (100, 50),\n",
       "                                                               (100, 100),\n",
       "                                                               (100, 50, 25),\n",
       "                                                               (75, 50, 25)],\n",
       "                                        &#x27;learning_rate_init&#x27;: [0.001, 0.01,\n",
       "                                                               0.1]},\n",
       "                   random_state=54, scoring=&#x27;f1&#x27;)</pre><b>In a Jupyter environment, please rerun this cell to show the HTML representation or trust the notebook. <br />On GitHub, the HTML representation is unable to render, please try loading this page with nbviewer.org.</b></div><div class=\"sk-container\" hidden><div class=\"sk-item sk-dashed-wrapped\"><div class=\"sk-label-container\"><div class=\"sk-label sk-toggleable\"><input class=\"sk-toggleable__control sk-hidden--visually\" id=\"sk-estimator-id-1\" type=\"checkbox\" ><label for=\"sk-estimator-id-1\" class=\"sk-toggleable__label sk-toggleable__label-arrow\">RandomizedSearchCV</label><div class=\"sk-toggleable__content\"><pre>RandomizedSearchCV(cv=5, estimator=MLPClassifier(random_state=54), n_iter=40,\n",
       "                   n_jobs=-1,\n",
       "                   param_distributions={&#x27;activation&#x27;: [&#x27;relu&#x27;, &#x27;logistic&#x27;,\n",
       "                                                       &#x27;tanh&#x27;],\n",
       "                                        &#x27;hidden_layer_sizes&#x27;: [(20,), (50,),\n",
       "                                                               (70,), (100,),\n",
       "                                                               (150,), (50, 50),\n",
       "                                                               (100, 50),\n",
       "                                                               (100, 100),\n",
       "                                                               (100, 50, 25),\n",
       "                                                               (75, 50, 25)],\n",
       "                                        &#x27;learning_rate_init&#x27;: [0.001, 0.01,\n",
       "                                                               0.1]},\n",
       "                   random_state=54, scoring=&#x27;f1&#x27;)</pre></div></div></div><div class=\"sk-parallel\"><div class=\"sk-parallel-item\"><div class=\"sk-item\"><div class=\"sk-label-container\"><div class=\"sk-label sk-toggleable\"><input class=\"sk-toggleable__control sk-hidden--visually\" id=\"sk-estimator-id-2\" type=\"checkbox\" ><label for=\"sk-estimator-id-2\" class=\"sk-toggleable__label sk-toggleable__label-arrow\">estimator: MLPClassifier</label><div class=\"sk-toggleable__content\"><pre>MLPClassifier(random_state=54)</pre></div></div></div><div class=\"sk-serial\"><div class=\"sk-item\"><div class=\"sk-estimator sk-toggleable\"><input class=\"sk-toggleable__control sk-hidden--visually\" id=\"sk-estimator-id-3\" type=\"checkbox\" ><label for=\"sk-estimator-id-3\" class=\"sk-toggleable__label sk-toggleable__label-arrow\">MLPClassifier</label><div class=\"sk-toggleable__content\"><pre>MLPClassifier(random_state=54)</pre></div></div></div></div></div></div></div></div></div></div>"
      ],
      "text/plain": [
       "RandomizedSearchCV(cv=5, estimator=MLPClassifier(random_state=54), n_iter=40,\n",
       "                   n_jobs=-1,\n",
       "                   param_distributions={'activation': ['relu', 'logistic',\n",
       "                                                       'tanh'],\n",
       "                                        'hidden_layer_sizes': [(20,), (50,),\n",
       "                                                               (70,), (100,),\n",
       "                                                               (150,), (50, 50),\n",
       "                                                               (100, 50),\n",
       "                                                               (100, 100),\n",
       "                                                               (100, 50, 25),\n",
       "                                                               (75, 50, 25)],\n",
       "                                        'learning_rate_init': [0.001, 0.01,\n",
       "                                                               0.1]},\n",
       "                   random_state=54, scoring='f1')"
      ]
     },
     "execution_count": 15,
     "metadata": {},
     "output_type": "execute_result"
    }
   ],
   "source": [
    "from sklearn.model_selection import RandomizedSearchCV\n",
    "param_grid = {\n",
    "    \"hidden_layer_sizes\" : [(20,),(50,),(70,),(100,),(150,), (50,50),(100,50),(100,100),(100, 50, 25), (75, 50, 25)],\n",
    "    \"activation\" : [\"relu\", \"logistic\", \"tanh\"],\n",
    "    \"learning_rate_init\": [0.001, 0.01, 0.1],\n",
    "}\n",
    "model_grid = RandomizedSearchCV(mlp, param_grid, cv=5, scoring=\"f1\", n_jobs=-1, random_state=54, n_iter=40) \n",
    "model_grid.fit(X_train, y_train)"
   ]
  },
  {
   "cell_type": "code",
   "execution_count": 16,
   "id": "3d4e6fe7",
   "metadata": {
    "execution": {
     "iopub.execute_input": "2023-12-06T13:12:58.402021Z",
     "iopub.status.busy": "2023-12-06T13:12:58.401694Z",
     "iopub.status.idle": "2023-12-06T13:12:58.407406Z",
     "shell.execute_reply": "2023-12-06T13:12:58.405968Z"
    },
    "papermill": {
     "duration": 0.025197,
     "end_time": "2023-12-06T13:12:58.409918",
     "exception": false,
     "start_time": "2023-12-06T13:12:58.384721",
     "status": "completed"
    },
    "tags": []
   },
   "outputs": [
    {
     "name": "stdout",
     "output_type": "stream",
     "text": [
      "{'learning_rate_init': 0.001, 'hidden_layer_sizes': (20,), 'activation': 'relu'}\n",
      "0.8475690355983518\n"
     ]
    }
   ],
   "source": [
    "print(model_grid.best_params_)\n",
    "print(model_grid.best_score_)"
   ]
  },
  {
   "cell_type": "markdown",
   "id": "e087b649",
   "metadata": {
    "papermill": {
     "duration": 0.016273,
     "end_time": "2023-12-06T13:12:58.442769",
     "exception": false,
     "start_time": "2023-12-06T13:12:58.426496",
     "status": "completed"
    },
    "tags": []
   },
   "source": [
    "We managed to drastically improve our test score, now, let's plot our validation curves"
   ]
  },
  {
   "cell_type": "code",
   "execution_count": 17,
   "id": "70038ab0",
   "metadata": {
    "execution": {
     "iopub.execute_input": "2023-12-06T13:12:58.481573Z",
     "iopub.status.busy": "2023-12-06T13:12:58.481142Z",
     "iopub.status.idle": "2023-12-06T13:12:58.514421Z",
     "shell.execute_reply": "2023-12-06T13:12:58.513418Z"
    },
    "papermill": {
     "duration": 0.055955,
     "end_time": "2023-12-06T13:12:58.517294",
     "exception": false,
     "start_time": "2023-12-06T13:12:58.461339",
     "status": "completed"
    },
    "tags": []
   },
   "outputs": [
    {
     "name": "stdout",
     "output_type": "stream",
     "text": [
      "    mean_fit_time  std_fit_time  mean_score_time  std_score_time  \\\n",
      "0        2.373591      0.409357         0.008855        0.000219   \n",
      "1        4.799551      0.704204         0.009490        0.000519   \n",
      "2       18.885416      0.247876         0.018041        0.001130   \n",
      "3       14.362163      0.170918         0.015080        0.001003   \n",
      "4        5.087478      0.563811         0.007339        0.000332   \n",
      "5        6.477542      0.412635         0.017699        0.000507   \n",
      "6        5.001480      0.359179         0.014571        0.000590   \n",
      "7       11.850321      0.870247         0.011834        0.000535   \n",
      "8        4.286621      0.106871         0.007660        0.002535   \n",
      "9        6.258413      0.958056         0.014043        0.000417   \n",
      "10       2.107575      0.296729         0.007125        0.000213   \n",
      "11       4.553483      0.591563         0.012367        0.000806   \n",
      "12       5.590997      0.059499         0.008098        0.000212   \n",
      "13       2.441922      0.623942         0.016573        0.003417   \n",
      "14      12.387112      0.271313         0.014472        0.000722   \n",
      "15       5.534592      0.945905         0.011861        0.000490   \n",
      "16       5.853331      1.136253         0.016167        0.000785   \n",
      "17       7.682854      0.089354         0.010241        0.000329   \n",
      "18      15.193402      0.104705         0.014950        0.000683   \n",
      "19       2.849369      0.715656         0.014268        0.000641   \n",
      "20       4.801521      0.220668         0.007596        0.000329   \n",
      "21      10.895003      5.416398         0.013775        0.000346   \n",
      "22       4.305670      0.088642         0.007329        0.000150   \n",
      "23       4.795420      0.553182         0.008024        0.001990   \n",
      "24      12.246844      1.775749         0.013287        0.000832   \n",
      "25       6.479038      0.053742         0.008822        0.000204   \n",
      "26       3.826983      0.695684         0.009023        0.000532   \n",
      "27       2.372134      0.532605         0.007940        0.000784   \n",
      "28       3.244590      0.230561         0.008314        0.000744   \n",
      "29      13.966349      0.287005         0.009553        0.001316   \n",
      "30       5.259839      0.263257         0.011590        0.000214   \n",
      "31       4.875677      1.055455         0.008673        0.000413   \n",
      "32       2.454334      0.497552         0.016199        0.002903   \n",
      "33       5.648934      0.040620         0.009462        0.001930   \n",
      "34       6.367545      0.064271         0.008971        0.000418   \n",
      "35      12.174051      0.258842         0.019992        0.009927   \n",
      "36      10.417073      3.432551         0.012124        0.000461   \n",
      "37       2.945616      0.447635         0.008619        0.000622   \n",
      "38       2.710209      0.283826         0.009736        0.000535   \n",
      "39       2.280920      0.198210         0.007350        0.001278   \n",
      "\n",
      "   param_learning_rate_init param_hidden_layer_sizes param_activation  \\\n",
      "0                       0.1                    (70,)         logistic   \n",
      "1                      0.01               (100, 100)             relu   \n",
      "2                     0.001               (100, 100)             tanh   \n",
      "3                     0.001                (100, 50)             tanh   \n",
      "4                      0.01                   (100,)             relu   \n",
      "5                      0.01               (100, 100)             tanh   \n",
      "6                      0.01                (100, 50)             tanh   \n",
      "7                      0.01             (75, 50, 25)         logistic   \n",
      "8                     0.001                    (20,)             relu   \n",
      "9                       0.1               (100, 100)         logistic   \n",
      "10                      0.1                    (20,)         logistic   \n",
      "11                      0.1                (100, 50)         logistic   \n",
      "12                    0.001                    (50,)         logistic   \n",
      "13                      0.1                (100, 50)             tanh   \n",
      "14                    0.001                   (150,)             tanh   \n",
      "15                      0.1             (75, 50, 25)         logistic   \n",
      "16                     0.01            (100, 50, 25)             tanh   \n",
      "17                    0.001                    (70,)             tanh   \n",
      "18                    0.001             (75, 50, 25)             tanh   \n",
      "19                      0.1                   (150,)             tanh   \n",
      "20                     0.01                    (20,)             tanh   \n",
      "21                    0.001               (100, 100)         logistic   \n",
      "22                     0.01                    (20,)         logistic   \n",
      "23                     0.01                    (50,)             relu   \n",
      "24                     0.01            (100, 50, 25)         logistic   \n",
      "25                    0.001                    (70,)         logistic   \n",
      "26                      0.1             (75, 50, 25)             relu   \n",
      "27                      0.1                   (100,)             relu   \n",
      "28                      0.1                (100, 50)             relu   \n",
      "29                    0.001               (100, 100)             relu   \n",
      "30                     0.01                 (50, 50)             tanh   \n",
      "31                     0.01             (75, 50, 25)             relu   \n",
      "32                      0.1             (75, 50, 25)             tanh   \n",
      "33                     0.01                    (50,)         logistic   \n",
      "34                     0.01                    (70,)         logistic   \n",
      "35                     0.01                   (150,)             tanh   \n",
      "36                    0.001                (100, 50)         logistic   \n",
      "37                      0.1                    (50,)         logistic   \n",
      "38                      0.1                   (100,)         logistic   \n",
      "39                      0.1                    (50,)             tanh   \n",
      "\n",
      "                                               params  split0_test_score  \\\n",
      "0   {'learning_rate_init': 0.1, 'hidden_layer_size...           0.808338   \n",
      "1   {'learning_rate_init': 0.01, 'hidden_layer_siz...           0.816280   \n",
      "2   {'learning_rate_init': 0.001, 'hidden_layer_si...           0.828932   \n",
      "3   {'learning_rate_init': 0.001, 'hidden_layer_si...           0.831124   \n",
      "4   {'learning_rate_init': 0.01, 'hidden_layer_siz...           0.826038   \n",
      "5   {'learning_rate_init': 0.01, 'hidden_layer_siz...           0.832780   \n",
      "6   {'learning_rate_init': 0.01, 'hidden_layer_siz...           0.811744   \n",
      "7   {'learning_rate_init': 0.01, 'hidden_layer_siz...           0.796429   \n",
      "8   {'learning_rate_init': 0.001, 'hidden_layer_si...           0.848000   \n",
      "9   {'learning_rate_init': 0.1, 'hidden_layer_size...           0.811442   \n",
      "10  {'learning_rate_init': 0.1, 'hidden_layer_size...           0.811916   \n",
      "11  {'learning_rate_init': 0.1, 'hidden_layer_size...           0.802867   \n",
      "12  {'learning_rate_init': 0.001, 'hidden_layer_si...           0.846756   \n",
      "13  {'learning_rate_init': 0.1, 'hidden_layer_size...           0.840345   \n",
      "14  {'learning_rate_init': 0.001, 'hidden_layer_si...           0.845444   \n",
      "15  {'learning_rate_init': 0.1, 'hidden_layer_size...           0.838673   \n",
      "16  {'learning_rate_init': 0.01, 'hidden_layer_siz...           0.815668   \n",
      "17  {'learning_rate_init': 0.001, 'hidden_layer_si...           0.843429   \n",
      "18  {'learning_rate_init': 0.001, 'hidden_layer_si...           0.822526   \n",
      "19  {'learning_rate_init': 0.1, 'hidden_layer_size...           0.813122   \n",
      "20  {'learning_rate_init': 0.01, 'hidden_layer_siz...           0.815880   \n",
      "21  {'learning_rate_init': 0.001, 'hidden_layer_si...           0.822248   \n",
      "22  {'learning_rate_init': 0.01, 'hidden_layer_siz...           0.824683   \n",
      "23  {'learning_rate_init': 0.01, 'hidden_layer_siz...           0.806508   \n",
      "24  {'learning_rate_init': 0.01, 'hidden_layer_siz...           0.804171   \n",
      "25  {'learning_rate_init': 0.001, 'hidden_layer_si...           0.844244   \n",
      "26  {'learning_rate_init': 0.1, 'hidden_layer_size...           0.840563   \n",
      "27  {'learning_rate_init': 0.1, 'hidden_layer_size...           0.821088   \n",
      "28  {'learning_rate_init': 0.1, 'hidden_layer_size...           0.835189   \n",
      "29  {'learning_rate_init': 0.001, 'hidden_layer_si...           0.803222   \n",
      "30  {'learning_rate_init': 0.01, 'hidden_layer_siz...           0.811429   \n",
      "31  {'learning_rate_init': 0.01, 'hidden_layer_siz...           0.820717   \n",
      "32  {'learning_rate_init': 0.1, 'hidden_layer_size...           0.808486   \n",
      "33  {'learning_rate_init': 0.01, 'hidden_layer_siz...           0.815880   \n",
      "34  {'learning_rate_init': 0.01, 'hidden_layer_siz...           0.816869   \n",
      "35  {'learning_rate_init': 0.01, 'hidden_layer_siz...           0.805987   \n",
      "36  {'learning_rate_init': 0.001, 'hidden_layer_si...           0.848896   \n",
      "37  {'learning_rate_init': 0.1, 'hidden_layer_size...           0.794441   \n",
      "38  {'learning_rate_init': 0.1, 'hidden_layer_size...           0.815686   \n",
      "39  {'learning_rate_init': 0.1, 'hidden_layer_size...           0.813873   \n",
      "\n",
      "    split1_test_score  split2_test_score  split3_test_score  \\\n",
      "0            0.801881           0.815036           0.789286   \n",
      "1            0.806071           0.793224           0.800476   \n",
      "2            0.811778           0.827830           0.831395   \n",
      "3            0.819124           0.830437           0.811442   \n",
      "4            0.807648           0.796407           0.807243   \n",
      "5            0.806210           0.823460           0.812573   \n",
      "6            0.820809           0.829125           0.801663   \n",
      "7            0.798841           0.792317           0.790753   \n",
      "8            0.841743           0.849971           0.846154   \n",
      "9            0.817460           0.809069           0.803499   \n",
      "10           0.816568           0.804442           0.819911   \n",
      "11           0.797891           0.825602           0.797891   \n",
      "12           0.845465           0.849598           0.833044   \n",
      "13           0.850351           0.837450           0.837691   \n",
      "14           0.838261           0.847518           0.837101   \n",
      "15           0.818234           0.834600           0.826495   \n",
      "16           0.815022           0.808178           0.807670   \n",
      "17           0.840462           0.851787           0.844671   \n",
      "18           0.810873           0.805024           0.795787   \n",
      "19           0.809605           0.812749           0.807778   \n",
      "20           0.816918           0.821153           0.804624   \n",
      "21           0.827033           0.850446           0.848352   \n",
      "22           0.830962           0.842533           0.829885   \n",
      "23           0.806584           0.827103           0.813063   \n",
      "24           0.806265           0.793651           0.804159   \n",
      "25           0.843483           0.847182           0.833526   \n",
      "26           0.828849           0.847383           0.839276   \n",
      "27           0.828294           0.841132           0.830994   \n",
      "28           0.848018           0.831983           0.833790   \n",
      "29           0.812322           0.813200           0.809633   \n",
      "30           0.798349           0.819518           0.811287   \n",
      "31           0.800000           0.793083           0.802326   \n",
      "32           0.819388           0.819219           0.788936   \n",
      "33           0.812242           0.807307           0.803561   \n",
      "34           0.819919           0.814901           0.798587   \n",
      "35           0.810749           0.802655           0.799539   \n",
      "36           0.836528           0.853009           0.840317   \n",
      "37           0.819193           0.801938           0.806022   \n",
      "38           0.818287           0.808587           0.794421   \n",
      "39           0.804651           0.794376           0.790454   \n",
      "\n",
      "    split4_test_score  mean_test_score  std_test_score  rank_test_score  \n",
      "0            0.809143         0.804737        0.008779               34  \n",
      "1            0.818853         0.806981        0.009590               31  \n",
      "2            0.824777         0.824943        0.006917               14  \n",
      "3            0.825865         0.823599        0.007434               15  \n",
      "4            0.802030         0.807873        0.009960               27  \n",
      "5            0.815145         0.818034        0.009218               16  \n",
      "6            0.808832         0.814435        0.009573               18  \n",
      "7            0.790670         0.793802        0.003274               39  \n",
      "8            0.851977         0.847569        0.003502                1  \n",
      "9            0.780193         0.804333        0.012874               35  \n",
      "10           0.828329         0.816233        0.007970               17  \n",
      "11           0.803084         0.805467        0.010321               32  \n",
      "12           0.832676         0.841508        0.007187                4  \n",
      "13           0.824697         0.838107        0.008190                8  \n",
      "14           0.840807         0.841826        0.004039                3  \n",
      "15           0.825962         0.828793        0.007157               13  \n",
      "16           0.818026         0.812913        0.004198               21  \n",
      "17           0.839886         0.844047        0.004262                2  \n",
      "18           0.806452         0.808132        0.008713               26  \n",
      "19           0.803632         0.809377        0.003493               24  \n",
      "20           0.812852         0.814285        0.005514               19  \n",
      "21           0.838818         0.837379        0.011218                9  \n",
      "22           0.826437         0.830900        0.006244               12  \n",
      "23           0.811331         0.812918        0.007549               20  \n",
      "24           0.812754         0.804200        0.006144               36  \n",
      "25           0.833145         0.840316        0.005833                5  \n",
      "26           0.838179         0.838850        0.005940                6  \n",
      "27           0.833968         0.831095        0.006588               11  \n",
      "28           0.834149         0.836626        0.005789               10  \n",
      "29           0.786345         0.804944        0.009934               33  \n",
      "30           0.797497         0.807616        0.008461               29  \n",
      "31           0.822742         0.807774        0.011811               28  \n",
      "32           0.730159         0.793238        0.033433               40  \n",
      "33           0.804335         0.808665        0.004722               25  \n",
      "34           0.800000         0.810055        0.008942               23  \n",
      "35           0.792366         0.802259        0.006187               37  \n",
      "36           0.813288         0.838408        0.013867                7  \n",
      "37           0.813913         0.807101        0.008726               30  \n",
      "38           0.820308         0.811458        0.009395               22  \n",
      "39           0.797734         0.800218        0.008267               38  \n"
     ]
    }
   ],
   "source": [
    "import matplotlib.pyplot as plt\n",
    "results_df = pd.DataFrame(model_grid.cv_results_)\n",
    "print(results_df)"
   ]
  },
  {
   "cell_type": "code",
   "execution_count": 18,
   "id": "35f68000",
   "metadata": {
    "execution": {
     "iopub.execute_input": "2023-12-06T13:12:58.557879Z",
     "iopub.status.busy": "2023-12-06T13:12:58.557164Z",
     "iopub.status.idle": "2023-12-06T13:12:58.774469Z",
     "shell.execute_reply": "2023-12-06T13:12:58.773780Z"
    },
    "papermill": {
     "duration": 0.241643,
     "end_time": "2023-12-06T13:12:58.776169",
     "exception": false,
     "start_time": "2023-12-06T13:12:58.534526",
     "status": "completed"
    },
    "tags": []
   },
   "outputs": [
    {
     "data": {
      "image/png": "[encoded data removed]",
      "text/plain": [
       "<Figure size 640x480 with 1 Axes>"
      ]
     },
     "metadata": {},
     "output_type": "display_data"
    }
   ],
   "source": [
    "results_df = pd.DataFrame(model_grid.cv_results_)\n",
    "plt.plot(results_df[[\"param_learning_rate_init\", \"mean_test_score\"]].groupby(\"param_learning_rate_init\").max())\n",
    "\n",
    "plt.xlabel('learning rate')\n",
    "plt.ylabel('test f1 score')\n",
    "plt.title('learning rate vs f1')\n",
    "plt.show()"
   ]
  },
  {
   "cell_type": "code",
   "execution_count": 19,
   "id": "3ee54e51",
   "metadata": {
    "execution": {
     "iopub.execute_input": "2023-12-06T13:12:58.812105Z",
     "iopub.status.busy": "2023-12-06T13:12:58.811239Z",
     "iopub.status.idle": "2023-12-06T13:12:59.056295Z",
     "shell.execute_reply": "2023-12-06T13:12:59.055242Z"
    },
    "papermill": {
     "duration": 0.266755,
     "end_time": "2023-12-06T13:12:59.059339",
     "exception": false,
     "start_time": "2023-12-06T13:12:58.792584",
     "status": "completed"
    },
    "tags": []
   },
   "outputs": [
    {
     "data": {
      "image/png": "[encoded data removed]",
      "text/plain": [
       "<Figure size 1200x600 with 1 Axes>"
      ]
     },
     "metadata": {},
     "output_type": "display_data"
    }
   ],
   "source": [
    "import pandas as pd\n",
    "import matplotlib.pyplot as plt\n",
    "\n",
    "results_df[\"param_hidden_layer_sizes_str\"] = results_df[\"param_hidden_layer_sizes\"].astype(str)\n",
    "\n",
    "plt.figure(figsize=(12, 6))  \n",
    "\n",
    "\n",
    "plt.plot(results_df[[\"param_hidden_layer_sizes_str\", \"mean_test_score\"]].groupby(\"param_hidden_layer_sizes_str\").max())\n",
    "\n",
    "plt.xlabel('hidden layer sizes')\n",
    "plt.ylabel('test f1 score')\n",
    "plt.title('hidden layer sizes vs f1')\n",
    "plt.show()\n"
   ]
  },
  {
   "cell_type": "code",
   "execution_count": 20,
   "id": "76508bdc",
   "metadata": {
    "execution": {
     "iopub.execute_input": "2023-12-06T13:12:59.096742Z",
     "iopub.status.busy": "2023-12-06T13:12:59.096405Z",
     "iopub.status.idle": "2023-12-06T13:12:59.263708Z",
     "shell.execute_reply": "2023-12-06T13:12:59.262363Z"
    },
    "papermill": {
     "duration": 0.188903,
     "end_time": "2023-12-06T13:12:59.265721",
     "exception": false,
     "start_time": "2023-12-06T13:12:59.076818",
     "status": "completed"
    },
    "tags": []
   },
   "outputs": [
    {
     "data": {
      "image/png": "[encoded data removed]",
      "text/plain": [
       "<Figure size 640x480 with 1 Axes>"
      ]
     },
     "metadata": {},
     "output_type": "display_data"
    }
   ],
   "source": [
    "results_df = pd.DataFrame(model_grid.cv_results_)\n",
    "plt.plot(results_df[[\"param_activation\", \"mean_test_score\"]].groupby(\"param_activation\").max())\n",
    "\n",
    "plt.xlabel('activation function')\n",
    "plt.ylabel('test f1 score')\n",
    "plt.title('activation function vs f1')\n",
    "plt.show()"
   ]
  },
  {
   "cell_type": "markdown",
   "id": "a5db6a0e",
   "metadata": {
    "papermill": {
     "duration": 0.017807,
     "end_time": "2023-12-06T13:12:59.301436",
     "exception": false,
     "start_time": "2023-12-06T13:12:59.283629",
     "status": "completed"
    },
    "tags": []
   },
   "source": [
    "Alright, to sum up, we see that our best performing model contains the relu activation function, one hidden layer with 20 neurons(we can see that other combinations provided us with less accurate answers, this might be due to the model overfitting) and with 0.001 learning rate.\n"
   ]
  },
  {
   "cell_type": "markdown",
   "id": "873611b2",
   "metadata": {
    "papermill": {
     "duration": 0.016909,
     "end_time": "2023-12-06T13:12:59.335649",
     "exception": false,
     "start_time": "2023-12-06T13:12:59.318740",
     "status": "completed"
    },
    "tags": []
   },
   "source": [
    "Now, let's try using ensemles for this problem. Firstly, we will try bagging with logistic regression"
   ]
  },
  {
   "cell_type": "code",
   "execution_count": 21,
   "id": "74913b40",
   "metadata": {
    "execution": {
     "iopub.execute_input": "2023-12-06T13:12:59.372237Z",
     "iopub.status.busy": "2023-12-06T13:12:59.371297Z",
     "iopub.status.idle": "2023-12-06T13:13:00.425254Z",
     "shell.execute_reply": "2023-12-06T13:13:00.424411Z"
    },
    "papermill": {
     "duration": 1.074461,
     "end_time": "2023-12-06T13:13:00.427340",
     "exception": false,
     "start_time": "2023-12-06T13:12:59.352879",
     "status": "completed"
    },
    "tags": []
   },
   "outputs": [
    {
     "data": {
      "text/html": [
       "<style>#sk-container-id-2 {color: black;background-color: white;}#sk-container-id-2 pre{padding: 0;}#sk-container-id-2 div.sk-toggleable {background-color: white;}#sk-container-id-2 label.sk-toggleable__label {cursor: pointer;display: block;width: 100%;margin-bottom: 0;padding: 0.3em;box-sizing: border-box;text-align: center;}#sk-container-id-2 label.sk-toggleable__label-arrow:before {content: \"▸\";float: left;margin-right: 0.25em;color: #696969;}#sk-container-id-2 label.sk-toggleable__label-arrow:hover:before {color: black;}#sk-container-id-2 div.sk-estimator:hover label.sk-toggleable__label-arrow:before {color: black;}#sk-container-id-2 div.sk-toggleable__content {max-height: 0;max-width: 0;overflow: hidden;text-align: left;background-color: #f0f8ff;}#sk-container-id-2 div.sk-toggleable__content pre {margin: 0.2em;color: black;border-radius: 0.25em;background-color: #f0f8ff;}#sk-container-id-2 input.sk-toggleable__control:checked~div.sk-toggleable__content {max-height: 200px;max-width: 100%;overflow: auto;}#sk-container-id-2 input.sk-toggleable__control:checked~label.sk-toggleable__label-arrow:before {content: \"▾\";}#sk-container-id-2 div.sk-estimator input.sk-toggleable__control:checked~label.sk-toggleable__label {background-color: #d4ebff;}#sk-container-id-2 div.sk-label input.sk-toggleable__control:checked~label.sk-toggleable__label {background-color: #d4ebff;}#sk-container-id-2 input.sk-hidden--visually {border: 0;clip: rect(1px 1px 1px 1px);clip: rect(1px, 1px, 1px, 1px);height: 1px;margin: -1px;overflow: hidden;padding: 0;position: absolute;width: 1px;}#sk-container-id-2 div.sk-estimator {font-family: monospace;background-color: #f0f8ff;border: 1px dotted black;border-radius: 0.25em;box-sizing: border-box;margin-bottom: 0.5em;}#sk-container-id-2 div.sk-estimator:hover {background-color: #d4ebff;}#sk-container-id-2 div.sk-parallel-item::after {content: \"\";width: 100%;border-bottom: 1px solid gray;flex-grow: 1;}#sk-container-id-2 div.sk-label:hover label.sk-toggleable__label {background-color: #d4ebff;}#sk-container-id-2 div.sk-serial::before {content: \"\";position: absolute;border-left: 1px solid gray;box-sizing: border-box;top: 0;bottom: 0;left: 50%;z-index: 0;}#sk-container-id-2 div.sk-serial {display: flex;flex-direction: column;align-items: center;background-color: white;padding-right: 0.2em;padding-left: 0.2em;position: relative;}#sk-container-id-2 div.sk-item {position: relative;z-index: 1;}#sk-container-id-2 div.sk-parallel {display: flex;align-items: stretch;justify-content: center;background-color: white;position: relative;}#sk-container-id-2 div.sk-item::before, #sk-container-id-2 div.sk-parallel-item::before {content: \"\";position: absolute;border-left: 1px solid gray;box-sizing: border-box;top: 0;bottom: 0;left: 50%;z-index: -1;}#sk-container-id-2 div.sk-parallel-item {display: flex;flex-direction: column;z-index: 1;position: relative;background-color: white;}#sk-container-id-2 div.sk-parallel-item:first-child::after {align-self: flex-end;width: 50%;}#sk-container-id-2 div.sk-parallel-item:last-child::after {align-self: flex-start;width: 50%;}#sk-container-id-2 div.sk-parallel-item:only-child::after {width: 0;}#sk-container-id-2 div.sk-dashed-wrapped {border: 1px dashed gray;margin: 0 0.4em 0.5em 0.4em;box-sizing: border-box;padding-bottom: 0.4em;background-color: white;}#sk-container-id-2 div.sk-label label {font-family: monospace;font-weight: bold;display: inline-block;line-height: 1.2em;}#sk-container-id-2 div.sk-label-container {text-align: center;}#sk-container-id-2 div.sk-container {/* jupyter's `normalize.less` sets `[hidden] { display: none; }` but bootstrap.min.css set `[hidden] { display: none !important; }` so we also need the `!important` here to be able to override the default hidden behavior on the sphinx rendered scikit-learn.org. See: https://github.com/scikit-learn/scikit-learn/issues/21755 */display: inline-block !important;position: relative;}#sk-container-id-2 div.sk-text-repr-fallback {display: none;}</style><div id=\"sk-container-id-2\" class=\"sk-top-container\"><div class=\"sk-text-repr-fallback\"><pre>BaggingClassifier(estimator=LogisticRegression(), max_samples=0.5)</pre><b>In a Jupyter environment, please rerun this cell to show the HTML representation or trust the notebook. <br />On GitHub, the HTML representation is unable to render, please try loading this page with nbviewer.org.</b></div><div class=\"sk-container\" hidden><div class=\"sk-item sk-dashed-wrapped\"><div class=\"sk-label-container\"><div class=\"sk-label sk-toggleable\"><input class=\"sk-toggleable__control sk-hidden--visually\" id=\"sk-estimator-id-4\" type=\"checkbox\" ><label for=\"sk-estimator-id-4\" class=\"sk-toggleable__label sk-toggleable__label-arrow\">BaggingClassifier</label><div class=\"sk-toggleable__content\"><pre>BaggingClassifier(estimator=LogisticRegression(), max_samples=0.5)</pre></div></div></div><div class=\"sk-parallel\"><div class=\"sk-parallel-item\"><div class=\"sk-item\"><div class=\"sk-label-container\"><div class=\"sk-label sk-toggleable\"><input class=\"sk-toggleable__control sk-hidden--visually\" id=\"sk-estimator-id-5\" type=\"checkbox\" ><label for=\"sk-estimator-id-5\" class=\"sk-toggleable__label sk-toggleable__label-arrow\">estimator: LogisticRegression</label><div class=\"sk-toggleable__content\"><pre>LogisticRegression()</pre></div></div></div><div class=\"sk-serial\"><div class=\"sk-item\"><div class=\"sk-estimator sk-toggleable\"><input class=\"sk-toggleable__control sk-hidden--visually\" id=\"sk-estimator-id-6\" type=\"checkbox\" ><label for=\"sk-estimator-id-6\" class=\"sk-toggleable__label sk-toggleable__label-arrow\">LogisticRegression</label><div class=\"sk-toggleable__content\"><pre>LogisticRegression()</pre></div></div></div></div></div></div></div></div></div></div>"
      ],
      "text/plain": [
       "BaggingClassifier(estimator=LogisticRegression(), max_samples=0.5)"
      ]
     },
     "execution_count": 21,
     "metadata": {},
     "output_type": "execute_result"
    }
   ],
   "source": [
    "from sklearn.ensemble import BaggingClassifier\n",
    "from sklearn.linear_model import LogisticRegression\n",
    "bagging_linear = BaggingClassifier(LogisticRegression(),\n",
    "                            max_samples=0.5, max_features=1.0, n_estimators=10)\n",
    "\n",
    "bagging_linear.fit(X_train, y_train)"
   ]
  },
  {
   "cell_type": "code",
   "execution_count": 22,
   "id": "f7f51636",
   "metadata": {
    "execution": {
     "iopub.execute_input": "2023-12-06T13:13:00.477107Z",
     "iopub.status.busy": "2023-12-06T13:13:00.476350Z",
     "iopub.status.idle": "2023-12-06T13:13:00.494699Z",
     "shell.execute_reply": "2023-12-06T13:13:00.492889Z"
    },
    "papermill": {
     "duration": 0.046153,
     "end_time": "2023-12-06T13:13:00.496998",
     "exception": false,
     "start_time": "2023-12-06T13:13:00.450845",
     "status": "completed"
    },
    "tags": []
   },
   "outputs": [
    {
     "name": "stdout",
     "output_type": "stream",
     "text": [
      "F1-score: 0.8059553349875932\n"
     ]
    }
   ],
   "source": [
    "y_pred = bagging_linear.predict(X_valid)\n",
    "print('F1-score:', f1_score(y_valid, y_pred))"
   ]
  },
  {
   "cell_type": "markdown",
   "id": "36cdd449",
   "metadata": {
    "papermill": {
     "duration": 0.023583,
     "end_time": "2023-12-06T13:13:00.544284",
     "exception": false,
     "start_time": "2023-12-06T13:13:00.520701",
     "status": "completed"
    },
    "tags": []
   },
   "source": [
    "Let's also try building the KNN bagging"
   ]
  },
  {
   "cell_type": "code",
   "execution_count": 23,
   "id": "6b6d733c",
   "metadata": {
    "execution": {
     "iopub.execute_input": "2023-12-06T13:13:00.594369Z",
     "iopub.status.busy": "2023-12-06T13:13:00.593966Z",
     "iopub.status.idle": "2023-12-06T13:13:00.630515Z",
     "shell.execute_reply": "2023-12-06T13:13:00.629682Z"
    },
    "papermill": {
     "duration": 0.063731,
     "end_time": "2023-12-06T13:13:00.632362",
     "exception": false,
     "start_time": "2023-12-06T13:13:00.568631",
     "status": "completed"
    },
    "tags": []
   },
   "outputs": [
    {
     "data": {
      "text/html": [
       "<style>#sk-container-id-3 {color: black;background-color: white;}#sk-container-id-3 pre{padding: 0;}#sk-container-id-3 div.sk-toggleable {background-color: white;}#sk-container-id-3 label.sk-toggleable__label {cursor: pointer;display: block;width: 100%;margin-bottom: 0;padding: 0.3em;box-sizing: border-box;text-align: center;}#sk-container-id-3 label.sk-toggleable__label-arrow:before {content: \"▸\";float: left;margin-right: 0.25em;color: #696969;}#sk-container-id-3 label.sk-toggleable__label-arrow:hover:before {color: black;}#sk-container-id-3 div.sk-estimator:hover label.sk-toggleable__label-arrow:before {color: black;}#sk-container-id-3 div.sk-toggleable__content {max-height: 0;max-width: 0;overflow: hidden;text-align: left;background-color: #f0f8ff;}#sk-container-id-3 div.sk-toggleable__content pre {margin: 0.2em;color: black;border-radius: 0.25em;background-color: #f0f8ff;}#sk-container-id-3 input.sk-toggleable__control:checked~div.sk-toggleable__content {max-height: 200px;max-width: 100%;overflow: auto;}#sk-container-id-3 input.sk-toggleable__control:checked~label.sk-toggleable__label-arrow:before {content: \"▾\";}#sk-container-id-3 div.sk-estimator input.sk-toggleable__control:checked~label.sk-toggleable__label {background-color: #d4ebff;}#sk-container-id-3 div.sk-label input.sk-toggleable__control:checked~label.sk-toggleable__label {background-color: #d4ebff;}#sk-container-id-3 input.sk-hidden--visually {border: 0;clip: rect(1px 1px 1px 1px);clip: rect(1px, 1px, 1px, 1px);height: 1px;margin: -1px;overflow: hidden;padding: 0;position: absolute;width: 1px;}#sk-container-id-3 div.sk-estimator {font-family: monospace;background-color: #f0f8ff;border: 1px dotted black;border-radius: 0.25em;box-sizing: border-box;margin-bottom: 0.5em;}#sk-container-id-3 div.sk-estimator:hover {background-color: #d4ebff;}#sk-container-id-3 div.sk-parallel-item::after {content: \"\";width: 100%;border-bottom: 1px solid gray;flex-grow: 1;}#sk-container-id-3 div.sk-label:hover label.sk-toggleable__label {background-color: #d4ebff;}#sk-container-id-3 div.sk-serial::before {content: \"\";position: absolute;border-left: 1px solid gray;box-sizing: border-box;top: 0;bottom: 0;left: 50%;z-index: 0;}#sk-container-id-3 div.sk-serial {display: flex;flex-direction: column;align-items: center;background-color: white;padding-right: 0.2em;padding-left: 0.2em;position: relative;}#sk-container-id-3 div.sk-item {position: relative;z-index: 1;}#sk-container-id-3 div.sk-parallel {display: flex;align-items: stretch;justify-content: center;background-color: white;position: relative;}#sk-container-id-3 div.sk-item::before, #sk-container-id-3 div.sk-parallel-item::before {content: \"\";position: absolute;border-left: 1px solid gray;box-sizing: border-box;top: 0;bottom: 0;left: 50%;z-index: -1;}#sk-container-id-3 div.sk-parallel-item {display: flex;flex-direction: column;z-index: 1;position: relative;background-color: white;}#sk-container-id-3 div.sk-parallel-item:first-child::after {align-self: flex-end;width: 50%;}#sk-container-id-3 div.sk-parallel-item:last-child::after {align-self: flex-start;width: 50%;}#sk-container-id-3 div.sk-parallel-item:only-child::after {width: 0;}#sk-container-id-3 div.sk-dashed-wrapped {border: 1px dashed gray;margin: 0 0.4em 0.5em 0.4em;box-sizing: border-box;padding-bottom: 0.4em;background-color: white;}#sk-container-id-3 div.sk-label label {font-family: monospace;font-weight: bold;display: inline-block;line-height: 1.2em;}#sk-container-id-3 div.sk-label-container {text-align: center;}#sk-container-id-3 div.sk-container {/* jupyter's `normalize.less` sets `[hidden] { display: none; }` but bootstrap.min.css set `[hidden] { display: none !important; }` so we also need the `!important` here to be able to override the default hidden behavior on the sphinx rendered scikit-learn.org. See: https://github.com/scikit-learn/scikit-learn/issues/21755 */display: inline-block !important;position: relative;}#sk-container-id-3 div.sk-text-repr-fallback {display: none;}</style><div id=\"sk-container-id-3\" class=\"sk-top-container\"><div class=\"sk-text-repr-fallback\"><pre>BaggingClassifier(estimator=KNeighborsClassifier(), max_samples=0.5)</pre><b>In a Jupyter environment, please rerun this cell to show the HTML representation or trust the notebook. <br />On GitHub, the HTML representation is unable to render, please try loading this page with nbviewer.org.</b></div><div class=\"sk-container\" hidden><div class=\"sk-item sk-dashed-wrapped\"><div class=\"sk-label-container\"><div class=\"sk-label sk-toggleable\"><input class=\"sk-toggleable__control sk-hidden--visually\" id=\"sk-estimator-id-7\" type=\"checkbox\" ><label for=\"sk-estimator-id-7\" class=\"sk-toggleable__label sk-toggleable__label-arrow\">BaggingClassifier</label><div class=\"sk-toggleable__content\"><pre>BaggingClassifier(estimator=KNeighborsClassifier(), max_samples=0.5)</pre></div></div></div><div class=\"sk-parallel\"><div class=\"sk-parallel-item\"><div class=\"sk-item\"><div class=\"sk-label-container\"><div class=\"sk-label sk-toggleable\"><input class=\"sk-toggleable__control sk-hidden--visually\" id=\"sk-estimator-id-8\" type=\"checkbox\" ><label for=\"sk-estimator-id-8\" class=\"sk-toggleable__label sk-toggleable__label-arrow\">estimator: KNeighborsClassifier</label><div class=\"sk-toggleable__content\"><pre>KNeighborsClassifier()</pre></div></div></div><div class=\"sk-serial\"><div class=\"sk-item\"><div class=\"sk-estimator sk-toggleable\"><input class=\"sk-toggleable__control sk-hidden--visually\" id=\"sk-estimator-id-9\" type=\"checkbox\" ><label for=\"sk-estimator-id-9\" class=\"sk-toggleable__label sk-toggleable__label-arrow\">KNeighborsClassifier</label><div class=\"sk-toggleable__content\"><pre>KNeighborsClassifier()</pre></div></div></div></div></div></div></div></div></div></div>"
      ],
      "text/plain": [
       "BaggingClassifier(estimator=KNeighborsClassifier(), max_samples=0.5)"
      ]
     },
     "execution_count": 23,
     "metadata": {},
     "output_type": "execute_result"
    }
   ],
   "source": [
    "from sklearn.ensemble import BaggingClassifier\n",
    "from sklearn.neighbors import KNeighborsClassifier\n",
    "bagging_knn = BaggingClassifier(KNeighborsClassifier(),\n",
    "                            max_samples=0.5, max_features=1.0, n_estimators=10)\n",
    "\n",
    "bagging_knn.fit(X_train, y_train)"
   ]
  },
  {
   "cell_type": "code",
   "execution_count": 24,
   "id": "4a3eb9dd",
   "metadata": {
    "execution": {
     "iopub.execute_input": "2023-12-06T13:13:00.670592Z",
     "iopub.status.busy": "2023-12-06T13:13:00.670281Z",
     "iopub.status.idle": "2023-12-06T13:13:01.109352Z",
     "shell.execute_reply": "2023-12-06T13:13:01.108644Z"
    },
    "papermill": {
     "duration": 0.460992,
     "end_time": "2023-12-06T13:13:01.111496",
     "exception": false,
     "start_time": "2023-12-06T13:13:00.650504",
     "status": "completed"
    },
    "tags": []
   },
   "outputs": [
    {
     "name": "stdout",
     "output_type": "stream",
     "text": [
      "F1-score: 0.7844129554655871\n"
     ]
    }
   ],
   "source": [
    "y_pred = bagging_knn.predict(X_valid)\n",
    "print('F1-score:', f1_score(y_valid, y_pred))"
   ]
  },
  {
   "cell_type": "markdown",
   "id": "5a395a88",
   "metadata": {
    "papermill": {
     "duration": 0.018333,
     "end_time": "2023-12-06T13:13:01.148710",
     "exception": false,
     "start_time": "2023-12-06T13:13:01.130377",
     "status": "completed"
    },
    "tags": []
   },
   "source": [
    "Now, let's try to tune the n_estimators parameter for both of this models"
   ]
  },
  {
   "cell_type": "markdown",
   "id": "3347683d",
   "metadata": {
    "papermill": {
     "duration": 0.018189,
     "end_time": "2023-12-06T13:13:01.185257",
     "exception": false,
     "start_time": "2023-12-06T13:13:01.167068",
     "status": "completed"
    },
    "tags": []
   },
   "source": [
    "# Logistic Regression"
   ]
  },
  {
   "cell_type": "code",
   "execution_count": 25,
   "id": "f70e66fc",
   "metadata": {
    "execution": {
     "iopub.execute_input": "2023-12-06T13:13:01.223845Z",
     "iopub.status.busy": "2023-12-06T13:13:01.223351Z",
     "iopub.status.idle": "2023-12-06T13:14:18.811999Z",
     "shell.execute_reply": "2023-12-06T13:14:18.811304Z"
    },
    "papermill": {
     "duration": 77.610056,
     "end_time": "2023-12-06T13:14:18.813754",
     "exception": false,
     "start_time": "2023-12-06T13:13:01.203698",
     "status": "completed"
    },
    "tags": []
   },
   "outputs": [
    {
     "name": "stderr",
     "output_type": "stream",
     "text": [
      "/opt/conda/lib/python3.10/site-packages/sklearn/linear_model/_logistic.py:458: ConvergenceWarning: lbfgs failed to converge (status=1):\n",
      "STOP: TOTAL NO. of ITERATIONS REACHED LIMIT.\n",
      "\n",
      "Increase the number of iterations (max_iter) or scale the data as shown in:\n",
      "    https://scikit-learn.org/stable/modules/preprocessing.html\n",
      "Please also refer to the documentation for alternative solver options:\n",
      "    https://scikit-learn.org/stable/modules/linear_model.html#logistic-regression\n",
      "  n_iter_i = _check_optimize_result(\n",
      "/opt/conda/lib/python3.10/site-packages/sklearn/linear_model/_logistic.py:458: ConvergenceWarning: lbfgs failed to converge (status=1):\n",
      "STOP: TOTAL NO. of ITERATIONS REACHED LIMIT.\n",
      "\n",
      "Increase the number of iterations (max_iter) or scale the data as shown in:\n",
      "    https://scikit-learn.org/stable/modules/preprocessing.html\n",
      "Please also refer to the documentation for alternative solver options:\n",
      "    https://scikit-learn.org/stable/modules/linear_model.html#logistic-regression\n",
      "  n_iter_i = _check_optimize_result(\n",
      "/opt/conda/lib/python3.10/site-packages/sklearn/linear_model/_logistic.py:458: ConvergenceWarning: lbfgs failed to converge (status=1):\n",
      "STOP: TOTAL NO. of ITERATIONS REACHED LIMIT.\n",
      "\n",
      "Increase the number of iterations (max_iter) or scale the data as shown in:\n",
      "    https://scikit-learn.org/stable/modules/preprocessing.html\n",
      "Please also refer to the documentation for alternative solver options:\n",
      "    https://scikit-learn.org/stable/modules/linear_model.html#logistic-regression\n",
      "  n_iter_i = _check_optimize_result(\n",
      "/opt/conda/lib/python3.10/site-packages/sklearn/linear_model/_logistic.py:458: ConvergenceWarning: lbfgs failed to converge (status=1):\n",
      "STOP: TOTAL NO. of ITERATIONS REACHED LIMIT.\n",
      "\n",
      "Increase the number of iterations (max_iter) or scale the data as shown in:\n",
      "    https://scikit-learn.org/stable/modules/preprocessing.html\n",
      "Please also refer to the documentation for alternative solver options:\n",
      "    https://scikit-learn.org/stable/modules/linear_model.html#logistic-regression\n",
      "  n_iter_i = _check_optimize_result(\n",
      "/opt/conda/lib/python3.10/site-packages/sklearn/linear_model/_logistic.py:458: ConvergenceWarning: lbfgs failed to converge (status=1):\n",
      "STOP: TOTAL NO. of ITERATIONS REACHED LIMIT.\n",
      "\n",
      "Increase the number of iterations (max_iter) or scale the data as shown in:\n",
      "    https://scikit-learn.org/stable/modules/preprocessing.html\n",
      "Please also refer to the documentation for alternative solver options:\n",
      "    https://scikit-learn.org/stable/modules/linear_model.html#logistic-regression\n",
      "  n_iter_i = _check_optimize_result(\n",
      "/opt/conda/lib/python3.10/site-packages/sklearn/linear_model/_logistic.py:458: ConvergenceWarning: lbfgs failed to converge (status=1):\n",
      "STOP: TOTAL NO. of ITERATIONS REACHED LIMIT.\n",
      "\n",
      "Increase the number of iterations (max_iter) or scale the data as shown in:\n",
      "    https://scikit-learn.org/stable/modules/preprocessing.html\n",
      "Please also refer to the documentation for alternative solver options:\n",
      "    https://scikit-learn.org/stable/modules/linear_model.html#logistic-regression\n",
      "  n_iter_i = _check_optimize_result(\n",
      "/opt/conda/lib/python3.10/site-packages/sklearn/linear_model/_logistic.py:458: ConvergenceWarning: lbfgs failed to converge (status=1):\n",
      "STOP: TOTAL NO. of ITERATIONS REACHED LIMIT.\n",
      "\n",
      "Increase the number of iterations (max_iter) or scale the data as shown in:\n",
      "    https://scikit-learn.org/stable/modules/preprocessing.html\n",
      "Please also refer to the documentation for alternative solver options:\n",
      "    https://scikit-learn.org/stable/modules/linear_model.html#logistic-regression\n",
      "  n_iter_i = _check_optimize_result(\n",
      "/opt/conda/lib/python3.10/site-packages/sklearn/linear_model/_logistic.py:458: ConvergenceWarning: lbfgs failed to converge (status=1):\n",
      "STOP: TOTAL NO. of ITERATIONS REACHED LIMIT.\n",
      "\n",
      "Increase the number of iterations (max_iter) or scale the data as shown in:\n",
      "    https://scikit-learn.org/stable/modules/preprocessing.html\n",
      "Please also refer to the documentation for alternative solver options:\n",
      "    https://scikit-learn.org/stable/modules/linear_model.html#logistic-regression\n",
      "  n_iter_i = _check_optimize_result(\n",
      "/opt/conda/lib/python3.10/site-packages/sklearn/linear_model/_logistic.py:458: ConvergenceWarning: lbfgs failed to converge (status=1):\n",
      "STOP: TOTAL NO. of ITERATIONS REACHED LIMIT.\n",
      "\n",
      "Increase the number of iterations (max_iter) or scale the data as shown in:\n",
      "    https://scikit-learn.org/stable/modules/preprocessing.html\n",
      "Please also refer to the documentation for alternative solver options:\n",
      "    https://scikit-learn.org/stable/modules/linear_model.html#logistic-regression\n",
      "  n_iter_i = _check_optimize_result(\n",
      "/opt/conda/lib/python3.10/site-packages/sklearn/linear_model/_logistic.py:458: ConvergenceWarning: lbfgs failed to converge (status=1):\n",
      "STOP: TOTAL NO. of ITERATIONS REACHED LIMIT.\n",
      "\n",
      "Increase the number of iterations (max_iter) or scale the data as shown in:\n",
      "    https://scikit-learn.org/stable/modules/preprocessing.html\n",
      "Please also refer to the documentation for alternative solver options:\n",
      "    https://scikit-learn.org/stable/modules/linear_model.html#logistic-regression\n",
      "  n_iter_i = _check_optimize_result(\n",
      "/opt/conda/lib/python3.10/site-packages/sklearn/linear_model/_logistic.py:458: ConvergenceWarning: lbfgs failed to converge (status=1):\n",
      "STOP: TOTAL NO. of ITERATIONS REACHED LIMIT.\n",
      "\n",
      "Increase the number of iterations (max_iter) or scale the data as shown in:\n",
      "    https://scikit-learn.org/stable/modules/preprocessing.html\n",
      "Please also refer to the documentation for alternative solver options:\n",
      "    https://scikit-learn.org/stable/modules/linear_model.html#logistic-regression\n",
      "  n_iter_i = _check_optimize_result(\n",
      "/opt/conda/lib/python3.10/site-packages/sklearn/linear_model/_logistic.py:458: ConvergenceWarning: lbfgs failed to converge (status=1):\n",
      "STOP: TOTAL NO. of ITERATIONS REACHED LIMIT.\n",
      "\n",
      "Increase the number of iterations (max_iter) or scale the data as shown in:\n",
      "    https://scikit-learn.org/stable/modules/preprocessing.html\n",
      "Please also refer to the documentation for alternative solver options:\n",
      "    https://scikit-learn.org/stable/modules/linear_model.html#logistic-regression\n",
      "  n_iter_i = _check_optimize_result(\n",
      "/opt/conda/lib/python3.10/site-packages/sklearn/linear_model/_logistic.py:458: ConvergenceWarning: lbfgs failed to converge (status=1):\n",
      "STOP: TOTAL NO. of ITERATIONS REACHED LIMIT.\n",
      "\n",
      "Increase the number of iterations (max_iter) or scale the data as shown in:\n",
      "    https://scikit-learn.org/stable/modules/preprocessing.html\n",
      "Please also refer to the documentation for alternative solver options:\n",
      "    https://scikit-learn.org/stable/modules/linear_model.html#logistic-regression\n",
      "  n_iter_i = _check_optimize_result(\n",
      "/opt/conda/lib/python3.10/site-packages/sklearn/linear_model/_logistic.py:458: ConvergenceWarning: lbfgs failed to converge (status=1):\n",
      "STOP: TOTAL NO. of ITERATIONS REACHED LIMIT.\n",
      "\n",
      "Increase the number of iterations (max_iter) or scale the data as shown in:\n",
      "    https://scikit-learn.org/stable/modules/preprocessing.html\n",
      "Please also refer to the documentation for alternative solver options:\n",
      "    https://scikit-learn.org/stable/modules/linear_model.html#logistic-regression\n",
      "  n_iter_i = _check_optimize_result(\n",
      "/opt/conda/lib/python3.10/site-packages/sklearn/linear_model/_logistic.py:458: ConvergenceWarning: lbfgs failed to converge (status=1):\n",
      "STOP: TOTAL NO. of ITERATIONS REACHED LIMIT.\n",
      "\n",
      "Increase the number of iterations (max_iter) or scale the data as shown in:\n",
      "    https://scikit-learn.org/stable/modules/preprocessing.html\n",
      "Please also refer to the documentation for alternative solver options:\n",
      "    https://scikit-learn.org/stable/modules/linear_model.html#logistic-regression\n",
      "  n_iter_i = _check_optimize_result(\n",
      "/opt/conda/lib/python3.10/site-packages/sklearn/linear_model/_logistic.py:458: ConvergenceWarning: lbfgs failed to converge (status=1):\n",
      "STOP: TOTAL NO. of ITERATIONS REACHED LIMIT.\n",
      "\n",
      "Increase the number of iterations (max_iter) or scale the data as shown in:\n",
      "    https://scikit-learn.org/stable/modules/preprocessing.html\n",
      "Please also refer to the documentation for alternative solver options:\n",
      "    https://scikit-learn.org/stable/modules/linear_model.html#logistic-regression\n",
      "  n_iter_i = _check_optimize_result(\n",
      "/opt/conda/lib/python3.10/site-packages/sklearn/linear_model/_logistic.py:458: ConvergenceWarning: lbfgs failed to converge (status=1):\n",
      "STOP: TOTAL NO. of ITERATIONS REACHED LIMIT.\n",
      "\n",
      "Increase the number of iterations (max_iter) or scale the data as shown in:\n",
      "    https://scikit-learn.org/stable/modules/preprocessing.html\n",
      "Please also refer to the documentation for alternative solver options:\n",
      "    https://scikit-learn.org/stable/modules/linear_model.html#logistic-regression\n",
      "  n_iter_i = _check_optimize_result(\n",
      "/opt/conda/lib/python3.10/site-packages/sklearn/linear_model/_logistic.py:458: ConvergenceWarning: lbfgs failed to converge (status=1):\n",
      "STOP: TOTAL NO. of ITERATIONS REACHED LIMIT.\n",
      "\n",
      "Increase the number of iterations (max_iter) or scale the data as shown in:\n",
      "    https://scikit-learn.org/stable/modules/preprocessing.html\n",
      "Please also refer to the documentation for alternative solver options:\n",
      "    https://scikit-learn.org/stable/modules/linear_model.html#logistic-regression\n",
      "  n_iter_i = _check_optimize_result(\n",
      "/opt/conda/lib/python3.10/site-packages/sklearn/linear_model/_logistic.py:458: ConvergenceWarning: lbfgs failed to converge (status=1):\n",
      "STOP: TOTAL NO. of ITERATIONS REACHED LIMIT.\n",
      "\n",
      "Increase the number of iterations (max_iter) or scale the data as shown in:\n",
      "    https://scikit-learn.org/stable/modules/preprocessing.html\n",
      "Please also refer to the documentation for alternative solver options:\n",
      "    https://scikit-learn.org/stable/modules/linear_model.html#logistic-regression\n",
      "  n_iter_i = _check_optimize_result(\n",
      "/opt/conda/lib/python3.10/site-packages/sklearn/linear_model/_logistic.py:458: ConvergenceWarning: lbfgs failed to converge (status=1):\n",
      "STOP: TOTAL NO. of ITERATIONS REACHED LIMIT.\n",
      "\n",
      "Increase the number of iterations (max_iter) or scale the data as shown in:\n",
      "    https://scikit-learn.org/stable/modules/preprocessing.html\n",
      "Please also refer to the documentation for alternative solver options:\n",
      "    https://scikit-learn.org/stable/modules/linear_model.html#logistic-regression\n",
      "  n_iter_i = _check_optimize_result(\n",
      "/opt/conda/lib/python3.10/site-packages/sklearn/linear_model/_logistic.py:458: ConvergenceWarning: lbfgs failed to converge (status=1):\n",
      "STOP: TOTAL NO. of ITERATIONS REACHED LIMIT.\n",
      "\n",
      "Increase the number of iterations (max_iter) or scale the data as shown in:\n",
      "    https://scikit-learn.org/stable/modules/preprocessing.html\n",
      "Please also refer to the documentation for alternative solver options:\n",
      "    https://scikit-learn.org/stable/modules/linear_model.html#logistic-regression\n",
      "  n_iter_i = _check_optimize_result(\n",
      "/opt/conda/lib/python3.10/site-packages/sklearn/linear_model/_logistic.py:458: ConvergenceWarning: lbfgs failed to converge (status=1):\n",
      "STOP: TOTAL NO. of ITERATIONS REACHED LIMIT.\n",
      "\n",
      "Increase the number of iterations (max_iter) or scale the data as shown in:\n",
      "    https://scikit-learn.org/stable/modules/preprocessing.html\n",
      "Please also refer to the documentation for alternative solver options:\n",
      "    https://scikit-learn.org/stable/modules/linear_model.html#logistic-regression\n",
      "  n_iter_i = _check_optimize_result(\n",
      "/opt/conda/lib/python3.10/site-packages/sklearn/linear_model/_logistic.py:458: ConvergenceWarning: lbfgs failed to converge (status=1):\n",
      "STOP: TOTAL NO. of ITERATIONS REACHED LIMIT.\n",
      "\n",
      "Increase the number of iterations (max_iter) or scale the data as shown in:\n",
      "    https://scikit-learn.org/stable/modules/preprocessing.html\n",
      "Please also refer to the documentation for alternative solver options:\n",
      "    https://scikit-learn.org/stable/modules/linear_model.html#logistic-regression\n",
      "  n_iter_i = _check_optimize_result(\n",
      "/opt/conda/lib/python3.10/site-packages/sklearn/linear_model/_logistic.py:458: ConvergenceWarning: lbfgs failed to converge (status=1):\n",
      "STOP: TOTAL NO. of ITERATIONS REACHED LIMIT.\n",
      "\n",
      "Increase the number of iterations (max_iter) or scale the data as shown in:\n",
      "    https://scikit-learn.org/stable/modules/preprocessing.html\n",
      "Please also refer to the documentation for alternative solver options:\n",
      "    https://scikit-learn.org/stable/modules/linear_model.html#logistic-regression\n",
      "  n_iter_i = _check_optimize_result(\n",
      "/opt/conda/lib/python3.10/site-packages/sklearn/linear_model/_logistic.py:458: ConvergenceWarning: lbfgs failed to converge (status=1):\n",
      "STOP: TOTAL NO. of ITERATIONS REACHED LIMIT.\n",
      "\n",
      "Increase the number of iterations (max_iter) or scale the data as shown in:\n",
      "    https://scikit-learn.org/stable/modules/preprocessing.html\n",
      "Please also refer to the documentation for alternative solver options:\n",
      "    https://scikit-learn.org/stable/modules/linear_model.html#logistic-regression\n",
      "  n_iter_i = _check_optimize_result(\n",
      "/opt/conda/lib/python3.10/site-packages/sklearn/linear_model/_logistic.py:458: ConvergenceWarning: lbfgs failed to converge (status=1):\n",
      "STOP: TOTAL NO. of ITERATIONS REACHED LIMIT.\n",
      "\n",
      "Increase the number of iterations (max_iter) or scale the data as shown in:\n",
      "    https://scikit-learn.org/stable/modules/preprocessing.html\n",
      "Please also refer to the documentation for alternative solver options:\n",
      "    https://scikit-learn.org/stable/modules/linear_model.html#logistic-regression\n",
      "  n_iter_i = _check_optimize_result(\n",
      "/opt/conda/lib/python3.10/site-packages/sklearn/linear_model/_logistic.py:458: ConvergenceWarning: lbfgs failed to converge (status=1):\n",
      "STOP: TOTAL NO. of ITERATIONS REACHED LIMIT.\n",
      "\n",
      "Increase the number of iterations (max_iter) or scale the data as shown in:\n",
      "    https://scikit-learn.org/stable/modules/preprocessing.html\n",
      "Please also refer to the documentation for alternative solver options:\n",
      "    https://scikit-learn.org/stable/modules/linear_model.html#logistic-regression\n",
      "  n_iter_i = _check_optimize_result(\n",
      "/opt/conda/lib/python3.10/site-packages/sklearn/linear_model/_logistic.py:458: ConvergenceWarning: lbfgs failed to converge (status=1):\n",
      "STOP: TOTAL NO. of ITERATIONS REACHED LIMIT.\n",
      "\n",
      "Increase the number of iterations (max_iter) or scale the data as shown in:\n",
      "    https://scikit-learn.org/stable/modules/preprocessing.html\n",
      "Please also refer to the documentation for alternative solver options:\n",
      "    https://scikit-learn.org/stable/modules/linear_model.html#logistic-regression\n",
      "  n_iter_i = _check_optimize_result(\n",
      "/opt/conda/lib/python3.10/site-packages/sklearn/linear_model/_logistic.py:458: ConvergenceWarning: lbfgs failed to converge (status=1):\n",
      "STOP: TOTAL NO. of ITERATIONS REACHED LIMIT.\n",
      "\n",
      "Increase the number of iterations (max_iter) or scale the data as shown in:\n",
      "    https://scikit-learn.org/stable/modules/preprocessing.html\n",
      "Please also refer to the documentation for alternative solver options:\n",
      "    https://scikit-learn.org/stable/modules/linear_model.html#logistic-regression\n",
      "  n_iter_i = _check_optimize_result(\n",
      "/opt/conda/lib/python3.10/site-packages/sklearn/linear_model/_logistic.py:458: ConvergenceWarning: lbfgs failed to converge (status=1):\n",
      "STOP: TOTAL NO. of ITERATIONS REACHED LIMIT.\n",
      "\n",
      "Increase the number of iterations (max_iter) or scale the data as shown in:\n",
      "    https://scikit-learn.org/stable/modules/preprocessing.html\n",
      "Please also refer to the documentation for alternative solver options:\n",
      "    https://scikit-learn.org/stable/modules/linear_model.html#logistic-regression\n",
      "  n_iter_i = _check_optimize_result(\n",
      "/opt/conda/lib/python3.10/site-packages/sklearn/linear_model/_logistic.py:458: ConvergenceWarning: lbfgs failed to converge (status=1):\n",
      "STOP: TOTAL NO. of ITERATIONS REACHED LIMIT.\n",
      "\n",
      "Increase the number of iterations (max_iter) or scale the data as shown in:\n",
      "    https://scikit-learn.org/stable/modules/preprocessing.html\n",
      "Please also refer to the documentation for alternative solver options:\n",
      "    https://scikit-learn.org/stable/modules/linear_model.html#logistic-regression\n",
      "  n_iter_i = _check_optimize_result(\n",
      "/opt/conda/lib/python3.10/site-packages/sklearn/linear_model/_logistic.py:458: ConvergenceWarning: lbfgs failed to converge (status=1):\n",
      "STOP: TOTAL NO. of ITERATIONS REACHED LIMIT.\n",
      "\n",
      "Increase the number of iterations (max_iter) or scale the data as shown in:\n",
      "    https://scikit-learn.org/stable/modules/preprocessing.html\n",
      "Please also refer to the documentation for alternative solver options:\n",
      "    https://scikit-learn.org/stable/modules/linear_model.html#logistic-regression\n",
      "  n_iter_i = _check_optimize_result(\n",
      "/opt/conda/lib/python3.10/site-packages/sklearn/linear_model/_logistic.py:458: ConvergenceWarning: lbfgs failed to converge (status=1):\n",
      "STOP: TOTAL NO. of ITERATIONS REACHED LIMIT.\n",
      "\n",
      "Increase the number of iterations (max_iter) or scale the data as shown in:\n",
      "    https://scikit-learn.org/stable/modules/preprocessing.html\n",
      "Please also refer to the documentation for alternative solver options:\n",
      "    https://scikit-learn.org/stable/modules/linear_model.html#logistic-regression\n",
      "  n_iter_i = _check_optimize_result(\n",
      "/opt/conda/lib/python3.10/site-packages/sklearn/linear_model/_logistic.py:458: ConvergenceWarning: lbfgs failed to converge (status=1):\n",
      "STOP: TOTAL NO. of ITERATIONS REACHED LIMIT.\n",
      "\n",
      "Increase the number of iterations (max_iter) or scale the data as shown in:\n",
      "    https://scikit-learn.org/stable/modules/preprocessing.html\n",
      "Please also refer to the documentation for alternative solver options:\n",
      "    https://scikit-learn.org/stable/modules/linear_model.html#logistic-regression\n",
      "  n_iter_i = _check_optimize_result(\n",
      "/opt/conda/lib/python3.10/site-packages/sklearn/linear_model/_logistic.py:458: ConvergenceWarning: lbfgs failed to converge (status=1):\n",
      "STOP: TOTAL NO. of ITERATIONS REACHED LIMIT.\n",
      "\n",
      "Increase the number of iterations (max_iter) or scale the data as shown in:\n",
      "    https://scikit-learn.org/stable/modules/preprocessing.html\n",
      "Please also refer to the documentation for alternative solver options:\n",
      "    https://scikit-learn.org/stable/modules/linear_model.html#logistic-regression\n",
      "  n_iter_i = _check_optimize_result(\n",
      "/opt/conda/lib/python3.10/site-packages/sklearn/linear_model/_logistic.py:458: ConvergenceWarning: lbfgs failed to converge (status=1):\n",
      "STOP: TOTAL NO. of ITERATIONS REACHED LIMIT.\n",
      "\n",
      "Increase the number of iterations (max_iter) or scale the data as shown in:\n",
      "    https://scikit-learn.org/stable/modules/preprocessing.html\n",
      "Please also refer to the documentation for alternative solver options:\n",
      "    https://scikit-learn.org/stable/modules/linear_model.html#logistic-regression\n",
      "  n_iter_i = _check_optimize_result(\n",
      "/opt/conda/lib/python3.10/site-packages/sklearn/linear_model/_logistic.py:458: ConvergenceWarning: lbfgs failed to converge (status=1):\n",
      "STOP: TOTAL NO. of ITERATIONS REACHED LIMIT.\n",
      "\n",
      "Increase the number of iterations (max_iter) or scale the data as shown in:\n",
      "    https://scikit-learn.org/stable/modules/preprocessing.html\n",
      "Please also refer to the documentation for alternative solver options:\n",
      "    https://scikit-learn.org/stable/modules/linear_model.html#logistic-regression\n",
      "  n_iter_i = _check_optimize_result(\n",
      "/opt/conda/lib/python3.10/site-packages/sklearn/linear_model/_logistic.py:458: ConvergenceWarning: lbfgs failed to converge (status=1):\n",
      "STOP: TOTAL NO. of ITERATIONS REACHED LIMIT.\n",
      "\n",
      "Increase the number of iterations (max_iter) or scale the data as shown in:\n",
      "    https://scikit-learn.org/stable/modules/preprocessing.html\n",
      "Please also refer to the documentation for alternative solver options:\n",
      "    https://scikit-learn.org/stable/modules/linear_model.html#logistic-regression\n",
      "  n_iter_i = _check_optimize_result(\n",
      "/opt/conda/lib/python3.10/site-packages/sklearn/linear_model/_logistic.py:458: ConvergenceWarning: lbfgs failed to converge (status=1):\n",
      "STOP: TOTAL NO. of ITERATIONS REACHED LIMIT.\n",
      "\n",
      "Increase the number of iterations (max_iter) or scale the data as shown in:\n",
      "    https://scikit-learn.org/stable/modules/preprocessing.html\n",
      "Please also refer to the documentation for alternative solver options:\n",
      "    https://scikit-learn.org/stable/modules/linear_model.html#logistic-regression\n",
      "  n_iter_i = _check_optimize_result(\n",
      "/opt/conda/lib/python3.10/site-packages/sklearn/linear_model/_logistic.py:458: ConvergenceWarning: lbfgs failed to converge (status=1):\n",
      "STOP: TOTAL NO. of ITERATIONS REACHED LIMIT.\n",
      "\n",
      "Increase the number of iterations (max_iter) or scale the data as shown in:\n",
      "    https://scikit-learn.org/stable/modules/preprocessing.html\n",
      "Please also refer to the documentation for alternative solver options:\n",
      "    https://scikit-learn.org/stable/modules/linear_model.html#logistic-regression\n",
      "  n_iter_i = _check_optimize_result(\n",
      "/opt/conda/lib/python3.10/site-packages/sklearn/linear_model/_logistic.py:458: ConvergenceWarning: lbfgs failed to converge (status=1):\n",
      "STOP: TOTAL NO. of ITERATIONS REACHED LIMIT.\n",
      "\n",
      "Increase the number of iterations (max_iter) or scale the data as shown in:\n",
      "    https://scikit-learn.org/stable/modules/preprocessing.html\n",
      "Please also refer to the documentation for alternative solver options:\n",
      "    https://scikit-learn.org/stable/modules/linear_model.html#logistic-regression\n",
      "  n_iter_i = _check_optimize_result(\n",
      "/opt/conda/lib/python3.10/site-packages/sklearn/linear_model/_logistic.py:458: ConvergenceWarning: lbfgs failed to converge (status=1):\n",
      "STOP: TOTAL NO. of ITERATIONS REACHED LIMIT.\n",
      "\n",
      "Increase the number of iterations (max_iter) or scale the data as shown in:\n",
      "    https://scikit-learn.org/stable/modules/preprocessing.html\n",
      "Please also refer to the documentation for alternative solver options:\n",
      "    https://scikit-learn.org/stable/modules/linear_model.html#logistic-regression\n",
      "  n_iter_i = _check_optimize_result(\n",
      "/opt/conda/lib/python3.10/site-packages/sklearn/linear_model/_logistic.py:458: ConvergenceWarning: lbfgs failed to converge (status=1):\n",
      "STOP: TOTAL NO. of ITERATIONS REACHED LIMIT.\n",
      "\n",
      "Increase the number of iterations (max_iter) or scale the data as shown in:\n",
      "    https://scikit-learn.org/stable/modules/preprocessing.html\n",
      "Please also refer to the documentation for alternative solver options:\n",
      "    https://scikit-learn.org/stable/modules/linear_model.html#logistic-regression\n",
      "  n_iter_i = _check_optimize_result(\n",
      "/opt/conda/lib/python3.10/site-packages/sklearn/linear_model/_logistic.py:458: ConvergenceWarning: lbfgs failed to converge (status=1):\n",
      "STOP: TOTAL NO. of ITERATIONS REACHED LIMIT.\n",
      "\n",
      "Increase the number of iterations (max_iter) or scale the data as shown in:\n",
      "    https://scikit-learn.org/stable/modules/preprocessing.html\n",
      "Please also refer to the documentation for alternative solver options:\n",
      "    https://scikit-learn.org/stable/modules/linear_model.html#logistic-regression\n",
      "  n_iter_i = _check_optimize_result(\n",
      "/opt/conda/lib/python3.10/site-packages/sklearn/linear_model/_logistic.py:458: ConvergenceWarning: lbfgs failed to converge (status=1):\n",
      "STOP: TOTAL NO. of ITERATIONS REACHED LIMIT.\n",
      "\n",
      "Increase the number of iterations (max_iter) or scale the data as shown in:\n",
      "    https://scikit-learn.org/stable/modules/preprocessing.html\n",
      "Please also refer to the documentation for alternative solver options:\n",
      "    https://scikit-learn.org/stable/modules/linear_model.html#logistic-regression\n",
      "  n_iter_i = _check_optimize_result(\n",
      "/opt/conda/lib/python3.10/site-packages/sklearn/linear_model/_logistic.py:458: ConvergenceWarning: lbfgs failed to converge (status=1):\n",
      "STOP: TOTAL NO. of ITERATIONS REACHED LIMIT.\n",
      "\n",
      "Increase the number of iterations (max_iter) or scale the data as shown in:\n",
      "    https://scikit-learn.org/stable/modules/preprocessing.html\n",
      "Please also refer to the documentation for alternative solver options:\n",
      "    https://scikit-learn.org/stable/modules/linear_model.html#logistic-regression\n",
      "  n_iter_i = _check_optimize_result(\n",
      "/opt/conda/lib/python3.10/site-packages/sklearn/linear_model/_logistic.py:458: ConvergenceWarning: lbfgs failed to converge (status=1):\n",
      "STOP: TOTAL NO. of ITERATIONS REACHED LIMIT.\n",
      "\n",
      "Increase the number of iterations (max_iter) or scale the data as shown in:\n",
      "    https://scikit-learn.org/stable/modules/preprocessing.html\n",
      "Please also refer to the documentation for alternative solver options:\n",
      "    https://scikit-learn.org/stable/modules/linear_model.html#logistic-regression\n",
      "  n_iter_i = _check_optimize_result(\n",
      "/opt/conda/lib/python3.10/site-packages/sklearn/linear_model/_logistic.py:458: ConvergenceWarning: lbfgs failed to converge (status=1):\n",
      "STOP: TOTAL NO. of ITERATIONS REACHED LIMIT.\n",
      "\n",
      "Increase the number of iterations (max_iter) or scale the data as shown in:\n",
      "    https://scikit-learn.org/stable/modules/preprocessing.html\n",
      "Please also refer to the documentation for alternative solver options:\n",
      "    https://scikit-learn.org/stable/modules/linear_model.html#logistic-regression\n",
      "  n_iter_i = _check_optimize_result(\n",
      "/opt/conda/lib/python3.10/site-packages/sklearn/linear_model/_logistic.py:458: ConvergenceWarning: lbfgs failed to converge (status=1):\n",
      "STOP: TOTAL NO. of ITERATIONS REACHED LIMIT.\n",
      "\n",
      "Increase the number of iterations (max_iter) or scale the data as shown in:\n",
      "    https://scikit-learn.org/stable/modules/preprocessing.html\n",
      "Please also refer to the documentation for alternative solver options:\n",
      "    https://scikit-learn.org/stable/modules/linear_model.html#logistic-regression\n",
      "  n_iter_i = _check_optimize_result(\n"
     ]
    },
    {
     "data": {
      "text/html": [
       "<style>#sk-container-id-4 {color: black;background-color: white;}#sk-container-id-4 pre{padding: 0;}#sk-container-id-4 div.sk-toggleable {background-color: white;}#sk-container-id-4 label.sk-toggleable__label {cursor: pointer;display: block;width: 100%;margin-bottom: 0;padding: 0.3em;box-sizing: border-box;text-align: center;}#sk-container-id-4 label.sk-toggleable__label-arrow:before {content: \"▸\";float: left;margin-right: 0.25em;color: #696969;}#sk-container-id-4 label.sk-toggleable__label-arrow:hover:before {color: black;}#sk-container-id-4 div.sk-estimator:hover label.sk-toggleable__label-arrow:before {color: black;}#sk-container-id-4 div.sk-toggleable__content {max-height: 0;max-width: 0;overflow: hidden;text-align: left;background-color: #f0f8ff;}#sk-container-id-4 div.sk-toggleable__content pre {margin: 0.2em;color: black;border-radius: 0.25em;background-color: #f0f8ff;}#sk-container-id-4 input.sk-toggleable__control:checked~div.sk-toggleable__content {max-height: 200px;max-width: 100%;overflow: auto;}#sk-container-id-4 input.sk-toggleable__control:checked~label.sk-toggleable__label-arrow:before {content: \"▾\";}#sk-container-id-4 div.sk-estimator input.sk-toggleable__control:checked~label.sk-toggleable__label {background-color: #d4ebff;}#sk-container-id-4 div.sk-label input.sk-toggleable__control:checked~label.sk-toggleable__label {background-color: #d4ebff;}#sk-container-id-4 input.sk-hidden--visually {border: 0;clip: rect(1px 1px 1px 1px);clip: rect(1px, 1px, 1px, 1px);height: 1px;margin: -1px;overflow: hidden;padding: 0;position: absolute;width: 1px;}#sk-container-id-4 div.sk-estimator {font-family: monospace;background-color: #f0f8ff;border: 1px dotted black;border-radius: 0.25em;box-sizing: border-box;margin-bottom: 0.5em;}#sk-container-id-4 div.sk-estimator:hover {background-color: #d4ebff;}#sk-container-id-4 div.sk-parallel-item::after {content: \"\";width: 100%;border-bottom: 1px solid gray;flex-grow: 1;}#sk-container-id-4 div.sk-label:hover label.sk-toggleable__label {background-color: #d4ebff;}#sk-container-id-4 div.sk-serial::before {content: \"\";position: absolute;border-left: 1px solid gray;box-sizing: border-box;top: 0;bottom: 0;left: 50%;z-index: 0;}#sk-container-id-4 div.sk-serial {display: flex;flex-direction: column;align-items: center;background-color: white;padding-right: 0.2em;padding-left: 0.2em;position: relative;}#sk-container-id-4 div.sk-item {position: relative;z-index: 1;}#sk-container-id-4 div.sk-parallel {display: flex;align-items: stretch;justify-content: center;background-color: white;position: relative;}#sk-container-id-4 div.sk-item::before, #sk-container-id-4 div.sk-parallel-item::before {content: \"\";position: absolute;border-left: 1px solid gray;box-sizing: border-box;top: 0;bottom: 0;left: 50%;z-index: -1;}#sk-container-id-4 div.sk-parallel-item {display: flex;flex-direction: column;z-index: 1;position: relative;background-color: white;}#sk-container-id-4 div.sk-parallel-item:first-child::after {align-self: flex-end;width: 50%;}#sk-container-id-4 div.sk-parallel-item:last-child::after {align-self: flex-start;width: 50%;}#sk-container-id-4 div.sk-parallel-item:only-child::after {width: 0;}#sk-container-id-4 div.sk-dashed-wrapped {border: 1px dashed gray;margin: 0 0.4em 0.5em 0.4em;box-sizing: border-box;padding-bottom: 0.4em;background-color: white;}#sk-container-id-4 div.sk-label label {font-family: monospace;font-weight: bold;display: inline-block;line-height: 1.2em;}#sk-container-id-4 div.sk-label-container {text-align: center;}#sk-container-id-4 div.sk-container {/* jupyter's `normalize.less` sets `[hidden] { display: none; }` but bootstrap.min.css set `[hidden] { display: none !important; }` so we also need the `!important` here to be able to override the default hidden behavior on the sphinx rendered scikit-learn.org. See: https://github.com/scikit-learn/scikit-learn/issues/21755 */display: inline-block !important;position: relative;}#sk-container-id-4 div.sk-text-repr-fallback {display: none;}</style><div id=\"sk-container-id-4\" class=\"sk-top-container\"><div class=\"sk-text-repr-fallback\"><pre>GridSearchCV(cv=5,\n",
       "             estimator=BaggingClassifier(estimator=LogisticRegression(),\n",
       "                                         max_samples=0.5),\n",
       "             n_jobs=-1,\n",
       "             param_grid={&#x27;n_estimators&#x27;: array([ 10,  20,  30,  40,  50,  60,  70,  80,  90, 100, 110, 120])},\n",
       "             scoring=&#x27;f1&#x27;)</pre><b>In a Jupyter environment, please rerun this cell to show the HTML representation or trust the notebook. <br />On GitHub, the HTML representation is unable to render, please try loading this page with nbviewer.org.</b></div><div class=\"sk-container\" hidden><div class=\"sk-item sk-dashed-wrapped\"><div class=\"sk-label-container\"><div class=\"sk-label sk-toggleable\"><input class=\"sk-toggleable__control sk-hidden--visually\" id=\"sk-estimator-id-10\" type=\"checkbox\" ><label for=\"sk-estimator-id-10\" class=\"sk-toggleable__label sk-toggleable__label-arrow\">GridSearchCV</label><div class=\"sk-toggleable__content\"><pre>GridSearchCV(cv=5,\n",
       "             estimator=BaggingClassifier(estimator=LogisticRegression(),\n",
       "                                         max_samples=0.5),\n",
       "             n_jobs=-1,\n",
       "             param_grid={&#x27;n_estimators&#x27;: array([ 10,  20,  30,  40,  50,  60,  70,  80,  90, 100, 110, 120])},\n",
       "             scoring=&#x27;f1&#x27;)</pre></div></div></div><div class=\"sk-parallel\"><div class=\"sk-parallel-item\"><div class=\"sk-item\"><div class=\"sk-label-container\"><div class=\"sk-label sk-toggleable\"><input class=\"sk-toggleable__control sk-hidden--visually\" id=\"sk-estimator-id-11\" type=\"checkbox\" ><label for=\"sk-estimator-id-11\" class=\"sk-toggleable__label sk-toggleable__label-arrow\">estimator: BaggingClassifier</label><div class=\"sk-toggleable__content\"><pre>BaggingClassifier(estimator=LogisticRegression(), max_samples=0.5)</pre></div></div></div><div class=\"sk-serial\"><div class=\"sk-item sk-dashed-wrapped\"><div class=\"sk-parallel\"><div class=\"sk-parallel-item\"><div class=\"sk-item\"><div class=\"sk-label-container\"><div class=\"sk-label sk-toggleable\"><input class=\"sk-toggleable__control sk-hidden--visually\" id=\"sk-estimator-id-12\" type=\"checkbox\" ><label for=\"sk-estimator-id-12\" class=\"sk-toggleable__label sk-toggleable__label-arrow\">estimator: LogisticRegression</label><div class=\"sk-toggleable__content\"><pre>LogisticRegression()</pre></div></div></div><div class=\"sk-serial\"><div class=\"sk-item\"><div class=\"sk-estimator sk-toggleable\"><input class=\"sk-toggleable__control sk-hidden--visually\" id=\"sk-estimator-id-13\" type=\"checkbox\" ><label for=\"sk-estimator-id-13\" class=\"sk-toggleable__label sk-toggleable__label-arrow\">LogisticRegression</label><div class=\"sk-toggleable__content\"><pre>LogisticRegression()</pre></div></div></div></div></div></div></div></div></div></div></div></div></div></div></div>"
      ],
      "text/plain": [
       "GridSearchCV(cv=5,\n",
       "             estimator=BaggingClassifier(estimator=LogisticRegression(),\n",
       "                                         max_samples=0.5),\n",
       "             n_jobs=-1,\n",
       "             param_grid={'n_estimators': array([ 10,  20,  30,  40,  50,  60,  70,  80,  90, 100, 110, 120])},\n",
       "             scoring='f1')"
      ]
     },
     "execution_count": 25,
     "metadata": {},
     "output_type": "execute_result"
    }
   ],
   "source": [
    "from sklearn.model_selection import GridSearchCV\n",
    "\n",
    "params={\"n_estimators\": np.arange(10, 121, 10)} \n",
    "\n",
    "grid = GridSearchCV(bagging_linear, params, cv=5, scoring=\"f1\", n_jobs=-1) \n",
    "grid.fit(X_train, y_train)"
   ]
  },
  {
   "cell_type": "code",
   "execution_count": 26,
   "id": "e6c234ad",
   "metadata": {
    "execution": {
     "iopub.execute_input": "2023-12-06T13:14:18.870493Z",
     "iopub.status.busy": "2023-12-06T13:14:18.870107Z",
     "iopub.status.idle": "2023-12-06T13:14:18.874401Z",
     "shell.execute_reply": "2023-12-06T13:14:18.873688Z"
    },
    "papermill": {
     "duration": 0.037975,
     "end_time": "2023-12-06T13:14:18.878903",
     "exception": false,
     "start_time": "2023-12-06T13:14:18.840928",
     "status": "completed"
    },
    "tags": []
   },
   "outputs": [
    {
     "name": "stdout",
     "output_type": "stream",
     "text": [
      "{'n_estimators': 100}\n",
      "0.8120827093089226\n"
     ]
    }
   ],
   "source": [
    "print(grid.best_params_)\n",
    "print(grid.best_score_)"
   ]
  },
  {
   "cell_type": "markdown",
   "id": "d05739a7",
   "metadata": {
    "papermill": {
     "duration": 0.022835,
     "end_time": "2023-12-06T13:14:18.928714",
     "exception": false,
     "start_time": "2023-12-06T13:14:18.905879",
     "status": "completed"
    },
    "tags": []
   },
   "source": [
    "Alright, so by using logistic regression bagging we got a decent result, which is almost as good as our MLP one, now, let's plot the validation curve, and then check the knn bagging"
   ]
  },
  {
   "cell_type": "code",
   "execution_count": 27,
   "id": "4195f1d1",
   "metadata": {
    "execution": {
     "iopub.execute_input": "2023-12-06T13:14:18.972747Z",
     "iopub.status.busy": "2023-12-06T13:14:18.972314Z",
     "iopub.status.idle": "2023-12-06T13:14:19.169046Z",
     "shell.execute_reply": "2023-12-06T13:14:19.167752Z"
    },
    "papermill": {
     "duration": 0.221047,
     "end_time": "2023-12-06T13:14:19.170910",
     "exception": false,
     "start_time": "2023-12-06T13:14:18.949863",
     "status": "completed"
    },
    "tags": []
   },
   "outputs": [
    {
     "data": {
      "image/png": "[encoded data removed]",
      "text/plain": [
       "<Figure size 640x480 with 1 Axes>"
      ]
     },
     "metadata": {},
     "output_type": "display_data"
    }
   ],
   "source": [
    "results_df = pd.DataFrame(grid.cv_results_)\n",
    "plt.plot(results_df[[\"param_n_estimators\", \"mean_test_score\"]].groupby(\"param_n_estimators\").max())\n",
    "\n",
    "plt.xlabel('number of estimators')\n",
    "plt.ylabel('test f1 score')\n",
    "plt.title('number of estimators vs f1')\n",
    "plt.show()"
   ]
  },
  {
   "cell_type": "markdown",
   "id": "d7f5f5dd",
   "metadata": {
    "papermill": {
     "duration": 0.021668,
     "end_time": "2023-12-06T13:14:19.215110",
     "exception": false,
     "start_time": "2023-12-06T13:14:19.193442",
     "status": "completed"
    },
    "tags": []
   },
   "source": [
    "# KNN"
   ]
  },
  {
   "cell_type": "code",
   "execution_count": 28,
   "id": "86a8df76",
   "metadata": {
    "execution": {
     "iopub.execute_input": "2023-12-06T13:14:19.260506Z",
     "iopub.status.busy": "2023-12-06T13:14:19.260066Z",
     "iopub.status.idle": "2023-12-06T13:15:13.466839Z",
     "shell.execute_reply": "2023-12-06T13:15:13.465415Z"
    },
    "papermill": {
     "duration": 54.251039,
     "end_time": "2023-12-06T13:15:13.488114",
     "exception": false,
     "start_time": "2023-12-06T13:14:19.237075",
     "status": "completed"
    },
    "tags": []
   },
   "outputs": [
    {
     "data": {
      "text/html": [
       "<style>#sk-container-id-5 {color: black;background-color: white;}#sk-container-id-5 pre{padding: 0;}#sk-container-id-5 div.sk-toggleable {background-color: white;}#sk-container-id-5 label.sk-toggleable__label {cursor: pointer;display: block;width: 100%;margin-bottom: 0;padding: 0.3em;box-sizing: border-box;text-align: center;}#sk-container-id-5 label.sk-toggleable__label-arrow:before {content: \"▸\";float: left;margin-right: 0.25em;color: #696969;}#sk-container-id-5 label.sk-toggleable__label-arrow:hover:before {color: black;}#sk-container-id-5 div.sk-estimator:hover label.sk-toggleable__label-arrow:before {color: black;}#sk-container-id-5 div.sk-toggleable__content {max-height: 0;max-width: 0;overflow: hidden;text-align: left;background-color: #f0f8ff;}#sk-container-id-5 div.sk-toggleable__content pre {margin: 0.2em;color: black;border-radius: 0.25em;background-color: #f0f8ff;}#sk-container-id-5 input.sk-toggleable__control:checked~div.sk-toggleable__content {max-height: 200px;max-width: 100%;overflow: auto;}#sk-container-id-5 input.sk-toggleable__control:checked~label.sk-toggleable__label-arrow:before {content: \"▾\";}#sk-container-id-5 div.sk-estimator input.sk-toggleable__control:checked~label.sk-toggleable__label {background-color: #d4ebff;}#sk-container-id-5 div.sk-label input.sk-toggleable__control:checked~label.sk-toggleable__label {background-color: #d4ebff;}#sk-container-id-5 input.sk-hidden--visually {border: 0;clip: rect(1px 1px 1px 1px);clip: rect(1px, 1px, 1px, 1px);height: 1px;margin: -1px;overflow: hidden;padding: 0;position: absolute;width: 1px;}#sk-container-id-5 div.sk-estimator {font-family: monospace;background-color: #f0f8ff;border: 1px dotted black;border-radius: 0.25em;box-sizing: border-box;margin-bottom: 0.5em;}#sk-container-id-5 div.sk-estimator:hover {background-color: #d4ebff;}#sk-container-id-5 div.sk-parallel-item::after {content: \"\";width: 100%;border-bottom: 1px solid gray;flex-grow: 1;}#sk-container-id-5 div.sk-label:hover label.sk-toggleable__label {background-color: #d4ebff;}#sk-container-id-5 div.sk-serial::before {content: \"\";position: absolute;border-left: 1px solid gray;box-sizing: border-box;top: 0;bottom: 0;left: 50%;z-index: 0;}#sk-container-id-5 div.sk-serial {display: flex;flex-direction: column;align-items: center;background-color: white;padding-right: 0.2em;padding-left: 0.2em;position: relative;}#sk-container-id-5 div.sk-item {position: relative;z-index: 1;}#sk-container-id-5 div.sk-parallel {display: flex;align-items: stretch;justify-content: center;background-color: white;position: relative;}#sk-container-id-5 div.sk-item::before, #sk-container-id-5 div.sk-parallel-item::before {content: \"\";position: absolute;border-left: 1px solid gray;box-sizing: border-box;top: 0;bottom: 0;left: 50%;z-index: -1;}#sk-container-id-5 div.sk-parallel-item {display: flex;flex-direction: column;z-index: 1;position: relative;background-color: white;}#sk-container-id-5 div.sk-parallel-item:first-child::after {align-self: flex-end;width: 50%;}#sk-container-id-5 div.sk-parallel-item:last-child::after {align-self: flex-start;width: 50%;}#sk-container-id-5 div.sk-parallel-item:only-child::after {width: 0;}#sk-container-id-5 div.sk-dashed-wrapped {border: 1px dashed gray;margin: 0 0.4em 0.5em 0.4em;box-sizing: border-box;padding-bottom: 0.4em;background-color: white;}#sk-container-id-5 div.sk-label label {font-family: monospace;font-weight: bold;display: inline-block;line-height: 1.2em;}#sk-container-id-5 div.sk-label-container {text-align: center;}#sk-container-id-5 div.sk-container {/* jupyter's `normalize.less` sets `[hidden] { display: none; }` but bootstrap.min.css set `[hidden] { display: none !important; }` so we also need the `!important` here to be able to override the default hidden behavior on the sphinx rendered scikit-learn.org. See: https://github.com/scikit-learn/scikit-learn/issues/21755 */display: inline-block !important;position: relative;}#sk-container-id-5 div.sk-text-repr-fallback {display: none;}</style><div id=\"sk-container-id-5\" class=\"sk-top-container\"><div class=\"sk-text-repr-fallback\"><pre>GridSearchCV(cv=5,\n",
       "             estimator=BaggingClassifier(estimator=KNeighborsClassifier(),\n",
       "                                         max_samples=0.5),\n",
       "             n_jobs=-1,\n",
       "             param_grid={&#x27;n_estimators&#x27;: array([ 10,  20,  30,  40,  50,  60,  70,  80,  90, 100, 110, 120])},\n",
       "             scoring=&#x27;f1&#x27;)</pre><b>In a Jupyter environment, please rerun this cell to show the HTML representation or trust the notebook. <br />On GitHub, the HTML representation is unable to render, please try loading this page with nbviewer.org.</b></div><div class=\"sk-container\" hidden><div class=\"sk-item sk-dashed-wrapped\"><div class=\"sk-label-container\"><div class=\"sk-label sk-toggleable\"><input class=\"sk-toggleable__control sk-hidden--visually\" id=\"sk-estimator-id-14\" type=\"checkbox\" ><label for=\"sk-estimator-id-14\" class=\"sk-toggleable__label sk-toggleable__label-arrow\">GridSearchCV</label><div class=\"sk-toggleable__content\"><pre>GridSearchCV(cv=5,\n",
       "             estimator=BaggingClassifier(estimator=KNeighborsClassifier(),\n",
       "                                         max_samples=0.5),\n",
       "             n_jobs=-1,\n",
       "             param_grid={&#x27;n_estimators&#x27;: array([ 10,  20,  30,  40,  50,  60,  70,  80,  90, 100, 110, 120])},\n",
       "             scoring=&#x27;f1&#x27;)</pre></div></div></div><div class=\"sk-parallel\"><div class=\"sk-parallel-item\"><div class=\"sk-item\"><div class=\"sk-label-container\"><div class=\"sk-label sk-toggleable\"><input class=\"sk-toggleable__control sk-hidden--visually\" id=\"sk-estimator-id-15\" type=\"checkbox\" ><label for=\"sk-estimator-id-15\" class=\"sk-toggleable__label sk-toggleable__label-arrow\">estimator: BaggingClassifier</label><div class=\"sk-toggleable__content\"><pre>BaggingClassifier(estimator=KNeighborsClassifier(), max_samples=0.5)</pre></div></div></div><div class=\"sk-serial\"><div class=\"sk-item sk-dashed-wrapped\"><div class=\"sk-parallel\"><div class=\"sk-parallel-item\"><div class=\"sk-item\"><div class=\"sk-label-container\"><div class=\"sk-label sk-toggleable\"><input class=\"sk-toggleable__control sk-hidden--visually\" id=\"sk-estimator-id-16\" type=\"checkbox\" ><label for=\"sk-estimator-id-16\" class=\"sk-toggleable__label sk-toggleable__label-arrow\">estimator: KNeighborsClassifier</label><div class=\"sk-toggleable__content\"><pre>KNeighborsClassifier()</pre></div></div></div><div class=\"sk-serial\"><div class=\"sk-item\"><div class=\"sk-estimator sk-toggleable\"><input class=\"sk-toggleable__control sk-hidden--visually\" id=\"sk-estimator-id-17\" type=\"checkbox\" ><label for=\"sk-estimator-id-17\" class=\"sk-toggleable__label sk-toggleable__label-arrow\">KNeighborsClassifier</label><div class=\"sk-toggleable__content\"><pre>KNeighborsClassifier()</pre></div></div></div></div></div></div></div></div></div></div></div></div></div></div></div>"
      ],
      "text/plain": [
       "GridSearchCV(cv=5,\n",
       "             estimator=BaggingClassifier(estimator=KNeighborsClassifier(),\n",
       "                                         max_samples=0.5),\n",
       "             n_jobs=-1,\n",
       "             param_grid={'n_estimators': array([ 10,  20,  30,  40,  50,  60,  70,  80,  90, 100, 110, 120])},\n",
       "             scoring='f1')"
      ]
     },
     "execution_count": 28,
     "metadata": {},
     "output_type": "execute_result"
    }
   ],
   "source": [
    "from sklearn.model_selection import GridSearchCV\n",
    "\n",
    "params={\"n_estimators\": np.arange(10, 121, 10)} \n",
    "\n",
    "grid = GridSearchCV(bagging_knn, params, cv=5, scoring=\"f1\", n_jobs=-1) \n",
    "grid.fit(X_train, y_train)"
   ]
  },
  {
   "cell_type": "code",
   "execution_count": 29,
   "id": "9d51c4d8",
   "metadata": {
    "execution": {
     "iopub.execute_input": "2023-12-06T13:15:13.533337Z",
     "iopub.status.busy": "2023-12-06T13:15:13.532933Z",
     "iopub.status.idle": "2023-12-06T13:15:13.538457Z",
     "shell.execute_reply": "2023-12-06T13:15:13.537235Z"
    },
    "papermill": {
     "duration": 0.031216,
     "end_time": "2023-12-06T13:15:13.540169",
     "exception": false,
     "start_time": "2023-12-06T13:15:13.508953",
     "status": "completed"
    },
    "tags": []
   },
   "outputs": [
    {
     "name": "stdout",
     "output_type": "stream",
     "text": [
      "{'n_estimators': 100}\n",
      "0.8003615737920912\n"
     ]
    }
   ],
   "source": [
    "print(grid.best_params_)\n",
    "print(grid.best_score_)"
   ]
  },
  {
   "cell_type": "code",
   "execution_count": 30,
   "id": "212e3681",
   "metadata": {
    "execution": {
     "iopub.execute_input": "2023-12-06T13:15:13.583807Z",
     "iopub.status.busy": "2023-12-06T13:15:13.583506Z",
     "iopub.status.idle": "2023-12-06T13:15:13.769870Z",
     "shell.execute_reply": "2023-12-06T13:15:13.768739Z"
    },
    "papermill": {
     "duration": 0.210449,
     "end_time": "2023-12-06T13:15:13.771712",
     "exception": false,
     "start_time": "2023-12-06T13:15:13.561263",
     "status": "completed"
    },
    "tags": []
   },
   "outputs": [
    {
     "data": {
      "image/png": "[encoded data removed]",
      "text/plain": [
       "<Figure size 640x480 with 1 Axes>"
      ]
     },
     "metadata": {},
     "output_type": "display_data"
    }
   ],
   "source": [
    "results_df = pd.DataFrame(grid.cv_results_)\n",
    "plt.plot(results_df[[\"param_n_estimators\", \"mean_test_score\"]].groupby(\"param_n_estimators\").max())\n",
    "\n",
    "plt.xlabel('number of estimators')\n",
    "plt.ylabel('test f1 score')\n",
    "plt.title('number of estimators vs f1')\n",
    "plt.show()"
   ]
  },
  {
   "cell_type": "markdown",
   "id": "e8f031a4",
   "metadata": {
    "papermill": {
     "duration": 0.021732,
     "end_time": "2023-12-06T13:15:13.815265",
     "exception": false,
     "start_time": "2023-12-06T13:15:13.793533",
     "status": "completed"
    },
    "tags": []
   },
   "source": [
    "To sum up, we see that bagging models give us pretty decent score, but they can't surpass the MLP models, let's now see how will boosting work in our example\n"
   ]
  },
  {
   "cell_type": "code",
   "execution_count": 31,
   "id": "704ed574",
   "metadata": {
    "execution": {
     "iopub.execute_input": "2023-12-06T13:15:13.860060Z",
     "iopub.status.busy": "2023-12-06T13:15:13.859719Z",
     "iopub.status.idle": "2023-12-06T13:15:15.435982Z",
     "shell.execute_reply": "2023-12-06T13:15:15.434863Z"
    },
    "papermill": {
     "duration": 1.601097,
     "end_time": "2023-12-06T13:15:15.437920",
     "exception": false,
     "start_time": "2023-12-06T13:15:13.836823",
     "status": "completed"
    },
    "tags": []
   },
   "outputs": [
    {
     "data": {
      "text/html": [
       "<style>#sk-container-id-6 {color: black;background-color: white;}#sk-container-id-6 pre{padding: 0;}#sk-container-id-6 div.sk-toggleable {background-color: white;}#sk-container-id-6 label.sk-toggleable__label {cursor: pointer;display: block;width: 100%;margin-bottom: 0;padding: 0.3em;box-sizing: border-box;text-align: center;}#sk-container-id-6 label.sk-toggleable__label-arrow:before {content: \"▸\";float: left;margin-right: 0.25em;color: #696969;}#sk-container-id-6 label.sk-toggleable__label-arrow:hover:before {color: black;}#sk-container-id-6 div.sk-estimator:hover label.sk-toggleable__label-arrow:before {color: black;}#sk-container-id-6 div.sk-toggleable__content {max-height: 0;max-width: 0;overflow: hidden;text-align: left;background-color: #f0f8ff;}#sk-container-id-6 div.sk-toggleable__content pre {margin: 0.2em;color: black;border-radius: 0.25em;background-color: #f0f8ff;}#sk-container-id-6 input.sk-toggleable__control:checked~div.sk-toggleable__content {max-height: 200px;max-width: 100%;overflow: auto;}#sk-container-id-6 input.sk-toggleable__control:checked~label.sk-toggleable__label-arrow:before {content: \"▾\";}#sk-container-id-6 div.sk-estimator input.sk-toggleable__control:checked~label.sk-toggleable__label {background-color: #d4ebff;}#sk-container-id-6 div.sk-label input.sk-toggleable__control:checked~label.sk-toggleable__label {background-color: #d4ebff;}#sk-container-id-6 input.sk-hidden--visually {border: 0;clip: rect(1px 1px 1px 1px);clip: rect(1px, 1px, 1px, 1px);height: 1px;margin: -1px;overflow: hidden;padding: 0;position: absolute;width: 1px;}#sk-container-id-6 div.sk-estimator {font-family: monospace;background-color: #f0f8ff;border: 1px dotted black;border-radius: 0.25em;box-sizing: border-box;margin-bottom: 0.5em;}#sk-container-id-6 div.sk-estimator:hover {background-color: #d4ebff;}#sk-container-id-6 div.sk-parallel-item::after {content: \"\";width: 100%;border-bottom: 1px solid gray;flex-grow: 1;}#sk-container-id-6 div.sk-label:hover label.sk-toggleable__label {background-color: #d4ebff;}#sk-container-id-6 div.sk-serial::before {content: \"\";position: absolute;border-left: 1px solid gray;box-sizing: border-box;top: 0;bottom: 0;left: 50%;z-index: 0;}#sk-container-id-6 div.sk-serial {display: flex;flex-direction: column;align-items: center;background-color: white;padding-right: 0.2em;padding-left: 0.2em;position: relative;}#sk-container-id-6 div.sk-item {position: relative;z-index: 1;}#sk-container-id-6 div.sk-parallel {display: flex;align-items: stretch;justify-content: center;background-color: white;position: relative;}#sk-container-id-6 div.sk-item::before, #sk-container-id-6 div.sk-parallel-item::before {content: \"\";position: absolute;border-left: 1px solid gray;box-sizing: border-box;top: 0;bottom: 0;left: 50%;z-index: -1;}#sk-container-id-6 div.sk-parallel-item {display: flex;flex-direction: column;z-index: 1;position: relative;background-color: white;}#sk-container-id-6 div.sk-parallel-item:first-child::after {align-self: flex-end;width: 50%;}#sk-container-id-6 div.sk-parallel-item:last-child::after {align-self: flex-start;width: 50%;}#sk-container-id-6 div.sk-parallel-item:only-child::after {width: 0;}#sk-container-id-6 div.sk-dashed-wrapped {border: 1px dashed gray;margin: 0 0.4em 0.5em 0.4em;box-sizing: border-box;padding-bottom: 0.4em;background-color: white;}#sk-container-id-6 div.sk-label label {font-family: monospace;font-weight: bold;display: inline-block;line-height: 1.2em;}#sk-container-id-6 div.sk-label-container {text-align: center;}#sk-container-id-6 div.sk-container {/* jupyter's `normalize.less` sets `[hidden] { display: none; }` but bootstrap.min.css set `[hidden] { display: none !important; }` so we also need the `!important` here to be able to override the default hidden behavior on the sphinx rendered scikit-learn.org. See: https://github.com/scikit-learn/scikit-learn/issues/21755 */display: inline-block !important;position: relative;}#sk-container-id-6 div.sk-text-repr-fallback {display: none;}</style><div id=\"sk-container-id-6\" class=\"sk-top-container\"><div class=\"sk-text-repr-fallback\"><pre>GradientBoostingClassifier(random_state=54)</pre><b>In a Jupyter environment, please rerun this cell to show the HTML representation or trust the notebook. <br />On GitHub, the HTML representation is unable to render, please try loading this page with nbviewer.org.</b></div><div class=\"sk-container\" hidden><div class=\"sk-item\"><div class=\"sk-estimator sk-toggleable\"><input class=\"sk-toggleable__control sk-hidden--visually\" id=\"sk-estimator-id-18\" type=\"checkbox\" checked><label for=\"sk-estimator-id-18\" class=\"sk-toggleable__label sk-toggleable__label-arrow\">GradientBoostingClassifier</label><div class=\"sk-toggleable__content\"><pre>GradientBoostingClassifier(random_state=54)</pre></div></div></div></div></div>"
      ],
      "text/plain": [
       "GradientBoostingClassifier(random_state=54)"
      ]
     },
     "execution_count": 31,
     "metadata": {},
     "output_type": "execute_result"
    }
   ],
   "source": [
    "from sklearn.ensemble import GradientBoostingClassifier\n",
    "gb = GradientBoostingClassifier(random_state=54)\n",
    "gb.fit(X_train, y_train)\n"
   ]
  },
  {
   "cell_type": "code",
   "execution_count": 32,
   "id": "0696e278",
   "metadata": {
    "execution": {
     "iopub.execute_input": "2023-12-06T13:15:15.484918Z",
     "iopub.status.busy": "2023-12-06T13:15:15.483587Z",
     "iopub.status.idle": "2023-12-06T13:15:15.498690Z",
     "shell.execute_reply": "2023-12-06T13:15:15.497247Z"
    },
    "papermill": {
     "duration": 0.040837,
     "end_time": "2023-12-06T13:15:15.500827",
     "exception": false,
     "start_time": "2023-12-06T13:15:15.459990",
     "status": "completed"
    },
    "tags": []
   },
   "outputs": [
    {
     "name": "stdout",
     "output_type": "stream",
     "text": [
      "F1-score: 0.8313425704730053\n"
     ]
    }
   ],
   "source": [
    "y_pred = gb.predict(X_valid)\n",
    "print('F1-score:', f1_score(y_valid, y_pred))"
   ]
  },
  {
   "cell_type": "markdown",
   "id": "1fa6c51e",
   "metadata": {
    "papermill": {
     "duration": 0.023745,
     "end_time": "2023-12-06T13:15:15.547756",
     "exception": false,
     "start_time": "2023-12-06T13:15:15.524011",
     "status": "completed"
    },
    "tags": []
   },
   "source": [
    "This is our best result yet, even surpassing the mlp model, let's now tune the n_estimators to see if we can improve this result"
   ]
  },
  {
   "cell_type": "code",
   "execution_count": 33,
   "id": "3fd18de4",
   "metadata": {
    "execution": {
     "iopub.execute_input": "2023-12-06T13:15:15.595826Z",
     "iopub.status.busy": "2023-12-06T13:15:15.594513Z",
     "iopub.status.idle": "2023-12-06T13:16:53.621094Z",
     "shell.execute_reply": "2023-12-06T13:16:53.620497Z"
    },
    "papermill": {
     "duration": 98.07501,
     "end_time": "2023-12-06T13:16:53.645456",
     "exception": false,
     "start_time": "2023-12-06T13:15:15.570446",
     "status": "completed"
    },
    "tags": []
   },
   "outputs": [
    {
     "data": {
      "text/html": [
       "<style>#sk-container-id-7 {color: black;background-color: white;}#sk-container-id-7 pre{padding: 0;}#sk-container-id-7 div.sk-toggleable {background-color: white;}#sk-container-id-7 label.sk-toggleable__label {cursor: pointer;display: block;width: 100%;margin-bottom: 0;padding: 0.3em;box-sizing: border-box;text-align: center;}#sk-container-id-7 label.sk-toggleable__label-arrow:before {content: \"▸\";float: left;margin-right: 0.25em;color: #696969;}#sk-container-id-7 label.sk-toggleable__label-arrow:hover:before {color: black;}#sk-container-id-7 div.sk-estimator:hover label.sk-toggleable__label-arrow:before {color: black;}#sk-container-id-7 div.sk-toggleable__content {max-height: 0;max-width: 0;overflow: hidden;text-align: left;background-color: #f0f8ff;}#sk-container-id-7 div.sk-toggleable__content pre {margin: 0.2em;color: black;border-radius: 0.25em;background-color: #f0f8ff;}#sk-container-id-7 input.sk-toggleable__control:checked~div.sk-toggleable__content {max-height: 200px;max-width: 100%;overflow: auto;}#sk-container-id-7 input.sk-toggleable__control:checked~label.sk-toggleable__label-arrow:before {content: \"▾\";}#sk-container-id-7 div.sk-estimator input.sk-toggleable__control:checked~label.sk-toggleable__label {background-color: #d4ebff;}#sk-container-id-7 div.sk-label input.sk-toggleable__control:checked~label.sk-toggleable__label {background-color: #d4ebff;}#sk-container-id-7 input.sk-hidden--visually {border: 0;clip: rect(1px 1px 1px 1px);clip: rect(1px, 1px, 1px, 1px);height: 1px;margin: -1px;overflow: hidden;padding: 0;position: absolute;width: 1px;}#sk-container-id-7 div.sk-estimator {font-family: monospace;background-color: #f0f8ff;border: 1px dotted black;border-radius: 0.25em;box-sizing: border-box;margin-bottom: 0.5em;}#sk-container-id-7 div.sk-estimator:hover {background-color: #d4ebff;}#sk-container-id-7 div.sk-parallel-item::after {content: \"\";width: 100%;border-bottom: 1px solid gray;flex-grow: 1;}#sk-container-id-7 div.sk-label:hover label.sk-toggleable__label {background-color: #d4ebff;}#sk-container-id-7 div.sk-serial::before {content: \"\";position: absolute;border-left: 1px solid gray;box-sizing: border-box;top: 0;bottom: 0;left: 50%;z-index: 0;}#sk-container-id-7 div.sk-serial {display: flex;flex-direction: column;align-items: center;background-color: white;padding-right: 0.2em;padding-left: 0.2em;position: relative;}#sk-container-id-7 div.sk-item {position: relative;z-index: 1;}#sk-container-id-7 div.sk-parallel {display: flex;align-items: stretch;justify-content: center;background-color: white;position: relative;}#sk-container-id-7 div.sk-item::before, #sk-container-id-7 div.sk-parallel-item::before {content: \"\";position: absolute;border-left: 1px solid gray;box-sizing: border-box;top: 0;bottom: 0;left: 50%;z-index: -1;}#sk-container-id-7 div.sk-parallel-item {display: flex;flex-direction: column;z-index: 1;position: relative;background-color: white;}#sk-container-id-7 div.sk-parallel-item:first-child::after {align-self: flex-end;width: 50%;}#sk-container-id-7 div.sk-parallel-item:last-child::after {align-self: flex-start;width: 50%;}#sk-container-id-7 div.sk-parallel-item:only-child::after {width: 0;}#sk-container-id-7 div.sk-dashed-wrapped {border: 1px dashed gray;margin: 0 0.4em 0.5em 0.4em;box-sizing: border-box;padding-bottom: 0.4em;background-color: white;}#sk-container-id-7 div.sk-label label {font-family: monospace;font-weight: bold;display: inline-block;line-height: 1.2em;}#sk-container-id-7 div.sk-label-container {text-align: center;}#sk-container-id-7 div.sk-container {/* jupyter's `normalize.less` sets `[hidden] { display: none; }` but bootstrap.min.css set `[hidden] { display: none !important; }` so we also need the `!important` here to be able to override the default hidden behavior on the sphinx rendered scikit-learn.org. See: https://github.com/scikit-learn/scikit-learn/issues/21755 */display: inline-block !important;position: relative;}#sk-container-id-7 div.sk-text-repr-fallback {display: none;}</style><div id=\"sk-container-id-7\" class=\"sk-top-container\"><div class=\"sk-text-repr-fallback\"><pre>GridSearchCV(cv=5, estimator=GradientBoostingClassifier(random_state=54),\n",
       "             n_jobs=-1,\n",
       "             param_grid={&#x27;n_estimators&#x27;: array([ 10,  20,  30,  40,  50,  60,  70,  80,  90, 100, 110, 120, 130,\n",
       "       140, 150, 160, 170, 180, 190, 200, 210, 220, 230, 240, 250, 260,\n",
       "       270, 280, 290, 300])},\n",
       "             scoring=&#x27;f1&#x27;)</pre><b>In a Jupyter environment, please rerun this cell to show the HTML representation or trust the notebook. <br />On GitHub, the HTML representation is unable to render, please try loading this page with nbviewer.org.</b></div><div class=\"sk-container\" hidden><div class=\"sk-item sk-dashed-wrapped\"><div class=\"sk-label-container\"><div class=\"sk-label sk-toggleable\"><input class=\"sk-toggleable__control sk-hidden--visually\" id=\"sk-estimator-id-19\" type=\"checkbox\" ><label for=\"sk-estimator-id-19\" class=\"sk-toggleable__label sk-toggleable__label-arrow\">GridSearchCV</label><div class=\"sk-toggleable__content\"><pre>GridSearchCV(cv=5, estimator=GradientBoostingClassifier(random_state=54),\n",
       "             n_jobs=-1,\n",
       "             param_grid={&#x27;n_estimators&#x27;: array([ 10,  20,  30,  40,  50,  60,  70,  80,  90, 100, 110, 120, 130,\n",
       "       140, 150, 160, 170, 180, 190, 200, 210, 220, 230, 240, 250, 260,\n",
       "       270, 280, 290, 300])},\n",
       "             scoring=&#x27;f1&#x27;)</pre></div></div></div><div class=\"sk-parallel\"><div class=\"sk-parallel-item\"><div class=\"sk-item\"><div class=\"sk-label-container\"><div class=\"sk-label sk-toggleable\"><input class=\"sk-toggleable__control sk-hidden--visually\" id=\"sk-estimator-id-20\" type=\"checkbox\" ><label for=\"sk-estimator-id-20\" class=\"sk-toggleable__label sk-toggleable__label-arrow\">estimator: GradientBoostingClassifier</label><div class=\"sk-toggleable__content\"><pre>GradientBoostingClassifier(random_state=54)</pre></div></div></div><div class=\"sk-serial\"><div class=\"sk-item\"><div class=\"sk-estimator sk-toggleable\"><input class=\"sk-toggleable__control sk-hidden--visually\" id=\"sk-estimator-id-21\" type=\"checkbox\" ><label for=\"sk-estimator-id-21\" class=\"sk-toggleable__label sk-toggleable__label-arrow\">GradientBoostingClassifier</label><div class=\"sk-toggleable__content\"><pre>GradientBoostingClassifier(random_state=54)</pre></div></div></div></div></div></div></div></div></div></div>"
      ],
      "text/plain": [
       "GridSearchCV(cv=5, estimator=GradientBoostingClassifier(random_state=54),\n",
       "             n_jobs=-1,\n",
       "             param_grid={'n_estimators': array([ 10,  20,  30,  40,  50,  60,  70,  80,  90, 100, 110, 120, 130,\n",
       "       140, 150, 160, 170, 180, 190, 200, 210, 220, 230, 240, 250, 260,\n",
       "       270, 280, 290, 300])},\n",
       "             scoring='f1')"
      ]
     },
     "execution_count": 33,
     "metadata": {},
     "output_type": "execute_result"
    }
   ],
   "source": [
    "from sklearn.model_selection import GridSearchCV\n",
    "\n",
    "params={\"n_estimators\": np.arange(10, 301, 10)} \n",
    "\n",
    "grid = GridSearchCV(gb, params, cv=5, scoring=\"f1\", n_jobs=-1) \n",
    "grid.fit(X_train, y_train)"
   ]
  },
  {
   "cell_type": "code",
   "execution_count": 34,
   "id": "a31b934e",
   "metadata": {
    "execution": {
     "iopub.execute_input": "2023-12-06T13:16:53.693193Z",
     "iopub.status.busy": "2023-12-06T13:16:53.692654Z",
     "iopub.status.idle": "2023-12-06T13:16:53.696898Z",
     "shell.execute_reply": "2023-12-06T13:16:53.695864Z"
    },
    "papermill": {
     "duration": 0.031453,
     "end_time": "2023-12-06T13:16:53.698923",
     "exception": false,
     "start_time": "2023-12-06T13:16:53.667470",
     "status": "completed"
    },
    "tags": []
   },
   "outputs": [
    {
     "name": "stdout",
     "output_type": "stream",
     "text": [
      "{'n_estimators': 240}\n",
      "0.8526829836561284\n"
     ]
    }
   ],
   "source": [
    "print(grid.best_params_)\n",
    "print(grid.best_score_)"
   ]
  },
  {
   "cell_type": "code",
   "execution_count": 35,
   "id": "1cccccc1",
   "metadata": {
    "execution": {
     "iopub.execute_input": "2023-12-06T13:16:53.747036Z",
     "iopub.status.busy": "2023-12-06T13:16:53.746690Z",
     "iopub.status.idle": "2023-12-06T13:16:53.960621Z",
     "shell.execute_reply": "2023-12-06T13:16:53.959323Z"
    },
    "papermill": {
     "duration": 0.241204,
     "end_time": "2023-12-06T13:16:53.963063",
     "exception": false,
     "start_time": "2023-12-06T13:16:53.721859",
     "status": "completed"
    },
    "tags": []
   },
   "outputs": [
    {
     "data": {
      "image/png": "[encoded data removed]",
      "text/plain": [
       "<Figure size 640x480 with 1 Axes>"
      ]
     },
     "metadata": {},
     "output_type": "display_data"
    }
   ],
   "source": [
    "results_df = pd.DataFrame(grid.cv_results_)\n",
    "plt.plot(results_df[[\"param_n_estimators\", \"mean_test_score\"]].groupby(\"param_n_estimators\").max())\n",
    "\n",
    "plt.xlabel('number of estimators')\n",
    "plt.ylabel('test f1 score')\n",
    "plt.title('number of estimators vs f1')\n",
    "plt.show()"
   ]
  },
  {
   "cell_type": "markdown",
   "id": "ec472218",
   "metadata": {
    "papermill": {
     "duration": 0.024839,
     "end_time": "2023-12-06T13:16:54.011288",
     "exception": false,
     "start_time": "2023-12-06T13:16:53.986449",
     "status": "completed"
    },
    "tags": []
   },
   "source": [
    "This is the best performing model yet, giving us 0.852 f1 score, we can also see than increasing the number of estimators really helped us until one moment at about 240, when it became pretty much constant"
   ]
  },
  {
   "cell_type": "markdown",
   "id": "3293ac65",
   "metadata": {
    "papermill": {
     "duration": 0.023,
     "end_time": "2023-12-06T13:16:54.057412",
     "exception": false,
     "start_time": "2023-12-06T13:16:54.034412",
     "status": "completed"
    },
    "tags": []
   },
   "source": [
    "Alright, to sum up all of our labs, the most performing model is gradient boosting, then it's MLP classifier(neural network basically),this might be connected to various factors, firstly, the MLP model presented in sklearn is not very convenient, we can't customize different layers, change the activation functions, ect. Secondly, our dataset is considered to be pretty small for training the neural network. Thirdly, neural network overall might be kind of an overkill for our task, because it's not so complex."
   ]
  }
 ],
 "metadata": {
  "kaggle": {
   "accelerator": "none",
   "dataSources": [
    {
     "datasetId": 4471,
     "sourceId": 6849,
     "sourceType": "datasetVersion"
    }
   ],
   "dockerImageVersionId": 30587,
   "isGpuEnabled": false,
   "isInternetEnabled": true,
   "language": "python",
   "sourceType": "notebook"
  },
  "kernelspec": {
   "display_name": "Python 3",
   "language": "python",
   "name": "python3"
  },
  "language_info": {
   "codemirror_mode": {
    "name": "ipython",
    "version": 3
   },
   "file_extension": ".py",
   "mimetype": "text/x-python",
   "name": "python",
   "nbconvert_exporter": "python",
   "pygments_lexer": "ipython3",
   "version": "3.10.12"
  },
  "papermill": {
   "default_parameters": {},
   "duration": 590.949182,
   "end_time": "2023-12-06T13:16:56.704300",
   "environment_variables": {},
   "exception": null,
   "input_path": "__notebook__.ipynb",
   "output_path": "__notebook__.ipynb",
   "parameters": {},
   "start_time": "2023-12-06T13:07:05.755118",
   "version": "2.4.0"
  }
 },
 "nbformat": 4,
 "nbformat_minor": 5
}
